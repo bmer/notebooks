{
 "cells": [
  {
   "cell_type": "markdown",
   "metadata": {},
   "source": [
    "#Automatically initializing instance variables in class definitions\n",
    "\n",
    "One often has to write definitions of Python classes that take several initializing arguments for instance variables. Usually, this looks something like:\n",
    "\n",
    "    class MyClass():\n",
    "        def __init__(self, a, b, c, ...):\n",
    "            self.a = a\n",
    "            self.b = b\n",
    "            self.c = c\n",
    "            ...\n",
    "            \n",
    "In order to automate the process of initializing instance variables, we can use function decorators (see [this]([use function decorators](http://stackoverflow.com/questions/1389180/python-automatically-initialize-instance-variables) StackOverflow answer for further discussion):"
   ]
  },
  {
   "cell_type": "code",
   "execution_count": 2,
   "metadata": {
    "collapsed": true
   },
   "outputs": [],
   "source": [
    "from functools import wraps\n",
    "import inspect\n",
    "\n",
    "def autoinit(init_func):\n",
    "    \"\"\"\n",
    "    Automatically assigns the parameters.\n",
    "\n",
    "    >>> class process:\n",
    "    ...     @initializer\n",
    "    ...     def __init__(self, cmd, reachable=False, user='root'):\n",
    "    ...         pass\n",
    "    >>> p = process('halt', True)\n",
    "    >>> p.cmd, p.reachable, p.user\n",
    "    ('halt', True, 'root')\n",
    "    \"\"\"\n",
    "    names, varargs, keywords, defaults = inspect.getargspec(init_func)\n",
    "\n",
    "    @wraps(init_func)\n",
    "    def wrapper(self, *args, **kargs):\n",
    "        for name, arg in list(zip(names[1:], args)) + list(kargs.items()):\n",
    "            setattr(self, name, arg)\n",
    "\n",
    "        if defaults != None:\n",
    "            for name, default in zip(reversed(names), reversed(defaults)):\n",
    "                if not hasattr(self, name):\n",
    "                    setattr(self, name, default)\n",
    "\n",
    "        init_func(self, *args, **kargs)\n",
    "\n",
    "    return wrapper"
   ]
  },
  {
   "cell_type": "code",
   "execution_count": null,
   "metadata": {
    "collapsed": true
   },
   "outputs": [],
   "source": []
  }
 ],
 "metadata": {
  "kernelspec": {
   "display_name": "Python 2",
   "language": "python",
   "name": "python2"
  },
  "language_info": {
   "codemirror_mode": {
    "name": "ipython",
    "version": 2
   },
   "file_extension": ".py",
   "mimetype": "text/x-python",
   "name": "python",
   "nbconvert_exporter": "python",
   "pygments_lexer": "ipython2",
   "version": "2.7.9"
  }
 },
 "nbformat": 4,
 "nbformat_minor": 0
}
