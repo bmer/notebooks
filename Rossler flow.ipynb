{
 "cells": [
  {
   "cell_type": "code",
   "execution_count": 1,
   "metadata": {
    "collapsed": true
   },
   "outputs": [],
   "source": [
    "from __future__ import division\n",
    "import numpy as np\n",
    "import PyDSTool as dst"
   ]
  },
  {
   "cell_type": "markdown",
   "metadata": {},
   "source": [
    "#Investigating the Rössler attractor using `PyDSTool` and `mpl3d`"
   ]
  },
  {
   "cell_type": "markdown",
   "metadata": {},
   "source": [
    "I'll start off by presenting a function that is nice to have in many scenarios, as it neatly bundles up the creation of a `PyDSTool` dynamical system."
   ]
  },
  {
   "cell_type": "code",
   "execution_count": null,
   "metadata": {
    "collapsed": true
   },
   "outputs": [],
   "source": [
    "def build_sys(gentype, sys_name, pars, varspecs, ics, \n",
    "              xname, yname, zname, intdomain, \n",
    "              tdata=[0, 50], algparams=None, events=[], tdomain=None):\n",
    "    # we must give a name\n",
    "    DSargs = dst.args(name=sys_name)\n",
    "\n",
    "    # parameters\n",
    "    DSargs.pars = pars\n",
    "\n",
    "    # rhs of the differential equation\n",
    "    DSargs.varspecs = varspecs\n",
    "\n",
    "    # initial conditions\n",
    "    DSargs.ics = ics\n",
    "\n",
    "    # set the domain of integration.\n",
    "    DSargs.xdomain = intdomain\n",
    "    \n",
    "    if tdomain != None:\n",
    "        print \"Setting generator tdomain: {}\".format(tdomain)\n",
    "        DSargs.tdomain = [0, 1000]\n",
    "    else:\n",
    "        print \"Setting generator tdata: {}\".format(tdata)\n",
    "        DSargs.tdata = tdata\n",
    "\n",
    "    # to avoid typos / bugs, use built-in Symbolic differentation!\n",
    "    f = [DSargs.varspecs[xname], DSargs.varspecs[yname], DSargs.varspecs[zname]]\n",
    "    Df = dst.Diff(f, [xname, yname, zname])\n",
    "    print \"Jacobian: \", str(Df.renderForCode())\n",
    "    DSargs.fnspecs = {'Jacobian': (['t', xname, yname, zname],\n",
    "                                   str(Df.renderForCode()))}\n",
    "\n",
    "    if algparams != None:\n",
    "        DSargs.algparams = algparams\n",
    "\n",
    "    # Make auxiliary functions to define event lines near saddle\n",
    "    res = pp.make_distance_to_line_auxfn('Gamma_out_plus',\n",
    "                                         'Gamma_out_plus_fn',\n",
    "                                         (xname, yname), True)\n",
    "    man_pars = res['pars']\n",
    "    man_auxfns = res['auxfn']\n",
    "    res = pp.make_distance_to_line_auxfn('Gamma_out_minus',\n",
    "                                         'Gamma_out_minus_fn',\n",
    "                                         (xname, yname), True)\n",
    "    man_pars.extend(res['pars'])\n",
    "    man_auxfns.update(res['auxfn'])\n",
    "\n",
    "    # update param values with defaults (0)\n",
    "    for p in man_pars:\n",
    "        DSargs.pars[p] = 0\n",
    "\n",
    "    if gentype in [dst.Generator.Vode_ODEsystem, dst.Generator.Euler_ODEsystem]:\n",
    "        targetlang = 'python'\n",
    "    else:\n",
    "        targetlang = 'c'\n",
    "\n",
    "    DSargs.fnspecs.update(man_auxfns)\n",
    "    ev_plus = dst.Events.makeZeroCrossEvent(expr='Gamma_out_plus_fn(%s,%s)' % (xname, yname),\n",
    "                                            dircode=0,\n",
    "                                            argDict={'name': 'Gamma_out_plus',\n",
    "                                                     'eventtol': 1e-5,\n",
    "                                                     'eventdelay': 1e-3,\n",
    "                                                     'starttime': 0,\n",
    "                                                     'precise': False,\n",
    "                                                     'active': False,\n",
    "                                                     'term': True},\n",
    "                                            targetlang=targetlang,\n",
    "                                            varnames=[xname, yname],\n",
    "                                            fnspecs=man_auxfns,\n",
    "                                            parnames=man_pars\n",
    "                                            )\n",
    "    ev_minus = dst.Events.makeZeroCrossEvent(expr='Gamma_out_minus_fn(%s,%s)' % (xname, yname),\n",
    "                                             dircode=0,\n",
    "                                             argDict={'name': 'Gamma_out_minus',\n",
    "                                                      'eventtol': 1e-5,\n",
    "                                                      'eventdelay': 1e-3,\n",
    "                                                      'starttime': 0,\n",
    "                                                      'precise': False,\n",
    "                                                      'active': False,\n",
    "                                                      'term': True},\n",
    "                                             targetlang=targetlang,\n",
    "                                             varnames=[xname, yname],\n",
    "                                             fnspecs=man_auxfns,\n",
    "                                             parnames=man_pars\n",
    "                                             )\n",
    "\n",
    "    DSargs.events = [ev_plus, ev_minus] + events\n",
    "    print \"Generating ODE system...\"\n",
    "    return gentype(DSargs), DSargs.fnspecs['Jacobian']"
   ]
  }
 ],
 "metadata": {
  "kernelspec": {
   "display_name": "Python 2",
   "language": "python",
   "name": "python2"
  },
  "language_info": {
   "codemirror_mode": {
    "name": "ipython",
    "version": 2
   },
   "file_extension": ".py",
   "mimetype": "text/x-python",
   "name": "python",
   "nbconvert_exporter": "python",
   "pygments_lexer": "ipython2",
   "version": "2.7.9"
  }
 },
 "nbformat": 4,
 "nbformat_minor": 0
}
