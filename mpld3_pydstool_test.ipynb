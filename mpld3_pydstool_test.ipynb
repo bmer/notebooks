{
 "worksheets": [
  {
   "cells": [
    {
     "cell_type": "heading",
     "metadata": {},
     "level": 1,
     "source": [
      "Using mpld3 along with PyDSTool in an IPython notebook, for graphical and interactive exploration of ODE systems."
     ]
    },
    {
     "cell_type": "markdown",
     "metadata": {},
     "source": [
      "This is a simple test to show how [mpld3](http://mpld3.github.io/) can be used along with [PyDSTool](http://www.ni.gsu.edu/~rclewley/PyDSTool/FrontPage.html) to interactively explore PyDSTool sessions. For a simple \"quickstart\" overview of mpld3, have a look at [this notebook](http://nbviewer.ipython.org/url/jakevdp.github.com/downloads/notebooks/mpld3_plugins.ipynb). "
     ]
    },
    {
     "cell_type": "markdown",
     "metadata": {},
     "source": [
      "I have concerns about whether it will truly be possible to use PyDSTool inside an IPython notebook, especially because of the concerns around removing compiled C integrators (e.g. Radau or Dopri) in order to force PyDSTool to recompile them, after a change has been made to the right hand side of the ODE system. "
     ]
    },
    {
     "cell_type": "markdown",
     "metadata": {},
     "source": [
      "Regardless, here is an attempt to try it out!"
     ]
    },
    {
     "cell_type": "markdown",
     "metadata": {},
     "source": [
      "First, let's see if we can import PyDSTool."
     ]
    },
    {
     "cell_type": "code",
     "metadata": {},
     "outputs": [],
     "input": [
      "import PyDSTool as dst"
     ],
     "language": "python",
     "prompt_number": 1
    },
    {
     "cell_type": "markdown",
     "metadata": {},
     "source": [
      "Success! Now let's see if we can set up a Dopri integrator, because C integrators are likely to be the tricky point. Naturally, we *must* try out the [a simple harmonic oscillator](http://www.ni.gsu.edu/~rclewley/PyDSTool/Tutorial/Tutorial_linear.html). Let's also take the opportunity to show off some of IPython's MathJaX provided math rendering capacity. Recall the ODE system for a simple harmonic oscillator:\n",
      "\n",
      "\\begin{cases}\n",
      "    \\dot{x} = y \\\\\n",
      "    \\dot{y} = -kx/m\n",
      "\\end{cases}\n",
      "\n",
      "I would have liked to use ``\\frac{-kx}{m}``, but the font size was too small to be readable, I think. See:\n",
      "\n",
      "\\begin{cases}\n",
      "    \\dot{x} = y \\\\\n",
      "    \\dot{y} = \\frac{-kx}{m}\n",
      "\\end{cases}\n"
     ]
    },
    {
     "cell_type": "code",
     "metadata": {},
     "outputs": [],
     "input": [
      "icdict = {'x': 1, 'y': 0.4}\n",
      "pardict = {'k': 0.1, 'm': 0.5}\n",
      "vardict = {'x': 'y', 'y': '-k*x/m'}\n",
      "\n",
      "DSargs = dst.args()               # create an empty object instance of the args class, call it DSargs\n",
      "DSargs.name = 'SHM'               # name our model\n",
      "DSargs.ics = icdict               # assign the icdict to the ics attribute\n",
      "DSargs.pars = pardict             # assign the pardict to the pars attribute\n",
      "DSargs.tdata = [0, 20]            # declare how long we expect to integrate for\n",
      "DSargs.varspecs = vardict         # assign the vardict dictionary to the 'varspecs' attribute of DSargs"
     ],
     "language": "python",
     "prompt_number": 8
    },
    {
     "cell_type": "markdown",
     "metadata": {},
     "source": [
      "Now for the moment that we've been waiting for!"
     ]
    },
    {
     "cell_type": "code",
     "metadata": {},
     "outputs": [
      {
       "ename": "UnsupportedOperation",
       "evalue": "IOStream has no fileno.",
       "output_type": "pyerr",
       "traceback": [
        "\u001b[1;31m---------------------------------------------------------------------------\u001b[0m\n\u001b[1;31mUnsupportedOperation\u001b[0m                      Traceback (most recent call last)",
        "\u001b[1;32m<ipython-input-14-4d1665e6e025>\u001b[0m in \u001b[0;36m<module>\u001b[1;34m()\u001b[0m\n\u001b[1;32m----> 1\u001b[1;33m \u001b[0mode_sys\u001b[0m \u001b[1;33m=\u001b[0m \u001b[0mdst\u001b[0m\u001b[1;33m.\u001b[0m\u001b[0mGenerator\u001b[0m\u001b[1;33m.\u001b[0m\u001b[0mDopri_ODEsystem\u001b[0m\u001b[1;33m(\u001b[0m\u001b[0mDSargs\u001b[0m\u001b[1;33m)\u001b[0m\u001b[1;33m\u001b[0m\u001b[0m\n\u001b[0m",
        "\u001b[1;32m/home/brian/anaconda/lib/python2.7/site-packages/PyDSTool-0.90.0-py2.7.egg/PyDSTool/Generator/Dopri_ODEsystem.pyc\u001b[0m in \u001b[0;36m__init__\u001b[1;34m(self, kw)\u001b[0m\n\u001b[0;32m    371\u001b[0m             \u001b[1;32mprint\u001b[0m\u001b[1;33m(\u001b[0m\u001b[1;34m\"stages using the makeLibSource and compileLib methods.\"\u001b[0m\u001b[1;33m)\u001b[0m\u001b[1;33m\u001b[0m\u001b[0m\n\u001b[0;32m    372\u001b[0m         \u001b[1;32melse\u001b[0m\u001b[1;33m:\u001b[0m\u001b[1;33m\u001b[0m\u001b[0m\n\u001b[1;32m--> 373\u001b[1;33m             \u001b[0mself\u001b[0m\u001b[1;33m.\u001b[0m\u001b[0mmakeLib\u001b[0m\u001b[1;33m(\u001b[0m\u001b[1;33m)\u001b[0m\u001b[1;33m\u001b[0m\u001b[0m\n\u001b[0m\u001b[0;32m    374\u001b[0m \u001b[1;33m\u001b[0m\u001b[0m\n\u001b[0;32m    375\u001b[0m     \u001b[1;33m@\u001b[0m\u001b[0mproperty\u001b[0m\u001b[1;33m\u001b[0m\u001b[0m\n",
        "\u001b[1;32m/home/brian/anaconda/lib/python2.7/site-packages/PyDSTool-0.90.0-py2.7.egg/PyDSTool/Generator/mixins.pyc\u001b[0m in \u001b[0;36mmakeLib\u001b[1;34m(self, libsources, libdirs, include)\u001b[0m\n\u001b[0;32m     98\u001b[0m             \u001b[0mself\u001b[0m\u001b[1;33m.\u001b[0m\u001b[0mforceLibRefresh\u001b[0m\u001b[1;33m(\u001b[0m\u001b[1;33m)\u001b[0m\u001b[1;33m\u001b[0m\u001b[0m\n\u001b[0;32m     99\u001b[0m         \u001b[0mself\u001b[0m\u001b[1;33m.\u001b[0m\u001b[0mmakeLibSource\u001b[0m\u001b[1;33m(\u001b[0m\u001b[0minclude\u001b[0m\u001b[1;33m)\u001b[0m\u001b[1;33m\u001b[0m\u001b[0m\n\u001b[1;32m--> 100\u001b[1;33m         \u001b[0mself\u001b[0m\u001b[1;33m.\u001b[0m\u001b[0mcompileLib\u001b[0m\u001b[1;33m(\u001b[0m\u001b[0mlibsources\u001b[0m\u001b[1;33m,\u001b[0m \u001b[0mlibdirs\u001b[0m\u001b[1;33m)\u001b[0m\u001b[1;33m\u001b[0m\u001b[0m\n\u001b[0m\u001b[0;32m    101\u001b[0m \u001b[1;33m\u001b[0m\u001b[0m\n\u001b[0;32m    102\u001b[0m     \u001b[1;33m@\u001b[0m\u001b[0mproperty\u001b[0m\u001b[1;33m\u001b[0m\u001b[0m\n",
        "\u001b[1;32m/home/brian/anaconda/lib/python2.7/site-packages/PyDSTool-0.90.0-py2.7.egg/PyDSTool/Generator/mixins.pyc\u001b[0m in \u001b[0;36mcompileLib\u001b[1;34m(self, libsources, libdirs)\u001b[0m\n\u001b[0;32m     78\u001b[0m           precompiled libraries.\"\"\"\n\u001b[0;32m     79\u001b[0m \u001b[1;33m\u001b[0m\u001b[0m\n\u001b[1;32m---> 80\u001b[1;33m         \u001b[0mself\u001b[0m\u001b[1;33m.\u001b[0m\u001b[0m_builder\u001b[0m\u001b[1;33m.\u001b[0m\u001b[0mbuild\u001b[0m\u001b[1;33m(\u001b[0m\u001b[0mlibsources\u001b[0m\u001b[1;33m,\u001b[0m \u001b[0mlibdirs\u001b[0m\u001b[1;33m,\u001b[0m \u001b[0mself\u001b[0m\u001b[1;33m.\u001b[0m\u001b[0m_compiler\u001b[0m\u001b[1;33m)\u001b[0m\u001b[1;33m\u001b[0m\u001b[0m\n\u001b[0m\u001b[0;32m     81\u001b[0m \u001b[1;33m\u001b[0m\u001b[0m\n\u001b[0;32m     82\u001b[0m     \u001b[1;32mdef\u001b[0m \u001b[0mforceLibRefresh\u001b[0m\u001b[1;33m(\u001b[0m\u001b[0mself\u001b[0m\u001b[1;33m)\u001b[0m\u001b[1;33m:\u001b[0m\u001b[1;33m\u001b[0m\u001b[0m\n",
        "\u001b[1;32m/home/brian/anaconda/lib/python2.7/site-packages/PyDSTool-0.90.0-py2.7.egg/PyDSTool/Generator/mixins.pyc\u001b[0m in \u001b[0;36mbuild\u001b[1;34m(self, libsources, libdirs, compiler)\u001b[0m\n\u001b[0;32m    182\u001b[0m             \u001b[0mlibraries\u001b[0m\u001b[1;33m=\u001b[0m\u001b[0mself\u001b[0m\u001b[1;33m.\u001b[0m\u001b[0mlibs\u001b[0m\u001b[1;33m\u001b[0m\u001b[0m\n\u001b[0;32m    183\u001b[0m         )\n\u001b[1;32m--> 184\u001b[1;33m         \u001b[1;32mwith\u001b[0m \u001b[0mRedirectStdout\u001b[0m\u001b[1;33m(\u001b[0m\u001b[0mos\u001b[0m\u001b[1;33m.\u001b[0m\u001b[0mpath\u001b[0m\u001b[1;33m.\u001b[0m\u001b[0mjoin\u001b[0m\u001b[1;33m(\u001b[0m\u001b[0mself\u001b[0m\u001b[1;33m.\u001b[0m\u001b[0mtempdir\u001b[0m\u001b[1;33m,\u001b[0m \u001b[1;34m'build.log'\u001b[0m\u001b[1;33m)\u001b[0m\u001b[1;33m)\u001b[0m\u001b[1;33m:\u001b[0m\u001b[1;33m\u001b[0m\u001b[0m\n\u001b[0m\u001b[0;32m    185\u001b[0m             setup(name=self.description,\n\u001b[0;32m    186\u001b[0m                   \u001b[0mauthor\u001b[0m\u001b[1;33m=\u001b[0m\u001b[1;34m\"PyDSTool (automatically generated)\"\u001b[0m\u001b[1;33m,\u001b[0m\u001b[1;33m\u001b[0m\u001b[0m\n",
        "\u001b[1;32m/home/brian/anaconda/lib/python2.7/contextlib.pyc\u001b[0m in \u001b[0;36m__enter__\u001b[1;34m(self)\u001b[0m\n\u001b[0;32m     15\u001b[0m     \u001b[1;32mdef\u001b[0m \u001b[0m__enter__\u001b[0m\u001b[1;33m(\u001b[0m\u001b[0mself\u001b[0m\u001b[1;33m)\u001b[0m\u001b[1;33m:\u001b[0m\u001b[1;33m\u001b[0m\u001b[0m\n\u001b[0;32m     16\u001b[0m         \u001b[1;32mtry\u001b[0m\u001b[1;33m:\u001b[0m\u001b[1;33m\u001b[0m\u001b[0m\n\u001b[1;32m---> 17\u001b[1;33m             \u001b[1;32mreturn\u001b[0m \u001b[0mself\u001b[0m\u001b[1;33m.\u001b[0m\u001b[0mgen\u001b[0m\u001b[1;33m.\u001b[0m\u001b[0mnext\u001b[0m\u001b[1;33m(\u001b[0m\u001b[1;33m)\u001b[0m\u001b[1;33m\u001b[0m\u001b[0m\n\u001b[0m\u001b[0;32m     18\u001b[0m         \u001b[1;32mexcept\u001b[0m \u001b[0mStopIteration\u001b[0m\u001b[1;33m:\u001b[0m\u001b[1;33m\u001b[0m\u001b[0m\n\u001b[0;32m     19\u001b[0m             \u001b[1;32mraise\u001b[0m \u001b[0mRuntimeError\u001b[0m\u001b[1;33m(\u001b[0m\u001b[1;34m\"generator didn't yield\"\u001b[0m\u001b[1;33m)\u001b[0m\u001b[1;33m\u001b[0m\u001b[0m\n",
        "\u001b[1;32m/home/brian/anaconda/lib/python2.7/site-packages/PyDSTool-0.90.0-py2.7.egg/PyDSTool/core/context_managers.pyc\u001b[0m in \u001b[0;36m_stdchannel_redirected\u001b[1;34m(stdchannel, dest_filename, mode)\u001b[0m\n\u001b[0;32m     27\u001b[0m             \u001b[1;32myield\u001b[0m \u001b[0miter\u001b[0m\u001b[1;33m(\u001b[0m\u001b[1;33m[\u001b[0m\u001b[0mNone\u001b[0m\u001b[1;33m]\u001b[0m\u001b[1;33m)\u001b[0m\u001b[1;33m\u001b[0m\u001b[0m\n\u001b[0;32m     28\u001b[0m         \u001b[1;32melse\u001b[0m\u001b[1;33m:\u001b[0m\u001b[1;33m\u001b[0m\u001b[0m\n\u001b[1;32m---> 29\u001b[1;33m             \u001b[0moldstdchannel\u001b[0m \u001b[1;33m=\u001b[0m \u001b[0mos\u001b[0m\u001b[1;33m.\u001b[0m\u001b[0mdup\u001b[0m\u001b[1;33m(\u001b[0m\u001b[0mstdchannel\u001b[0m\u001b[1;33m.\u001b[0m\u001b[0mfileno\u001b[0m\u001b[1;33m(\u001b[0m\u001b[1;33m)\u001b[0m\u001b[1;33m)\u001b[0m\u001b[1;33m\u001b[0m\u001b[0m\n\u001b[0m\u001b[0;32m     30\u001b[0m             \u001b[0mdest_file\u001b[0m \u001b[1;33m=\u001b[0m \u001b[0mopen\u001b[0m\u001b[1;33m(\u001b[0m\u001b[0mdest_filename\u001b[0m\u001b[1;33m,\u001b[0m \u001b[0mmode\u001b[0m\u001b[1;33m)\u001b[0m\u001b[1;33m\u001b[0m\u001b[0m\n\u001b[0;32m     31\u001b[0m             \u001b[0mos\u001b[0m\u001b[1;33m.\u001b[0m\u001b[0mdup2\u001b[0m\u001b[1;33m(\u001b[0m\u001b[0mdest_file\u001b[0m\u001b[1;33m.\u001b[0m\u001b[0mfileno\u001b[0m\u001b[1;33m(\u001b[0m\u001b[1;33m)\u001b[0m\u001b[1;33m,\u001b[0m \u001b[0mstdchannel\u001b[0m\u001b[1;33m.\u001b[0m\u001b[0mfileno\u001b[0m\u001b[1;33m(\u001b[0m\u001b[1;33m)\u001b[0m\u001b[1;33m)\u001b[0m\u001b[1;33m\u001b[0m\u001b[0m\n",
        "\u001b[1;32m/home/brian/anaconda/lib/python2.7/site-packages/IPython/kernel/zmq/iostream.pyc\u001b[0m in \u001b[0;36mfileno\u001b[1;34m(self)\u001b[0m\n\u001b[0;32m    192\u001b[0m \u001b[1;33m\u001b[0m\u001b[0m\n\u001b[0;32m    193\u001b[0m     \u001b[1;32mdef\u001b[0m \u001b[0mfileno\u001b[0m\u001b[1;33m(\u001b[0m\u001b[0mself\u001b[0m\u001b[1;33m)\u001b[0m\u001b[1;33m:\u001b[0m\u001b[1;33m\u001b[0m\u001b[0m\n\u001b[1;32m--> 194\u001b[1;33m         \u001b[1;32mraise\u001b[0m \u001b[0mUnsupportedOperation\u001b[0m\u001b[1;33m(\u001b[0m\u001b[1;34m\"IOStream has no fileno.\"\u001b[0m\u001b[1;33m)\u001b[0m\u001b[1;33m\u001b[0m\u001b[0m\n\u001b[0m\u001b[0;32m    195\u001b[0m \u001b[1;33m\u001b[0m\u001b[0m\n\u001b[0;32m    196\u001b[0m     \u001b[1;32mdef\u001b[0m \u001b[0mwrite\u001b[0m\u001b[1;33m(\u001b[0m\u001b[0mself\u001b[0m\u001b[1;33m,\u001b[0m \u001b[0mstring\u001b[0m\u001b[1;33m)\u001b[0m\u001b[1;33m:\u001b[0m\u001b[1;33m\u001b[0m\u001b[0m\n",
        "\u001b[1;31mUnsupportedOperation\u001b[0m: IOStream has no fileno."
       ]
      }
     ],
     "input": [
      "ode_sys = dst.Generator.Dopri_ODEsystem(DSargs)"
     ],
     "language": "python",
     "prompt_number": 14
    },
    {
     "cell_type": "markdown",
     "metadata": {},
     "source": [
      "As predicted, we had issues, and I think it has to do with getting the C compiled code...\n",
      "\n",
      "I knew this was going to happen, because earlier I had tried to execute a script using a Radau integrator and I ran into the same issue. Oh well, so let's just the VODE integrator for now."
     ]
    },
    {
     "cell_type": "code",
     "metadata": {},
     "outputs": [
      {
       "output_type": "pyout",
       "prompt_number": 17,
       "text": [
        "Generator SHM"
       ],
       "metadata": {}
      }
     ],
     "input": [
      "ode_sys = dst.Generator.Vode_ODEsystem(DSargs)\n",
      "ode_sys"
     ],
     "language": "python",
     "prompt_number": 17
    },
    {
     "cell_type": "markdown",
     "metadata": {},
     "source": [
      "That works just fine! "
     ]
    },
    {
     "cell_type": "code",
     "metadata": {},
     "outputs": [
      {
       "output_type": "stream",
       "stream": "stderr",
       "text": [
        "/home/brian/anaconda/lib/python2.7/site-packages/numpy/core/fromnumeric.py:2507: VisibleDeprecationWarning: `rank` is deprecated; use the `ndim` attribute or function instead. To find the rank of a matrix see `numpy.linalg.matrix_rank`.\n",
        "  VisibleDeprecationWarning)\n"
       ]
      }
     ],
     "input": [
      "traj = ode_sys.compute('demo')\n",
      "pts = traj.sample()"
     ],
     "language": "python",
     "prompt_number": 19
    },
    {
     "cell_type": "markdown",
     "metadata": {},
     "source": [
      "Soon, we'll want to plot our points, so let's set up ``mpld3`` and ``matplotlib``."
     ]
    },
    {
     "cell_type": "code",
     "metadata": {},
     "outputs": [],
     "input": [
      "%matplotlib inline\n",
      "import matplotlib.pyplot as plt\n",
      "import numpy as np\n",
      "import mpld3\n",
      "\n",
      "mpld3.enable_notebook()"
     ],
     "language": "python",
     "prompt_number": 22
    },
    {
     "cell_type": "markdown",
     "metadata": {},
     "source": [
      "Now let's make a plot."
     ]
    },
    {
     "cell_type": "code",
     "metadata": {},
     "outputs": [
      {
       "output_type": "display_data",
       "png": "[encoded data removed]",
       "text": [
        "<matplotlib.figure.Figure at 0x7f77f63e8090>"
       ],
       "metadata": {}
      }
     ],
     "input": [
      "plt.plot(pts['t'], pts['x'], label='x')\n",
      "plt.plot(pts['t'], pts['y'], label='y')\n",
      "plt.legend()\n",
      "plt.xlabel('t')"
     ],
     "language": "python",
     "prompt_number": 28
    },
    {
     "cell_type": "markdown",
     "metadata": {},
     "source": [
      "I'd like you to note that **this is not ordinary ``matplotlib`` plot!** It lets you zoom and pan. Mouse over the bottom right hand corner (where ``None`` is written for now), and select the zoom or pan features and use mouse away (I think middle mouse for zoom, and click+hold+drag for pan, also work)."
     ]
    },
    {
     "cell_type": "heading",
     "metadata": {},
     "level": 1,
     "source": [
      "Isn't that amazing? "
     ]
    },
    {
     "cell_type": "markdown",
     "metadata": {},
     "source": [
      "Possibly not, let me know. I don't know why this doesn't work."
     ]
    },
    {
     "cell_type": "code",
     "metadata": {},
     "outputs": [
      {
       "output_type": "pyout",
       "prompt_number": 34,
       "text": [
        "<matplotlib.text.Text at 0x7f77f47bcd90>"
       ],
       "metadata": {}
      },
      {
       "output_type": "display_data",
       "png": "[encoded data removed]",
       "text": [
        "<matplotlib.figure.Figure at 0x7f77f681e290>"
       ],
       "metadata": {}
      }
     ],
     "input": [
      "ode_sys.set(pars={'k': 0.3}, ics={'x': 0.4})\n",
      "traj_prime = ode_sys.compute('demo 2')\n",
      "pts_prime = traj_prime.sample()\n",
      "\n",
      "plt.plot(pts_prime['t'], pts_prime['x'], label=\"x prime\")\n",
      "plt.plot(pts_prime['t'], pts_prime['y'], label=\"y prime\")\n",
      "plt.plot(pts['t'], pts['x'], label='x')\n",
      "plt.plot(pts['t'], pts['y'], label='y')\n",
      "plt.legend()\n",
      "plt.xlabel('t')"
     ],
     "language": "python",
     "prompt_number": 34
    },
    {
     "cell_type": "heading",
     "metadata": {},
     "level": 3,
     "source": [
      "The End."
     ]
    },
    {
     "cell_type": "heading",
     "metadata": {},
     "level": 3,
     "source": [
      "post script"
     ]
    },
    {
     "cell_type": "markdown",
     "metadata": {},
     "source": [
      "If we can get C integrators to work inside of IPython, that would be amazing, because we could interactively work with bifurcation diagrams, and so on, with *zoomable, pan-able* graphs, along with a \"literate\" exploration of the ODE system using IPython's capabilities.\n",
      "\n",
      "That's a sure way to beat XPPAUT, no?"
     ]
    }
   ]
  }
 ],
 "cells": [],
 "metadata": {
  "name": "",
  "signature": "sha256:e4eaac3ef269427d140ed436613286a94b50f7316ef82c2c45cbe472bf0a5c15"
 },
 "nbformat": 3,
 "nbformat_minor": 0
}