{
 "cells": [
  {
   "cell_type": "code",
   "execution_count": 2,
   "metadata": {
    "collapsed": false
   },
   "outputs": [],
   "source": [
    "from __future__ import division\n",
    "import PyDSTool as dst\n",
    "import numpy as np"
   ]
  },
  {
   "cell_type": "markdown",
   "metadata": {},
   "source": [
    "#Setting up models using `PyDSTool`\n",
    "\n",
    "This tutorial is based on the following PyDSTool documentation pages:\n",
    "* http://www.ni.gsu.edu/~rclewley/PyDSTool/ModelSpec.html\n",
    "* http://www.ni.gsu.edu/~rclewley/PyDSTool/Symbolic.html\n"
   ]
  },
  {
   "cell_type": "markdown",
   "metadata": {
    "collapsed": true
   },
   "source": [
    "Implementing a work-in-progress dynamical system in a program can become very messy, very fast, as the model evolves, while the programmer's patience with keeping all the necessary parameters, variables, and auxiliary functions organized devolves. \n",
    "\n",
    "The goal of `PyDSTool`'s `ModelSpec` class is to provide a class hierarchy that allows complex dynamical models to be composed from simple units of mathematical expression. The goal of this notebook is to provide documentation to help make it easy to set up complicated dynamical systems using `PyDSTool`.\n"
   ]
  },
  {
   "cell_type": "markdown",
   "metadata": {},
   "source": [
    "#`Quantity` classes"
   ]
  },
  {
   "cell_type": "markdown",
   "metadata": {},
   "source": [
    "The `Quantity` classes are the elementary model building blocks of PyDSTool --- they are the ultimate \"leaves\" in the hierarchy of model specification that is supported by the ModelSpec classes. The essence of symbolic manipulation is the definition of Quantity objects. There are three types of Quantity objects: `Var`, `Par`, and `Fun`."
   ]
  },
  {
   "cell_type": "markdown",
   "metadata": {},
   "source": [
    "##`Var` (Variable)"
   ]
  },
  {
   "cell_type": "markdown",
   "metadata": {},
   "source": [
    "Here is a variable declaration only using a name:"
   ]
  },
  {
   "cell_type": "code",
   "execution_count": 2,
   "metadata": {
    "collapsed": true
   },
   "outputs": [],
   "source": [
    "k = dst.Var('k')"
   ]
  },
  {
   "cell_type": "markdown",
   "metadata": {},
   "source": [
    "Here is a variable declaration that includes a definition:"
   ]
  },
  {
   "cell_type": "code",
   "execution_count": 3,
   "metadata": {
    "collapsed": true
   },
   "outputs": [],
   "source": [
    "v = dst.Var('-k*(1 + k)*(1/2)', 'v')"
   ]
  },
  {
   "cell_type": "markdown",
   "metadata": {},
   "source": [
    "The string representation of a variable is simply its name:"
   ]
  },
  {
   "cell_type": "code",
   "execution_count": 4,
   "metadata": {
    "collapsed": false
   },
   "outputs": [
    {
     "name": "stdout",
     "output_type": "stream",
     "text": [
      "v\n"
     ]
    }
   ],
   "source": [
    "print v"
   ]
  },
  {
   "cell_type": "code",
   "execution_count": 5,
   "metadata": {
    "collapsed": false
   },
   "outputs": [
    {
     "name": "stdout",
     "output_type": "stream",
     "text": [
      "k\n"
     ]
    }
   ],
   "source": [
    "print k"
   ]
  },
  {
   "cell_type": "markdown",
   "metadata": {},
   "source": [
    "\"Calling\" a variable returns its definition:"
   ]
  },
  {
   "cell_type": "code",
   "execution_count": 6,
   "metadata": {
    "collapsed": false
   },
   "outputs": [
    {
     "name": "stdout",
     "output_type": "stream",
     "text": [
      "-k*(1+k)*(1/2)\n"
     ]
    }
   ],
   "source": [
    "print v()"
   ]
  },
  {
   "cell_type": "markdown",
   "metadata": {},
   "source": [
    "If a `Var` (or other `Quantity`, such as `Par` or `Fun`) does not have a definition, calling it returns its name once again:"
   ]
  },
  {
   "cell_type": "code",
   "execution_count": 7,
   "metadata": {
    "collapsed": false
   },
   "outputs": [
    {
     "name": "stdout",
     "output_type": "stream",
     "text": [
      "k\n"
     ]
    }
   ],
   "source": [
    "print k()"
   ]
  },
  {
   "cell_type": "markdown",
   "metadata": {},
   "source": [
    "At this time there is no class method to add the specification directly to a Quantity that has only been declared. (Such a method is not really necessary when the overhead in checking the specification is almost identical to that necessary to re-create the object entirely.)"
   ]
  },
  {
   "cell_type": "markdown",
   "metadata": {},
   "source": [
    "##`QuantSpec` vs. `Quantity`"
   ]
  },
  {
   "cell_type": "markdown",
   "metadata": {},
   "source": [
    "`v` is a `Var` object, which is a `Quantity` object:"
   ]
  },
  {
   "cell_type": "code",
   "execution_count": 8,
   "metadata": {
    "collapsed": false
   },
   "outputs": [
    {
     "data": {
      "text/plain": [
       "Var v (ExpFuncSpec)"
      ]
     },
     "execution_count": 77,
     "metadata": {},
     "output_type": "execute_result"
    }
   ],
   "source": [
    "v"
   ]
  },
  {
   "cell_type": "markdown",
   "metadata": {},
   "source": [
    "`v()` is a `QuantSpec` object:"
   ]
  },
  {
   "cell_type": "code",
   "execution_count": 9,
   "metadata": {
    "collapsed": false
   },
   "outputs": [
    {
     "data": {
      "text/plain": [
       "QuantSpec __result__ (ExpFuncSpec)"
      ]
     },
     "execution_count": 80,
     "metadata": {},
     "output_type": "execute_result"
    }
   ],
   "source": [
    "v()"
   ]
  },
  {
   "cell_type": "markdown",
   "metadata": {},
   "source": [
    "In the documentation, one might see references to `QuantSpec` or `Quantity` separately. In this tutorial, I will mostly use \"definition\" and \"(`Quantity` object's) name\" respectively."
   ]
  },
  {
   "cell_type": "markdown",
   "metadata": {},
   "source": [
    "##`Par` (parameter)"
   ]
  },
  {
   "cell_type": "code",
   "execution_count": 10,
   "metadata": {
    "collapsed": false
   },
   "outputs": [
    {
     "name": "stdout",
     "output_type": "stream",
     "text": [
      "p\n"
     ]
    }
   ],
   "source": [
    "p = dst.Par('p')\n",
    "print p"
   ]
  },
  {
   "cell_type": "code",
   "execution_count": 11,
   "metadata": {
    "collapsed": false
   },
   "outputs": [
    {
     "name": "stdout",
     "output_type": "stream",
     "text": [
      "p\n"
     ]
    }
   ],
   "source": [
    "print p()"
   ]
  },
  {
   "cell_type": "code",
   "execution_count": 12,
   "metadata": {
    "collapsed": false
   },
   "outputs": [
    {
     "name": "stdout",
     "output_type": "stream",
     "text": [
      "p\n"
     ]
    }
   ],
   "source": [
    "q = dst.Par('3.5e-3', 'p')\n",
    "print q"
   ]
  },
  {
   "cell_type": "code",
   "execution_count": 13,
   "metadata": {
    "collapsed": false
   },
   "outputs": [
    {
     "name": "stdout",
     "output_type": "stream",
     "text": [
      "3.5e-3\n"
     ]
    }
   ],
   "source": [
    "print q()"
   ]
  },
  {
   "cell_type": "markdown",
   "metadata": {},
   "source": [
    "##`Fun` (function)"
   ]
  },
  {
   "cell_type": "markdown",
   "metadata": {},
   "source": [
    "So far, the symbols we have seen appearing in the definition are 'free', and generally refer to other Quantities. They are not treated as 'local parameters', and therefore do not behave like arguments or inputs to a function."
   ]
  },
  {
   "cell_type": "code",
   "execution_count": 14,
   "metadata": {
    "collapsed": false
   },
   "outputs": [
    {
     "data": {
      "text/plain": [
       "['k']"
      ]
     },
     "execution_count": 16,
     "metadata": {},
     "output_type": "execute_result"
    }
   ],
   "source": [
    "v.freeSymbols"
   ]
  },
  {
   "cell_type": "code",
   "execution_count": 15,
   "metadata": {
    "collapsed": true
   },
   "outputs": [],
   "source": [
    "f = dst.Fun('(((k-(-10)))/(3+4))', [k], 'v')"
   ]
  },
  {
   "cell_type": "code",
   "execution_count": 16,
   "metadata": {
    "collapsed": false
   },
   "outputs": [
    {
     "data": {
      "text/plain": [
       "[]"
      ]
     },
     "execution_count": 18,
     "metadata": {},
     "output_type": "execute_result"
    }
   ],
   "source": [
    "f.freeSymbols"
   ]
  },
  {
   "cell_type": "markdown",
   "metadata": {},
   "source": [
    "Note that $k$ is a free symbol for `v`, but not for `f`. $k$ is an argument of `f`, and the code `[k]` defines `f`'s \"signature\". We can supply a value for $k$ during evaluation. Look carefully at the following examples."
   ]
  },
  {
   "cell_type": "markdown",
   "metadata": {},
   "source": [
    "Supplying a number as an argument:"
   ]
  },
  {
   "cell_type": "code",
   "execution_count": 17,
   "metadata": {
    "collapsed": false
   },
   "outputs": [
    {
     "name": "stdout",
     "output_type": "stream",
     "text": [
      "2.0\n"
     ]
    }
   ],
   "source": [
    "print f(4)"
   ]
  },
  {
   "cell_type": "markdown",
   "metadata": {},
   "source": [
    "Supplying a previously defined variable:"
   ]
  },
  {
   "cell_type": "code",
   "execution_count": 18,
   "metadata": {
    "collapsed": false
   },
   "outputs": [
    {
     "name": "stdout",
     "output_type": "stream",
     "text": [
      "(k+10)/7\n"
     ]
    }
   ],
   "source": [
    "print f(k)"
   ]
  },
  {
   "cell_type": "markdown",
   "metadata": {},
   "source": [
    "Supplying a previously defined parameter:"
   ]
  },
  {
   "cell_type": "code",
   "execution_count": 19,
   "metadata": {
    "collapsed": false
   },
   "outputs": [
    {
     "name": "stdout",
     "output_type": "stream",
     "text": [
      "(p+10)/7\n"
     ]
    }
   ],
   "source": [
    "print f(p)"
   ]
  },
  {
   "cell_type": "markdown",
   "metadata": {},
   "source": [
    "Supplying another previously defined parameter -- but note that so far we have been specifically supplying names, not definitions:"
   ]
  },
  {
   "cell_type": "code",
   "execution_count": 20,
   "metadata": {
    "collapsed": false
   },
   "outputs": [
    {
     "name": "stdout",
     "output_type": "stream",
     "text": [
      "(p+10)/7\n"
     ]
    }
   ],
   "source": [
    "print f(q)"
   ]
  },
  {
   "cell_type": "markdown",
   "metadata": {},
   "source": [
    "We can supply the definition by calling the `Quantity`:"
   ]
  },
  {
   "cell_type": "code",
   "execution_count": 21,
   "metadata": {
    "collapsed": false
   },
   "outputs": [
    {
     "name": "stdout",
     "output_type": "stream",
     "text": [
      "1.4290714285714288\n"
     ]
    }
   ],
   "source": [
    "print f(q())"
   ]
  },
  {
   "cell_type": "code",
   "execution_count": 22,
   "metadata": {
    "collapsed": false
   },
   "outputs": [
    {
     "name": "stdout",
     "output_type": "stream",
     "text": [
      "(p+10)/7\n"
     ]
    }
   ],
   "source": [
    "print f(p())"
   ]
  },
  {
   "cell_type": "markdown",
   "metadata": {},
   "source": [
    "Once more comparing definitions vs. names:"
   ]
  },
  {
   "cell_type": "code",
   "execution_count": 23,
   "metadata": {
    "collapsed": false
   },
   "outputs": [
    {
     "name": "stdout",
     "output_type": "stream",
     "text": [
      "(-k*(1+k)*0.5+10)/7\n"
     ]
    }
   ],
   "source": [
    "print f(v())"
   ]
  },
  {
   "cell_type": "code",
   "execution_count": 24,
   "metadata": {
    "collapsed": false
   },
   "outputs": [
    {
     "name": "stdout",
     "output_type": "stream",
     "text": [
      "(v+10)/7\n"
     ]
    }
   ],
   "source": [
    "print f(v)"
   ]
  },
  {
   "cell_type": "markdown",
   "metadata": {},
   "source": [
    "Too many arguments:"
   ]
  },
  {
   "cell_type": "code",
   "execution_count": 25,
   "metadata": {
    "collapsed": false
   },
   "outputs": [
    {
     "ename": "ValueError",
     "evalue": "Invalid number of arguments for auxiliary function",
     "output_type": "error",
     "traceback": [
      "\u001b[1;31m---------------------------------------------------------------------------\u001b[0m",
      "\u001b[1;31mValueError\u001b[0m                                Traceback (most recent call last)",
      "\u001b[1;32m<ipython-input-31-505f263ccdf6>\u001b[0m in \u001b[0;36m<module>\u001b[1;34m()\u001b[0m\n\u001b[1;32m----> 1\u001b[1;33m \u001b[0mf\u001b[0m\u001b[1;33m(\u001b[0m\u001b[1;36m1\u001b[0m\u001b[1;33m,\u001b[0m \u001b[1;36m2\u001b[0m\u001b[1;33m)\u001b[0m\u001b[1;33m\u001b[0m\u001b[0m\n\u001b[0m",
      "\u001b[1;32m/home/brian/anaconda/lib/python2.7/site-packages/PyDSTool/Symbolic.pyc\u001b[0m in \u001b[0;36m__call__\u001b[1;34m(self, *args)\u001b[0m\n\u001b[0;32m   2739\u001b[0m         \u001b[0mlensig\u001b[0m \u001b[1;33m=\u001b[0m \u001b[0mlen\u001b[0m\u001b[1;33m(\u001b[0m\u001b[0mself\u001b[0m\u001b[1;33m.\u001b[0m\u001b[0msignature\u001b[0m\u001b[1;33m)\u001b[0m\u001b[1;33m\u001b[0m\u001b[0m\n\u001b[0;32m   2740\u001b[0m         \u001b[1;32mif\u001b[0m \u001b[0mlensig\u001b[0m \u001b[1;33m!=\u001b[0m \u001b[0mlen\u001b[0m\u001b[1;33m(\u001b[0m\u001b[0margs\u001b[0m\u001b[1;33m)\u001b[0m\u001b[1;33m:\u001b[0m\u001b[1;33m\u001b[0m\u001b[0m\n\u001b[1;32m-> 2741\u001b[1;33m             \u001b[1;32mraise\u001b[0m \u001b[0mValueError\u001b[0m\u001b[1;33m(\u001b[0m\u001b[1;34m\"Invalid number of arguments for auxiliary function\"\u001b[0m\u001b[1;33m)\u001b[0m\u001b[1;33m\u001b[0m\u001b[0m\n\u001b[0m\u001b[0;32m   2742\u001b[0m         \u001b[0margstr\u001b[0m \u001b[1;33m=\u001b[0m \u001b[1;34m\", \"\u001b[0m\u001b[1;33m.\u001b[0m\u001b[0mjoin\u001b[0m\u001b[1;33m(\u001b[0m\u001b[0mmap\u001b[0m\u001b[1;33m(\u001b[0m\u001b[0mstr\u001b[0m\u001b[1;33m,\u001b[0m\u001b[0margs\u001b[0m\u001b[1;33m)\u001b[0m\u001b[1;33m)\u001b[0m\u001b[1;33m\u001b[0m\u001b[0m\n\u001b[0;32m   2743\u001b[0m         \u001b[1;32mif\u001b[0m \u001b[0mself\u001b[0m\u001b[1;33m.\u001b[0m\u001b[0mspec\u001b[0m\u001b[1;33m.\u001b[0m\u001b[0mspecStr\u001b[0m \u001b[1;33m==\u001b[0m \u001b[1;34m''\u001b[0m\u001b[1;33m:\u001b[0m\u001b[1;33m\u001b[0m\u001b[0m\n",
      "\u001b[1;31mValueError\u001b[0m: Invalid number of arguments for auxiliary function"
     ]
    }
   ],
   "source": [
    "f(1, 2)"
   ]
  },
  {
   "cell_type": "markdown",
   "metadata": {},
   "source": [
    "#Expression simplification and evaluation"
   ]
  },
  {
   "cell_type": "markdown",
   "metadata": {},
   "source": [
    "##Simplification"
   ]
  },
  {
   "cell_type": "markdown",
   "metadata": {},
   "source": [
    "Algebraic (mostly of brackets and signs) and arithmetical simplification of the definition of a `Quantity` is done using the object's `simplify` method. `simplify` works in-place on the object, and does not return anything."
   ]
  },
  {
   "cell_type": "code",
   "execution_count": 26,
   "metadata": {
    "collapsed": false
   },
   "outputs": [],
   "source": [
    "u = dst.Var('((-k*(-k + 2*k)*(-(-1)/(1 + 1))))', 'u')"
   ]
  },
  {
   "cell_type": "code",
   "execution_count": 27,
   "metadata": {
    "collapsed": false
   },
   "outputs": [
    {
     "name": "stdout",
     "output_type": "stream",
     "text": [
      "((-k*(-k+2*k)*(-(-1)/(1+1))))\n"
     ]
    }
   ],
   "source": [
    "print u()"
   ]
  },
  {
   "cell_type": "code",
   "execution_count": 28,
   "metadata": {
    "collapsed": true
   },
   "outputs": [],
   "source": [
    "u.simplify()"
   ]
  },
  {
   "cell_type": "code",
   "execution_count": 29,
   "metadata": {
    "collapsed": false
   },
   "outputs": [
    {
     "name": "stdout",
     "output_type": "stream",
     "text": [
      "-k*(-k+2*k)*0.5\n"
     ]
    }
   ],
   "source": [
    "print u()"
   ]
  },
  {
   "cell_type": "markdown",
   "metadata": {},
   "source": [
    "On the other hand, the object's `eval` method returns a simplified expression for the definition, without changing the original definition."
   ]
  },
  {
   "cell_type": "code",
   "execution_count": 30,
   "metadata": {
    "collapsed": false
   },
   "outputs": [
    {
     "name": "stdout",
     "output_type": "stream",
     "text": [
      "-k*(-k+2*k)*0.5\n"
     ]
    }
   ],
   "source": [
    "w = dst.Var('((-k*(-k + 2*k)*(-(-1)/(1 + 1))))', 'w')\n",
    "print w.eval()"
   ]
  },
  {
   "cell_type": "code",
   "execution_count": 31,
   "metadata": {
    "collapsed": false
   },
   "outputs": [
    {
     "name": "stdout",
     "output_type": "stream",
     "text": [
      "((-k*(-k+2*k)*(-(-1)/(1+1))))\n"
     ]
    }
   ],
   "source": [
    "print w()"
   ]
  },
  {
   "cell_type": "markdown",
   "metadata": {},
   "source": [
    "##Evaluation"
   ]
  },
  {
   "cell_type": "markdown",
   "metadata": {},
   "source": [
    "Quantities can also be evaluated at specific values for the free symbols, but care must be taken with functions in terms of the order in which the operations will be performed."
   ]
  },
  {
   "cell_type": "code",
   "execution_count": 32,
   "metadata": {
    "collapsed": false
   },
   "outputs": [
    {
     "name": "stdout",
     "output_type": "stream",
     "text": [
      "-0.5\n"
     ]
    }
   ],
   "source": [
    "print w.eval(k = 1)"
   ]
  },
  {
   "cell_type": "markdown",
   "metadata": {},
   "source": [
    "Evaluations at non-numeric values for a symbol performs symbolic substitution:"
   ]
  },
  {
   "cell_type": "code",
   "execution_count": 33,
   "metadata": {
    "collapsed": false
   },
   "outputs": [
    {
     "name": "stdout",
     "output_type": "stream",
     "text": [
      "-v*(-v+2*v)*0.5\n"
     ]
    }
   ],
   "source": [
    "print w.eval(k=v)"
   ]
  },
  {
   "cell_type": "code",
   "execution_count": 34,
   "metadata": {
    "collapsed": false
   },
   "outputs": [
    {
     "name": "stdout",
     "output_type": "stream",
     "text": [
      "-(-(-k*(1+k)*0.5)*(1-k*(1+k)*0.5)*0.5)*(-(-(-k*(1+k)*0.5)*(1-k*(1+k)*0.5)*0.5)+2*-(-k*(1+k)*0.5)*(1-k*(1+k)*0.5)*0.5)*0.5\n"
     ]
    }
   ],
   "source": [
    "print w.eval(k=v())"
   ]
  },
  {
   "cell_type": "code",
   "execution_count": 35,
   "metadata": {
    "collapsed": false
   },
   "outputs": [
    {
     "name": "stdout",
     "output_type": "stream",
     "text": [
      "-j*(-j+2*j)*0.5\n"
     ]
    }
   ],
   "source": [
    "print w.eval(k='j')"
   ]
  },
  {
   "cell_type": "code",
   "execution_count": 36,
   "metadata": {
    "collapsed": false
   },
   "outputs": [
    {
     "name": "stdout",
     "output_type": "stream",
     "text": [
      "-p*(-p+2*p)*0.5\n"
     ]
    }
   ],
   "source": [
    "print w.eval(k=q)"
   ]
  },
  {
   "cell_type": "code",
   "execution_count": 37,
   "metadata": {
    "collapsed": false
   },
   "outputs": [
    {
     "name": "stdout",
     "output_type": "stream",
     "text": [
      "k\n"
     ]
    }
   ],
   "source": [
    "print k()"
   ]
  },
  {
   "cell_type": "code",
   "execution_count": 38,
   "metadata": {
    "collapsed": false
   },
   "outputs": [
    {
     "name": "stdout",
     "output_type": "stream",
     "text": [
      "k\n"
     ]
    }
   ],
   "source": [
    "print k"
   ]
  },
  {
   "cell_type": "markdown",
   "metadata": {},
   "source": [
    "There is another function for expression substitution, called `subs`, that can act more \"intelligently\" (what is meant by this?) when dealing with defined `Par` quantities. It can also take a dictionary of assignments, and the result is always as simplified as possible."
   ]
  },
  {
   "cell_type": "code",
   "execution_count": 39,
   "metadata": {
    "collapsed": false
   },
   "outputs": [
    {
     "name": "stdout",
     "output_type": "stream",
     "text": [
      "0.0\n"
     ]
    }
   ],
   "source": [
    "print dst.subs(v(), {'k': 0})"
   ]
  },
  {
   "cell_type": "markdown",
   "metadata": {},
   "source": [
    "Always remember to use `subs` on the right object. For instance, if we had used it on `v`'s name:"
   ]
  },
  {
   "cell_type": "code",
   "execution_count": 40,
   "metadata": {
    "collapsed": false
   },
   "outputs": [
    {
     "name": "stdout",
     "output_type": "stream",
     "text": [
      "v\n"
     ]
    }
   ],
   "source": [
    "print dst.subs(v, {'k': 0})"
   ]
  },
  {
   "cell_type": "markdown",
   "metadata": {},
   "source": [
    "This call did nothing because the `Quantity` assigned to Python name `'v'` evaluates to its name, which is also `'v'`. This name does not match any of the assignments in the call to `subs`, so no substitutions are made."
   ]
  },
  {
   "cell_type": "markdown",
   "metadata": {},
   "source": [
    "Evaluation of one symbolic expression can perform automatic substitution of values defined by expressions in the local scope:"
   ]
  },
  {
   "cell_type": "code",
   "execution_count": 41,
   "metadata": {
    "collapsed": false
   },
   "outputs": [
    {
     "name": "stdout",
     "output_type": "stream",
     "text": [
      "4\n"
     ]
    }
   ],
   "source": [
    "q = dst.Quantity('xv+1','qv')\n",
    "x = dst.Quantity('3','xv')\n",
    "print q.eval()"
   ]
  },
  {
   "cell_type": "code",
   "execution_count": 42,
   "metadata": {
    "collapsed": false
   },
   "outputs": [
    {
     "name": "stdout",
     "output_type": "stream",
     "text": [
      "xv/qv\n"
     ]
    }
   ],
   "source": [
    "a=x/q\n",
    "print a"
   ]
  },
  {
   "cell_type": "code",
   "execution_count": 43,
   "metadata": {
    "collapsed": false
   },
   "outputs": [
    {
     "name": "stdout",
     "output_type": "stream",
     "text": [
      "0.75\n"
     ]
    }
   ],
   "source": [
    "print a.eval()"
   ]
  },
  {
   "cell_type": "markdown",
   "metadata": {},
   "source": [
    "Recall how we noted the difference between `Quantity` and `QuantSpec` objects previously:"
   ]
  },
  {
   "cell_type": "code",
   "execution_count": 44,
   "metadata": {
    "collapsed": false
   },
   "outputs": [
    {
     "name": "stdout",
     "output_type": "stream",
     "text": [
      "3/(xv+1)\n"
     ]
    }
   ],
   "source": [
    "a_ = x()/q()\n",
    "print a_"
   ]
  },
  {
   "cell_type": "markdown",
   "metadata": {},
   "source": [
    "In other words, `a_` yields the division in terms of the definitions (or, `QuantSpec`), since we specifically called for them. We can use this difference between `Quantity` and `QuantSpec` to perform partial evaluations:"
   ]
  },
  {
   "cell_type": "code",
   "execution_count": 45,
   "metadata": {
    "collapsed": false
   },
   "outputs": [
    {
     "name": "stdout",
     "output_type": "stream",
     "text": [
      "0.75\n"
     ]
    }
   ],
   "source": [
    "print a.eval() # using local scope information, xv = 3"
   ]
  },
  {
   "cell_type": "code",
   "execution_count": 46,
   "metadata": {
    "collapsed": false
   },
   "outputs": [
    {
     "name": "stdout",
     "output_type": "stream",
     "text": [
      "xv/(xv+1)\n"
     ]
    }
   ],
   "source": [
    "print a.eval(qv=q())"
   ]
  },
  {
   "cell_type": "code",
   "execution_count": 47,
   "metadata": {
    "collapsed": false
   },
   "outputs": [
    {
     "name": "stdout",
     "output_type": "stream",
     "text": [
      "0.8333333333333334\n"
     ]
    }
   ],
   "source": [
    "print a.eval(xv=5,qv=q())  # override xv=3 from local scope"
   ]
  },
  {
   "cell_type": "markdown",
   "metadata": {},
   "source": [
    "Evaluation with an explicitly-supplied scope dictionary is much faster, if the relevant definitions are known. Equivalently, these definitions can be supplied in the call as a comma-separated sequence:"
   ]
  },
  {
   "cell_type": "code",
   "execution_count": 48,
   "metadata": {
    "collapsed": false
   },
   "outputs": [
    {
     "name": "stdout",
     "output_type": "stream",
     "text": [
      "3/qv\n"
     ]
    }
   ],
   "source": [
    "print a.eval(xv=x())"
   ]
  },
  {
   "cell_type": "code",
   "execution_count": 49,
   "metadata": {
    "collapsed": false
   },
   "outputs": [
    {
     "name": "stdout",
     "output_type": "stream",
     "text": [
      "0.75\n"
     ]
    }
   ],
   "source": [
    "print a.eval(xv=x(),qv=q())  # much faster"
   ]
  },
  {
   "cell_type": "code",
   "execution_count": 50,
   "metadata": {
    "collapsed": false
   },
   "outputs": [
    {
     "name": "stdout",
     "output_type": "stream",
     "text": [
      "0.75\n"
     ]
    }
   ],
   "source": [
    "print a.eval({'xv': x, 'qv': q()})  # equivalently fast"
   ]
  },
  {
   "cell_type": "markdown",
   "metadata": {},
   "source": [
    "##Advanced information about functions"
   ]
  },
  {
   "cell_type": "code",
   "execution_count": 51,
   "metadata": {
    "collapsed": true
   },
   "outputs": [],
   "source": [
    "# some variables\n",
    "a = dst.Var('a')\n",
    "b = dst.Var('b')\n",
    "c = dst.Par('c')\n",
    "\n",
    "# a function\n",
    "gfun = dst.Fun(a+b/c, [a, b], 'g')"
   ]
  },
  {
   "cell_type": "code",
   "execution_count": 52,
   "metadata": {
    "collapsed": false
   },
   "outputs": [
    {
     "ename": "ValueError",
     "evalue": "All function signature arguments are necessary for evaluation",
     "output_type": "error",
     "traceback": [
      "\u001b[1;31m---------------------------------------------------------------------------\u001b[0m",
      "\u001b[1;31mValueError\u001b[0m                                Traceback (most recent call last)",
      "\u001b[1;32m<ipython-input-91-c944c96c073a>\u001b[0m in \u001b[0;36m<module>\u001b[1;34m()\u001b[0m\n\u001b[1;32m----> 1\u001b[1;33m \u001b[1;32mprint\u001b[0m \u001b[0mgfun\u001b[0m\u001b[1;33m.\u001b[0m\u001b[0meval\u001b[0m\u001b[1;33m(\u001b[0m\u001b[0ma\u001b[0m\u001b[1;33m=\u001b[0m\u001b[1;36m4\u001b[0m\u001b[1;33m)\u001b[0m\u001b[1;33m\u001b[0m\u001b[0m\n\u001b[0m",
      "\u001b[1;32m/home/brian/anaconda/lib/python2.7/site-packages/PyDSTool/Symbolic.pyc\u001b[0m in \u001b[0;36meval\u001b[1;34m(self, *scopearg, **defs)\u001b[0m\n\u001b[0;32m   2585\u001b[0m         \u001b[1;32mif\u001b[0m \u001b[0mhasattr\u001b[0m\u001b[1;33m(\u001b[0m\u001b[0mself\u001b[0m\u001b[1;33m,\u001b[0m \u001b[1;34m'signature'\u001b[0m\u001b[1;33m)\u001b[0m\u001b[1;33m:\u001b[0m\u001b[1;33m\u001b[0m\u001b[0m\n\u001b[0;32m   2586\u001b[0m             \u001b[1;32mif\u001b[0m \u001b[1;32mnot\u001b[0m \u001b[0malltrue\u001b[0m\u001b[1;33m(\u001b[0m\u001b[1;33m[\u001b[0m\u001b[0ms\u001b[0m \u001b[1;32min\u001b[0m \u001b[0marglist\u001b[0m \u001b[1;32mfor\u001b[0m \u001b[0ms\u001b[0m \u001b[1;32min\u001b[0m \u001b[0mself\u001b[0m\u001b[1;33m.\u001b[0m\u001b[0msignature\u001b[0m\u001b[1;33m]\u001b[0m\u001b[1;33m)\u001b[0m\u001b[1;33m:\u001b[0m\u001b[1;33m\u001b[0m\u001b[0m\n\u001b[1;32m-> 2587\u001b[1;33m                 raise ValueError(\"All function signature arguments are \"\n\u001b[0m\u001b[0;32m   2588\u001b[0m                                  \"necessary for evaluation\")\n\u001b[0;32m   2589\u001b[0m         \u001b[1;32mreturn\u001b[0m \u001b[0mself\u001b[0m\u001b[1;33m.\u001b[0m\u001b[0mspec\u001b[0m\u001b[1;33m.\u001b[0m\u001b[0m_eval\u001b[0m\u001b[1;33m(\u001b[0m\u001b[1;36m1\u001b[0m\u001b[1;33m,\u001b[0m \u001b[1;33m*\u001b[0m\u001b[0mscopearg\u001b[0m\u001b[1;33m,\u001b[0m \u001b[1;33m**\u001b[0m\u001b[0mdefs\u001b[0m\u001b[1;33m)\u001b[0m\u001b[1;33m\u001b[0m\u001b[0m\n",
      "\u001b[1;31mValueError\u001b[0m: All function signature arguments are necessary for evaluation"
     ]
    }
   ],
   "source": [
    "print gfun.eval(a=4)"
   ]
  },
  {
   "cell_type": "code",
   "execution_count": 53,
   "metadata": {
    "collapsed": false
   },
   "outputs": [
    {
     "name": "stdout",
     "output_type": "stream",
     "text": [
      "4+3/c\n"
     ]
    }
   ],
   "source": [
    "print gfun.eval(a=4, b=3)"
   ]
  },
  {
   "cell_type": "markdown",
   "metadata": {},
   "source": [
    "One might wonder why `c` was not required in the `eval` call. However, if we look at `gfun`'s signature, is a function of two arguments, `'a'` and `'b'`, while `'c'` is a free variable that *must refer to a parameter name* if the `Fun` object is to be used in the specification of a right-hand side (RHS), where RHS refers to the right hand side of a system of ODEs:\n",
    "\n",
    "\\begin{align}\n",
    "    \\vec{x} &= \\left[\\begin{array}{cccc}\\dot{x}_1 & \\dot{x}_2 & \\dots & \\dot{x}_n\\end{array}\\right] \\\\\n",
    "    \\quad \\\\\n",
    "    \\dot{x}_1 &= f_1(\\vec{x}) \\\\\n",
    "    \\dot{x}_2 &= f_2(\\vec{x}) \\\\\n",
    "    \\vdots \\\\\n",
    "    \\dot{x}_n &= f_n(\\vec{x})\n",
    "\\end{align}"
   ]
  },
  {
   "cell_type": "code",
   "execution_count": 54,
   "metadata": {
    "collapsed": false
   },
   "outputs": [
    {
     "name": "stdout",
     "output_type": "stream",
     "text": [
      "5.0\n"
     ]
    }
   ],
   "source": [
    "print gfun.eval(a=4,b=3,c=3)"
   ]
  },
  {
   "cell_type": "code",
   "execution_count": 55,
   "metadata": {
    "collapsed": false
   },
   "outputs": [
    {
     "name": "stdout",
     "output_type": "stream",
     "text": [
      "4+b/c\n"
     ]
    }
   ],
   "source": [
    "print gfun(4,b)"
   ]
  },
  {
   "cell_type": "markdown",
   "metadata": {},
   "source": [
    "`gfun(a, b)` evaluates to the `QuantSpec` object containing the definition of the function. As this is not a function object (`Fun`) any of the free names 'a', 'b', or 'c' can be evaluated using `eval`."
   ]
  },
  {
   "cell_type": "code",
   "execution_count": 56,
   "metadata": {
    "collapsed": false
   },
   "outputs": [
    {
     "name": "stdout",
     "output_type": "stream",
     "text": [
      "4+b/c\n"
     ]
    }
   ],
   "source": [
    "print gfun(a, b).eval(a=4)  # the result of gfun(a, b) is not a Fun, but a QuantSpec"
   ]
  },
  {
   "cell_type": "markdown",
   "metadata": {},
   "source": [
    "Any evaluations given for names not present in the definition of the object will be ignored."
   ]
  },
  {
   "cell_type": "code",
   "execution_count": 57,
   "metadata": {
    "collapsed": false
   },
   "outputs": [
    {
     "name": "stdout",
     "output_type": "stream",
     "text": [
      "a+b/c\n"
     ]
    }
   ],
   "source": [
    "print gfun.eval(a=a, b=b, d=5, c=c)"
   ]
  },
  {
   "cell_type": "markdown",
   "metadata": {},
   "source": [
    "##More symbolic substitutions: name maps"
   ]
  },
  {
   "cell_type": "markdown",
   "metadata": {},
   "source": [
    "A more efficient way to make multiple symbolic substitutions which are solely textual, i.e. do not involve algebraic simplification, is to use the `mapNames(<name_mapping_dict>)` method of a `Quantity`. The method works in-place and does not return anything, and the `Quantity` whose method was called will change."
   ]
  },
  {
   "cell_type": "code",
   "execution_count": 58,
   "metadata": {
    "collapsed": false
   },
   "outputs": [
    {
     "name": "stdout",
     "output_type": "stream",
     "text": [
      "-a/b*(1+a/b)*0.5\n"
     ]
    }
   ],
   "source": [
    "v.mapNames({'k': 'a/b'})\n",
    "print v()"
   ]
  },
  {
   "cell_type": "markdown",
   "metadata": {},
   "source": [
    "This method takes a dictionary of `source: target` names. Matching only occurs on whole symbols (i.e. 'tokens'): a dictionary containing the mapping (`'a': 'b'`) will not map the symbol `'ka_2'` to `'kb_2'`."
   ]
  },
  {
   "cell_type": "markdown",
   "metadata": {},
   "source": [
    "The method will also map the `Quantity`'s name only if it matches a source name:"
   ]
  },
  {
   "cell_type": "code",
   "execution_count": 59,
   "metadata": {
    "collapsed": false
   },
   "outputs": [
    {
     "name": "stdout",
     "output_type": "stream",
     "text": [
      "-44/b*(1+44/b)*0.5\n"
     ]
    }
   ],
   "source": [
    "v.mapNames({'a': '44', '10': '-10'})\n",
    "print v()"
   ]
  },
  {
   "cell_type": "markdown",
   "metadata": {},
   "source": [
    "# Symbolic versions of built-in math names"
   ]
  },
  {
   "cell_type": "markdown",
   "metadata": {},
   "source": [
    "Symbolic versions of basic math functions (`pow`, `sqrt`, `abs`, etc.) and constants are exported by `Symbolic.py`. They can be used in title-cased form (e.g. `Pow` instead of `pow`), as in Maple, but lower case form works as well. "
   ]
  },
  {
   "cell_type": "code",
   "execution_count": 60,
   "metadata": {
    "collapsed": false
   },
   "outputs": [],
   "source": [
    "v = dst.Var('-44/b*(1+44/b)*0.5', 'v')"
   ]
  },
  {
   "cell_type": "code",
   "execution_count": 61,
   "metadata": {
    "collapsed": false
   },
   "outputs": [
    {
     "name": "stdout",
     "output_type": "stream",
     "text": [
      "-990.0\n"
     ]
    }
   ],
   "source": [
    "print v.eval(b = 'Pow(1, 1)')"
   ]
  },
  {
   "cell_type": "code",
   "execution_count": 62,
   "metadata": {
    "collapsed": false
   },
   "outputs": [
    {
     "name": "stdout",
     "output_type": "stream",
     "text": [
      "-990.0\n"
     ]
    }
   ],
   "source": [
    "print v.eval(b = 'pow(1, 1)') # case does not matter"
   ]
  },
  {
   "cell_type": "code",
   "execution_count": 63,
   "metadata": {
    "collapsed": false
   },
   "outputs": [
    {
     "name": "stdout",
     "output_type": "stream",
     "text": [
      "-44/Pow(x,y)*(1+44/Pow(x,y))*0.5\n"
     ]
    }
   ],
   "source": [
    "print dst.subs(v(), {'b': 'Pow(x, y)'})"
   ]
  },
  {
   "cell_type": "code",
   "execution_count": 64,
   "metadata": {
    "collapsed": false
   },
   "outputs": [
    {
     "name": "stdout",
     "output_type": "stream",
     "text": [
      "-990.0\n"
     ]
    }
   ],
   "source": [
    "print dst.subs(v(), {'b': 'Pow(x, y)'}).eval(x = 1, y = 1)"
   ]
  },
  {
   "cell_type": "markdown",
   "metadata": {},
   "source": [
    "The functions supported included the trigonometric (`Sin`, `Cos`, `Tan`, but not inverse trigonometric functions), exponential (`Exp`) and logarithmic functions, the absolute value (`Abs`), power (`Pow`), and square root (`Sqrt`) functions. The constants include `E` and `Pi`.\n",
    "\n"
   ]
  },
  {
   "cell_type": "code",
   "execution_count": 65,
   "metadata": {
    "collapsed": false
   },
   "outputs": [
    {
     "name": "stdout",
     "output_type": "stream",
     "text": [
      "-1357.3899529842106\n"
     ]
    }
   ],
   "source": [
    "print v.eval(b = 'Sin(Tan(Sqrt(Abs(Pow((Cos(Pi*E)), 1)))))')"
   ]
  },
  {
   "cell_type": "code",
   "execution_count": 66,
   "metadata": {
    "collapsed": false
   },
   "outputs": [
    {
     "name": "stdout",
     "output_type": "stream",
     "text": [
      "Log(E)\n"
     ]
    }
   ],
   "source": [
    "z = dst.Var('Log(E)', 'z')\n",
    "print z()"
   ]
  },
  {
   "cell_type": "code",
   "execution_count": 67,
   "metadata": {
    "collapsed": false
   },
   "outputs": [
    {
     "name": "stdout",
     "output_type": "stream",
     "text": [
      "1.0\n"
     ]
    }
   ],
   "source": [
    "print z.eval()"
   ]
  },
  {
   "cell_type": "code",
   "execution_count": 68,
   "metadata": {
    "collapsed": false
   },
   "outputs": [
    {
     "name": "stdout",
     "output_type": "stream",
     "text": [
      "Arccos(1)\n"
     ]
    }
   ],
   "source": [
    "z = dst.Var('Arccos(1)', 'z')\n",
    "print z.eval()"
   ]
  },
  {
   "cell_type": "markdown",
   "metadata": {},
   "source": [
    "#Multi-reference quantities"
   ]
  },
  {
   "cell_type": "markdown",
   "metadata": {},
   "source": [
    "There is a way to specify a range of related Quantities at once, in a kind of macro. This is useful for repeated definitions, that perhaps are interconnected in a formulaic way. (You may be familiar with this kind of notation in the package XPP.)"
   ]
  },
  {
   "cell_type": "code",
   "execution_count": 69,
   "metadata": {
    "collapsed": false
   },
   "outputs": [],
   "source": [
    "v = dst.Var('v')\n",
    "ipar = dst.Par('ipar')\n",
    "\n",
    "z = dst.Var('3+v/((1+i)*ipar)', 'z[i,0,5]') # note z[i,0,5]"
   ]
  },
  {
   "cell_type": "markdown",
   "metadata": {},
   "source": [
    "These define six `uantities`, `z0` to `z5`, that are referenced from the Python object `z` as `z[0]` to `z[5]`. "
   ]
  },
  {
   "cell_type": "code",
   "execution_count": 70,
   "metadata": {
    "collapsed": false
   },
   "outputs": [
    {
     "name": "stdout",
     "output_type": "stream",
     "text": [
      "3+1.71428571429/ipar\n"
     ]
    }
   ],
   "source": [
    "print z[0]().eval()"
   ]
  },
  {
   "cell_type": "code",
   "execution_count": 71,
   "metadata": {
    "collapsed": false
   },
   "outputs": [
    {
     "name": "stdout",
     "output_type": "stream",
     "text": [
      "3+1.71428571429/(2*ipar)\n"
     ]
    }
   ],
   "source": [
    "print z[1]().eval()"
   ]
  },
  {
   "cell_type": "markdown",
   "metadata": {},
   "source": [
    "The following example shows how to define a set of ODE right-hand sides that involve a circular connectivity pattern. Notice that the boundary variables `w0` and `w3` have to be defined separately, so that the multi-quantity definition refers to valid `Quantity` objects for all index values."
   ]
  },
  {
   "cell_type": "code",
   "execution_count": 72,
   "metadata": {
    "collapsed": false
   },
   "outputs": [],
   "source": [
    "w0 = dst.Var('w0-2*(w3-w1)', 'w0', specType='RHSfuncSpec') # boundary value\n",
    "w3 = dst.Var('w3-2*(w2-w0)', 'w3', specType='RHSfuncSpec') # boundary value\n",
    "wi = dst.Var('w[i]-2*(w[i-1]-w[i+1])', 'w[i,1,2]', specType='RHSfuncSpec')"
   ]
  },
  {
   "cell_type": "markdown",
   "metadata": {},
   "source": [
    "Alternatively, we could have used the modulo function (`%`) to give a cleaner definition:"
   ]
  },
  {
   "cell_type": "code",
   "execution_count": 73,
   "metadata": {
    "collapsed": false
   },
   "outputs": [
    {
     "name": "stdout",
     "output_type": "stream",
     "text": [
      "-1%3: 2\n",
      "0%3: 0\n",
      "1%3: 1\n",
      "2%3: 2\n",
      "3%3: 0\n",
      "4%3: 1\n"
     ]
    }
   ],
   "source": [
    "for i in (np.arange(6) - 1):\n",
    "    print \"{}%3: {}\".format(i, i%3)"
   ]
  },
  {
   "cell_type": "code",
   "execution_count": 74,
   "metadata": {
    "collapsed": true
   },
   "outputs": [],
   "source": [
    "wi = dst.Var('w[i]-2*(w[(i-1)%3]-w[(i+1)%3])', 'w[i,0,3]', specType='RHSfuncSpec')"
   ]
  },
  {
   "cell_type": "markdown",
   "metadata": {},
   "source": [
    "Note that the Python dereferencing of a multi-def `z` by (for example) `z[2]` actually creates an *instance* of `z2`. (What does this mean?)"
   ]
  },
  {
   "cell_type": "code",
   "execution_count": 75,
   "metadata": {
    "collapsed": false
   },
   "outputs": [
    {
     "name": "stdout",
     "output_type": "stream",
     "text": [
      "z2\n"
     ]
    }
   ],
   "source": [
    "print z[2]"
   ]
  },
  {
   "cell_type": "code",
   "execution_count": 76,
   "metadata": {
    "collapsed": false
   },
   "outputs": [
    {
     "name": "stdout",
     "output_type": "stream",
     "text": [
      "3+v/((1+2)*ipar)\n"
     ]
    }
   ],
   "source": [
    "print z[2]()"
   ]
  },
  {
   "cell_type": "code",
   "execution_count": 77,
   "metadata": {
    "collapsed": false
   },
   "outputs": [
    {
     "name": "stdout",
     "output_type": "stream",
     "text": [
      "z2\n"
     ]
    }
   ],
   "source": [
    "print z[0]"
   ]
  },
  {
   "cell_type": "code",
   "execution_count": 78,
   "metadata": {
    "collapsed": false
   },
   "outputs": [
    {
     "name": "stdout",
     "output_type": "stream",
     "text": [
      "3+v/((1+0)*ipar)\n"
     ]
    }
   ],
   "source": [
    "print z[0]()"
   ]
  },
  {
   "cell_type": "code",
   "execution_count": 79,
   "metadata": {
    "collapsed": false
   },
   "outputs": [
    {
     "ename": "IndexError",
     "evalue": "Index to multiple Quantity definition out of the valid range [0,5]",
     "output_type": "error",
     "traceback": [
      "\u001b[1;31m---------------------------------------------------------------------------\u001b[0m",
      "\u001b[1;31mIndexError\u001b[0m                                Traceback (most recent call last)",
      "\u001b[1;32m<ipython-input-178-8b49888f9446>\u001b[0m in \u001b[0;36m<module>\u001b[1;34m()\u001b[0m\n\u001b[1;32m----> 1\u001b[1;33m \u001b[1;32mprint\u001b[0m \u001b[0mz\u001b[0m\u001b[1;33m[\u001b[0m\u001b[1;36m10\u001b[0m\u001b[1;33m]\u001b[0m\u001b[1;33m\u001b[0m\u001b[0m\n\u001b[0m",
      "\u001b[1;32m/home/brian/anaconda/lib/python2.7/site-packages/PyDSTool/Symbolic.pyc\u001b[0m in \u001b[0;36m__getitem__\u001b[1;34m(self, x)\u001b[0m\n\u001b[0;32m   2445\u001b[0m             \u001b[1;32melse\u001b[0m\u001b[1;33m:\u001b[0m\u001b[1;33m\u001b[0m\u001b[0m\n\u001b[0;32m   2446\u001b[0m                 raise IndexError(\"Index to multiple Quantity definition out \"\n\u001b[1;32m-> 2447\u001b[1;33m                                  \"of the valid range [%i,%i]\"%(i1,i2))\n\u001b[0m\u001b[0;32m   2448\u001b[0m         \u001b[1;32melif\u001b[0m \u001b[0mself\u001b[0m\u001b[1;33m.\u001b[0m\u001b[0misvector\u001b[0m\u001b[1;33m(\u001b[0m\u001b[1;33m)\u001b[0m\u001b[1;33m:\u001b[0m\u001b[1;33m\u001b[0m\u001b[0m\n\u001b[0;32m   2449\u001b[0m             \u001b[1;32mreturn\u001b[0m \u001b[0mself\u001b[0m\u001b[1;33m.\u001b[0m\u001b[0mfromvector\u001b[0m\u001b[1;33m(\u001b[0m\u001b[0mx\u001b[0m\u001b[1;33m)\u001b[0m\u001b[1;33m\u001b[0m\u001b[0m\n",
      "\u001b[1;31mIndexError\u001b[0m: Index to multiple Quantity definition out of the valid range [0,5]"
     ]
    }
   ],
   "source": [
    "print z[10]"
   ]
  },
  {
   "cell_type": "markdown",
   "metadata": {},
   "source": [
    "#More about the `QuantSpec` class"
   ]
  },
  {
   "cell_type": "markdown",
   "metadata": {},
   "source": [
    "A `QuantSpec` object be considered a pre-`Quantity` form of raw symbolic expression, in that it has not yet been committed to a life as any particular Quantity sub-type (`Var`, `Par`, or `Fun`). It can be used in different ways in different `Quantity` definitions, and can be manipulated symbolically in its own right."
   ]
  },
  {
   "cell_type": "code",
   "execution_count": 80,
   "metadata": {
    "collapsed": true
   },
   "outputs": [],
   "source": [
    "q = dst.QuantSpec('q', '1+k/2')"
   ]
  },
  {
   "cell_type": "code",
   "execution_count": 81,
   "metadata": {
    "collapsed": false
   },
   "outputs": [
    {
     "data": {
      "text/plain": [
       "QuantSpec q (ExpFuncSpec)"
      ]
     },
     "execution_count": 180,
     "metadata": {},
     "output_type": "execute_result"
    }
   ],
   "source": [
    "q"
   ]
  },
  {
   "cell_type": "code",
   "execution_count": 82,
   "metadata": {
    "collapsed": false
   },
   "outputs": [
    {
     "data": {
      "text/plain": [
       "'1+k/2'"
      ]
     },
     "execution_count": 181,
     "metadata": {},
     "output_type": "execute_result"
    }
   ],
   "source": [
    "q()"
   ]
  },
  {
   "cell_type": "markdown",
   "metadata": {},
   "source": [
    "A major difference between a `Quantity` object and a `QuantSpec` object is that the `QuantSpec`'s name is not an important external part of its nature: only it's definition is important. Therefore, calling print on the object always returns its definition."
   ]
  },
  {
   "cell_type": "code",
   "execution_count": 83,
   "metadata": {
    "collapsed": false
   },
   "outputs": [
    {
     "name": "stdout",
     "output_type": "stream",
     "text": [
      "1+k/2\n"
     ]
    }
   ],
   "source": [
    "print q"
   ]
  },
  {
   "cell_type": "code",
   "execution_count": 84,
   "metadata": {
    "collapsed": false
   },
   "outputs": [
    {
     "name": "stdout",
     "output_type": "stream",
     "text": [
      "1+k/2\n"
     ]
    }
   ],
   "source": [
    "print q()"
   ]
  },
  {
   "cell_type": "code",
   "execution_count": 85,
   "metadata": {
    "collapsed": false
   },
   "outputs": [
    {
     "name": "stdout",
     "output_type": "stream",
     "text": [
      "1+k/2\n"
     ]
    }
   ],
   "source": [
    "print q.eval()"
   ]
  },
  {
   "cell_type": "markdown",
   "metadata": {},
   "source": [
    "We can use a `QuantSpec` object to provide a definition for a `Quantity` object:"
   ]
  },
  {
   "cell_type": "code",
   "execution_count": 86,
   "metadata": {
    "collapsed": false
   },
   "outputs": [
    {
     "data": {
      "text/plain": [
       "Var v (ExpFuncSpec)"
      ]
     },
     "execution_count": 188,
     "metadata": {},
     "output_type": "execute_result"
    }
   ],
   "source": [
    "v = dst.Var(q, 'v')\n",
    "v # this will print out the type of v"
   ]
  },
  {
   "cell_type": "code",
   "execution_count": 87,
   "metadata": {
    "collapsed": false
   },
   "outputs": [
    {
     "data": {
      "text/plain": [
       "QuantSpec v (ExpFuncSpec)"
      ]
     },
     "execution_count": 189,
     "metadata": {},
     "output_type": "execute_result"
    }
   ],
   "source": [
    "v() # this will print out the type of v()"
   ]
  },
  {
   "cell_type": "code",
   "execution_count": 88,
   "metadata": {
    "collapsed": false
   },
   "outputs": [
    {
     "data": {
      "text/plain": [
       "'1+k/2'"
      ]
     },
     "execution_count": 190,
     "metadata": {},
     "output_type": "execute_result"
    }
   ],
   "source": [
    "(v())() # this will call the QuantSpec object returned by v()"
   ]
  },
  {
   "cell_type": "code",
   "execution_count": 89,
   "metadata": {
    "collapsed": true
   },
   "outputs": [],
   "source": [
    "w = dst.Var((q/q) + q, 'w') # as mentioned, can be manipulated symbolically"
   ]
  },
  {
   "cell_type": "code",
   "execution_count": 90,
   "metadata": {
    "collapsed": false
   },
   "outputs": [
    {
     "name": "stdout",
     "output_type": "stream",
     "text": [
      "(1+k/2)/(1+k/2)+1+k/2\n"
     ]
    }
   ],
   "source": [
    "print w()"
   ]
  },
  {
   "cell_type": "code",
   "execution_count": 91,
   "metadata": {
    "collapsed": false
   },
   "outputs": [
    {
     "name": "stdout",
     "output_type": "stream",
     "text": [
      "2*(1+k/2)\n"
     ]
    }
   ],
   "source": [
    "print 2 * q"
   ]
  },
  {
   "cell_type": "markdown",
   "metadata": {},
   "source": [
    "For the most consistent results, any `QuantSpec` results that you want to use again should be defined into a proper `Var` or `Fun` object. Also, `QuantSpec`s are not a good place to manipulate vectors of symbols -- these should be converted to full Quantity types."
   ]
  },
  {
   "cell_type": "markdown",
   "metadata": {},
   "source": [
    "#Vectors as symbols"
   ]
  },
  {
   "cell_type": "markdown",
   "metadata": {},
   "source": [
    "`Quantity` objects can define vectors of symbols (of up to rank 2). This can simplify notation, and permits `Fun` objects of several variables that can be symbolically differentiated. Examples of this are in `tests/Symbolic_Diff_test.py` and `tests/vode_withJac_Symbolic_test.py`."
   ]
  },
  {
   "cell_type": "code",
   "execution_count": 92,
   "metadata": {
    "collapsed": false
   },
   "outputs": [
    {
     "name": "stdout",
     "output_type": "stream",
     "text": [
      "-3*Pow((2*x+1),3)+2*(x+y)\n"
     ]
    }
   ],
   "source": [
    "x = dst.Var('x')\n",
    "y = dst.Var('y')\n",
    "\n",
    "f = dst.Var(['-3*Pow((2*x+1),3)+2*(x+y)', '-y/2'], 'f') # note that the definition is using a list!\n",
    "\n",
    "print f[0] # only works if f is a Quantity type"
   ]
  },
  {
   "cell_type": "code",
   "execution_count": 93,
   "metadata": {
    "collapsed": false
   },
   "outputs": [
    {
     "data": {
      "text/plain": [
       "QuantSpec f_0 (ExpFuncSpec)"
      ]
     },
     "execution_count": 208,
     "metadata": {},
     "output_type": "execute_result"
    }
   ],
   "source": [
    "f[0]"
   ]
  },
  {
   "cell_type": "code",
   "execution_count": 94,
   "metadata": {
    "collapsed": false
   },
   "outputs": [
    {
     "name": "stdout",
     "output_type": "stream",
     "text": [
      "-y/2\n"
     ]
    }
   ],
   "source": [
    "print f[1]"
   ]
  },
  {
   "cell_type": "markdown",
   "metadata": {},
   "source": [
    "Symbolic vectors can be defined for `QuantSpec`s and `Quantity`s, but are intended to be used in `Quantity` objects. This is because \"array indexing\" notation (using square brackets) is only properly supported for `Quantity`s. However, the `fromvector` method turns a vector `Quantity` or `QuantSpec` into a list of non-vector `QuantSpec` objects, each defining a component of the vector. It takes an optional integer index argument which selects that component of the vector only."
   ]
  },
  {
   "cell_type": "code",
   "execution_count": 95,
   "metadata": {
    "collapsed": false
   },
   "outputs": [
    {
     "name": "stdout",
     "output_type": "stream",
     "text": [
      "-3*Pow((2*x+1),3)+2*(x+y)\n"
     ]
    }
   ],
   "source": [
    "f.fromvector(0) # equivalent to f[1], but safe for both Quantities and QuantSpec\n",
    "\n"
   ]
  },
  {
   "cell_type": "code",
   "execution_count": 96,
   "metadata": {
    "collapsed": false
   },
   "outputs": [
    {
     "name": "stdout",
     "output_type": "stream",
     "text": [
      "-3*Pow((2*x+1),3)+2*(x+y)\n"
     ]
    }
   ],
   "source": [
    "print f.fromvector(0)   "
   ]
  },
  {
   "cell_type": "code",
   "execution_count": 97,
   "metadata": {
    "collapsed": false
   },
   "outputs": [
    {
     "data": {
      "text/plain": [
       "'-3*Pow((2*x+1),3)+2*(x+y)'"
      ]
     },
     "execution_count": 210,
     "metadata": {},
     "output_type": "execute_result"
    }
   ],
   "source": [
    "(f.fromvector(0))()"
   ]
  },
  {
   "cell_type": "code",
   "execution_count": 98,
   "metadata": {
    "collapsed": false
   },
   "outputs": [
    {
     "name": "stdout",
     "output_type": "stream",
     "text": [
      "[QuantSpec f_0 (ExpFuncSpec), QuantSpec f_1 (ExpFuncSpec)]\n"
     ]
    }
   ],
   "source": [
    "print f.fromvector()"
   ]
  },
  {
   "cell_type": "markdown",
   "metadata": {},
   "source": [
    "The method `tonumeric` reduces `Quantity`s whose definitions are entirely numeric to floating point numbers or arrays of such. "
   ]
  },
  {
   "cell_type": "code",
   "execution_count": 99,
   "metadata": {
    "collapsed": false
   },
   "outputs": [
    {
     "name": "stdout",
     "output_type": "stream",
     "text": [
      "[[-3*6*Pow((2*x+1),2)+2,2],[0,-0.5]]\n"
     ]
    }
   ],
   "source": [
    "df = dst.Diff(f, [x,y]) # differentiate each component of f with respect to x and y -- Jacobian, see next section\n",
    "print df"
   ]
  },
  {
   "cell_type": "code",
   "execution_count": 100,
   "metadata": {
    "collapsed": false
   },
   "outputs": [
    {
     "name": "stdout",
     "output_type": "stream",
     "text": [
      "[[-880.0,2],[0,-0.5]]\n"
     ]
    }
   ],
   "source": [
    "dfe = df.eval(x=3,y=10)\n",
    "print dfe"
   ]
  },
  {
   "cell_type": "code",
   "execution_count": 101,
   "metadata": {
    "collapsed": false
   },
   "outputs": [
    {
     "data": {
      "text/plain": [
       "QuantSpec __result__ (ExpFuncSpec)"
      ]
     },
     "execution_count": 218,
     "metadata": {},
     "output_type": "execute_result"
    }
   ],
   "source": [
    "dfe"
   ]
  },
  {
   "cell_type": "code",
   "execution_count": 102,
   "metadata": {
    "collapsed": false
   },
   "outputs": [
    {
     "data": {
      "text/plain": [
       "array([[ -8.80000000e+02,   2.00000000e+00],\n",
       "       [  0.00000000e+00,  -5.00000000e-01]])"
      ]
     },
     "execution_count": 219,
     "metadata": {},
     "output_type": "execute_result"
    }
   ],
   "source": [
    "dfe.tonumeric()"
   ]
  },
  {
   "cell_type": "code",
   "execution_count": 103,
   "metadata": {
    "collapsed": false
   },
   "outputs": [
    {
     "data": {
      "text/plain": [
       "numpy.ndarray"
      ]
     },
     "execution_count": 221,
     "metadata": {},
     "output_type": "execute_result"
    }
   ],
   "source": [
    "type(dfe.tonumeric())"
   ]
  },
  {
   "cell_type": "markdown",
   "metadata": {},
   "source": [
    "#Symbolic differentiation"
   ]
  },
  {
   "cell_type": "markdown",
   "metadata": {},
   "source": [
    "Symbolic differentiation of mathematical expressions involving common mathematical functions is supported through the function `Diff`. \n",
    "\n",
    "The `Diff` function is meant to be a symbolic counterpart to the numerical derivative function `diff`, implemented in `common.py`, in the spirit of the Maple symbolic engine.\n",
    "\n",
    "For many examples see the script `PyDSTool/tests/Symbolic_Diff_test.py`."
   ]
  },
  {
   "cell_type": "markdown",
   "metadata": {},
   "source": [
    "#Specification types"
   ]
  },
  {
   "cell_type": "markdown",
   "metadata": {},
   "source": [
    "There are three specification sub-types of both Quantity and QuantSpec objects, determined by the 'specType' argument at initialization. These types are: \n",
    "\n",
    "* `'RHSfuncSpec'` (the named `Quantity` is defined as a right-hand side for differential or difference equation)\n",
    "* `'ExpFuncSpec'` (the named `Quantity` is defined explicitly by the expression, such as for an auxiliary variable)\n",
    "* `'ImpFuncSpec'` (the named `Quantity` is defined implicitly by the expression) \n",
    "\n",
    "The default is `'ExpFuncSpec'`. This type does not allow the `Quantity`'s name to appear in the defining expression, whereas the other two types do allow this."
   ]
  },
  {
   "cell_type": "code",
   "execution_count": 104,
   "metadata": {
    "collapsed": false
   },
   "outputs": [],
   "source": [
    "f = dst.Var('2*k', 'f')"
   ]
  },
  {
   "cell_type": "code",
   "execution_count": 105,
   "metadata": {
    "collapsed": false
   },
   "outputs": [
    {
     "ename": "ValueError",
     "evalue": "Cannot define the symbol g in terms of itself with spec type ExpFuncSpec",
     "output_type": "error",
     "traceback": [
      "\u001b[1;31m---------------------------------------------------------------------------\u001b[0m",
      "\u001b[1;31mValueError\u001b[0m                                Traceback (most recent call last)",
      "\u001b[1;32m<ipython-input-238-c4662803ba86>\u001b[0m in \u001b[0;36m<module>\u001b[1;34m()\u001b[0m\n\u001b[1;32m----> 1\u001b[1;33m \u001b[0mg\u001b[0m \u001b[1;33m=\u001b[0m \u001b[0mdst\u001b[0m\u001b[1;33m.\u001b[0m\u001b[0mVar\u001b[0m\u001b[1;33m(\u001b[0m\u001b[1;34m'g(2*k)'\u001b[0m\u001b[1;33m,\u001b[0m \u001b[1;34m'g'\u001b[0m\u001b[1;33m)\u001b[0m\u001b[1;33m\u001b[0m\u001b[0m\n\u001b[0m",
      "\u001b[1;32m/home/brian/anaconda/lib/python2.7/site-packages/PyDSTool/Symbolic.pyc\u001b[0m in \u001b[0;36m__init__\u001b[1;34m(self, spec, name, domain, specType)\u001b[0m\n\u001b[0;32m   2237\u001b[0m                 \u001b[1;31m# declaring a symbol and its non-trivial definition in spec\u001b[0m\u001b[1;33m\u001b[0m\u001b[1;33m\u001b[0m\u001b[0m\n\u001b[0;32m   2238\u001b[0m                 \u001b[0mtoken\u001b[0m \u001b[1;33m=\u001b[0m \u001b[0mname\u001b[0m\u001b[1;33m.\u001b[0m\u001b[0mstrip\u001b[0m\u001b[1;33m(\u001b[0m\u001b[1;33m)\u001b[0m\u001b[1;33m\u001b[0m\u001b[0m\n\u001b[1;32m-> 2239\u001b[1;33m                 \u001b[0mactual_spec\u001b[0m \u001b[1;33m=\u001b[0m \u001b[0mQuantSpec\u001b[0m\u001b[1;33m(\u001b[0m\u001b[0mtoken\u001b[0m\u001b[1;33m,\u001b[0m \u001b[0mspec\u001b[0m\u001b[1;33m,\u001b[0m \u001b[0mspecType\u001b[0m\u001b[1;33m)\u001b[0m\u001b[1;33m\u001b[0m\u001b[0m\n\u001b[0m\u001b[0;32m   2240\u001b[0m             \u001b[1;32melif\u001b[0m \u001b[0misMultiDef\u001b[0m\u001b[1;33m(\u001b[0m\u001b[0mname\u001b[0m\u001b[1;33m)\u001b[0m\u001b[1;33m:\u001b[0m\u001b[1;33m\u001b[0m\u001b[0m\n\u001b[0;32m   2241\u001b[0m                 \u001b[1;31m# declaring multiple symbols at once, with their definition\u001b[0m\u001b[1;33m\u001b[0m\u001b[1;33m\u001b[0m\u001b[0m\n",
      "\u001b[1;32m/home/brian/anaconda/lib/python2.7/site-packages/PyDSTool/Symbolic.pyc\u001b[0m in \u001b[0;36m__init__\u001b[1;34m(self, subjectToken, specStr, specType, includeProtected, treatMultiRefs, preserveSpace, ignoreSpecial)\u001b[0m\n\u001b[0;32m    995\u001b[0m             \u001b[1;31m# spec not long enough therefore self cannot be a vector\u001b[0m\u001b[1;33m\u001b[0m\u001b[1;33m\u001b[0m\u001b[0m\n\u001b[0;32m    996\u001b[0m             \u001b[0mself\u001b[0m\u001b[1;33m.\u001b[0m\u001b[0mdim\u001b[0m \u001b[1;33m=\u001b[0m \u001b[1;36m0\u001b[0m\u001b[1;33m\u001b[0m\u001b[0m\n\u001b[1;32m--> 997\u001b[1;33m         \u001b[0mself\u001b[0m\u001b[1;33m.\u001b[0m\u001b[0m_check_self_ref\u001b[0m\u001b[1;33m(\u001b[0m\u001b[1;33m)\u001b[0m\u001b[1;33m\u001b[0m\u001b[0m\n\u001b[0m\u001b[0;32m    998\u001b[0m \u001b[1;33m\u001b[0m\u001b[0m\n\u001b[0;32m    999\u001b[0m     \u001b[1;32mdef\u001b[0m \u001b[0m_check_self_ref\u001b[0m\u001b[1;33m(\u001b[0m\u001b[0mself\u001b[0m\u001b[1;33m)\u001b[0m\u001b[1;33m:\u001b[0m\u001b[1;33m\u001b[0m\u001b[0m\n",
      "\u001b[1;32m/home/brian/anaconda/lib/python2.7/site-packages/PyDSTool/Symbolic.pyc\u001b[0m in \u001b[0;36m_check_self_ref\u001b[1;34m(self)\u001b[0m\n\u001b[0;32m   1003\u001b[0m                 \u001b[1;32mfor\u001b[0m \u001b[0mloc\u001b[0m \u001b[1;32min\u001b[0m \u001b[0mlocs\u001b[0m\u001b[1;33m:\u001b[0m\u001b[1;33m\u001b[0m\u001b[0m\n\u001b[0;32m   1004\u001b[0m                     \u001b[1;32mif\u001b[0m \u001b[0mloc\u001b[0m \u001b[1;33m<=\u001b[0m \u001b[1;36m1\u001b[0m \u001b[1;32mor\u001b[0m \u001b[0mself\u001b[0m\u001b[1;33m.\u001b[0m\u001b[0mparser\u001b[0m\u001b[1;33m.\u001b[0m\u001b[0mtokenized\u001b[0m\u001b[1;33m[\u001b[0m\u001b[0mloc\u001b[0m\u001b[1;33m-\u001b[0m\u001b[1;36m2\u001b[0m\u001b[1;33m:\u001b[0m\u001b[0mloc\u001b[0m\u001b[1;33m]\u001b[0m \u001b[1;33m!=\u001b[0m \u001b[1;33m[\u001b[0m\u001b[1;34m'initcond'\u001b[0m\u001b[1;33m,\u001b[0m \u001b[1;34m'('\u001b[0m\u001b[1;33m]\u001b[0m\u001b[1;33m:\u001b[0m\u001b[1;33m\u001b[0m\u001b[0m\n\u001b[1;32m-> 1005\u001b[1;33m                         raise ValueError(\"Cannot define the symbol \"+self.subjectToken+\" in\"\n\u001b[0m\u001b[0;32m   1006\u001b[0m                                  \" terms of itself with spec type ExpFuncSpec\")\n\u001b[0;32m   1007\u001b[0m \u001b[1;33m\u001b[0m\u001b[0m\n",
      "\u001b[1;31mValueError\u001b[0m: Cannot define the symbol g in terms of itself with spec type ExpFuncSpec"
     ]
    }
   ],
   "source": [
    "g = dst.Var('g(2*k)', 'g')"
   ]
  },
  {
   "cell_type": "code",
   "execution_count": 106,
   "metadata": {
    "collapsed": false
   },
   "outputs": [],
   "source": [
    "g = dst.Var('g*2*k', 'g', specType=\"ImpFuncSpec\")"
   ]
  },
  {
   "cell_type": "code",
   "execution_count": 107,
   "metadata": {
    "collapsed": false
   },
   "outputs": [],
   "source": [
    "h = dst.Var('h*2*k', 'h', specType=\"RHSfuncSpec\")"
   ]
  },
  {
   "cell_type": "markdown",
   "metadata": {},
   "source": [
    "These type strings are used by the `ModelConstructor` class to automatically determine how to treat each definition in a 'flattened' `ModelSpec` specification dictionary, and allows it to verify whether the types are compatible with the target `Generator` in which the specification will be instantiated. For instance, `'ImpFuncSpec'` definition types cannot be supplied to an `ExplicitFnGen` generator class"
   ]
  },
  {
   "cell_type": "markdown",
   "metadata": {},
   "source": [
    "#Creation of Python functions from symbolic expressions"
   ]
  },
  {
   "cell_type": "markdown",
   "metadata": {},
   "source": [
    "Symbolic expressions can be turned into Python functions using the `expr2fun` utility. The \"free names\" of an expression can either be numerically substituted from a supplied name -> value dictionary or left to become formal arguments to the function.\n",
    "\n",
    "This utility can be handy to graph auxiliary functions from their abstract specifications (e.g., see `/examples/CIN.py`). Here is a simple example:"
   ]
  },
  {
   "cell_type": "code",
   "execution_count": 108,
   "metadata": {
    "collapsed": false
   },
   "outputs": [
    {
     "data": {
      "text/plain": [
       "<PyDSTool.Symbolic.fn_1429904406_91_fn_wrapper at 0x7fd23817bdd0>"
      ]
     },
     "execution_count": 248,
     "metadata": {},
     "output_type": "execute_result"
    }
   ],
   "source": [
    "pyf = dst.expr2fun(f)\n",
    "pyf"
   ]
  },
  {
   "cell_type": "code",
   "execution_count": 109,
   "metadata": {
    "collapsed": false
   },
   "outputs": [
    {
     "data": {
      "text/plain": [
       "4"
      ]
     },
     "execution_count": 249,
     "metadata": {},
     "output_type": "execute_result"
    }
   ],
   "source": [
    "pyf(2)"
   ]
  },
  {
   "cell_type": "code",
   "execution_count": 110,
   "metadata": {
    "collapsed": true
   },
   "outputs": [],
   "source": [
    "vecpyf = np.vectorize(pyf)"
   ]
  },
  {
   "cell_type": "code",
   "execution_count": 111,
   "metadata": {
    "collapsed": false
   },
   "outputs": [
    {
     "data": {
      "text/plain": [
       "array([0, 2, 4, 6, 8])"
      ]
     },
     "execution_count": 252,
     "metadata": {},
     "output_type": "execute_result"
    }
   ],
   "source": [
    "vecpyf(np.arange(5))"
   ]
  },
  {
   "cell_type": "markdown",
   "metadata": {},
   "source": [
    "#Additional technical information"
   ]
  },
  {
   "cell_type": "markdown",
   "metadata": {},
   "source": [
    "Both `Quantity` and `QuantSpec` objects have a `usedSymbols` attribute that shows which alphanumeric symbols were used in the object's definition (not including its name)."
   ]
  },
  {
   "cell_type": "code",
   "execution_count": 112,
   "metadata": {
    "collapsed": false
   },
   "outputs": [
    {
     "data": {
      "text/plain": [
       "['1', 'k', '2']"
      ]
     },
     "execution_count": 254,
     "metadata": {},
     "output_type": "execute_result"
    }
   ],
   "source": [
    "v.usedSymbols"
   ]
  },
  {
   "cell_type": "markdown",
   "metadata": {},
   "source": [
    "When defining a `Quantity`, additional information can be provided, such as the valid domain of the variable/parameter/function values. The domain defaults to the floating-point continuous domain `[-INF,INF]`."
   ]
  },
  {
   "cell_type": "markdown",
   "metadata": {},
   "source": [
    "#`Symbolic.py`"
   ]
  },
  {
   "cell_type": "markdown",
   "metadata": {},
   "source": [
    "Preliminary efforts to document useful code inside `Symbolic.py` that hasn't been covered yet."
   ]
  },
  {
   "cell_type": "markdown",
   "metadata": {},
   "source": [
    "###`prepJacobian(varspecs, coords, fnspecs=None, max_iter_depth=20)`\n",
    "\n",
    "Returns a symbolic Jacobian and updated function specs to support its definition from variable specifications. Only makes the Jacobian with respect to the named coordinates, which will be sorted into alphabetical order.\n",
    "\n",
    "What is its purpose? Why does it not work in the examples below?"
   ]
  },
  {
   "cell_type": "code",
   "execution_count": 113,
   "metadata": {
    "collapsed": false
   },
   "outputs": [
    {
     "ename": "TypeError",
     "evalue": "list indices must be integers, not str",
     "output_type": "error",
     "traceback": [
      "\u001b[1;31m---------------------------------------------------------------------------\u001b[0m",
      "\u001b[1;31mTypeError\u001b[0m                                 Traceback (most recent call last)",
      "\u001b[1;32m<ipython-input-9-95011c80af78>\u001b[0m in \u001b[0;36m<module>\u001b[1;34m()\u001b[0m\n\u001b[0;32m      4\u001b[0m \u001b[0mf\u001b[0m \u001b[1;33m=\u001b[0m \u001b[0mdst\u001b[0m\u001b[1;33m.\u001b[0m\u001b[0mVar\u001b[0m\u001b[1;33m(\u001b[0m\u001b[1;33m[\u001b[0m\u001b[1;34m'-3*x'\u001b[0m\u001b[1;33m,\u001b[0m \u001b[1;34m'-y/2'\u001b[0m\u001b[1;33m]\u001b[0m\u001b[1;33m,\u001b[0m \u001b[1;34m'f'\u001b[0m\u001b[1;33m)\u001b[0m\u001b[1;33m\u001b[0m\u001b[0m\n\u001b[0;32m      5\u001b[0m \u001b[1;33m\u001b[0m\u001b[0m\n\u001b[1;32m----> 6\u001b[1;33m \u001b[0mdst\u001b[0m\u001b[1;33m.\u001b[0m\u001b[0mprepJacobian\u001b[0m\u001b[1;33m(\u001b[0m\u001b[0mf\u001b[0m\u001b[1;33m,\u001b[0m \u001b[1;33m[\u001b[0m\u001b[1;34m'x'\u001b[0m\u001b[1;33m,\u001b[0m \u001b[1;34m'y'\u001b[0m\u001b[1;33m]\u001b[0m\u001b[1;33m)\u001b[0m\u001b[1;33m\u001b[0m\u001b[0m\n\u001b[0m",
      "\u001b[1;32m/home/brian/anaconda/lib/python2.7/site-packages/PyDSTool/Symbolic.py\u001b[0m in \u001b[0;36mprepJacobian\u001b[1;34m(varspecs, coords, fnspecs, max_iter_depth)\u001b[0m\n\u001b[0;32m    886\u001b[0m \u001b[1;33m\u001b[0m\u001b[0m\n\u001b[0;32m    887\u001b[0m     \"\"\"\n\u001b[1;32m--> 888\u001b[1;33m     \u001b[0mneed_specs\u001b[0m \u001b[1;33m=\u001b[0m \u001b[0mfilteredDict\u001b[0m\u001b[1;33m(\u001b[0m\u001b[0mvarspecs\u001b[0m\u001b[1;33m,\u001b[0m \u001b[0mcoords\u001b[0m\u001b[1;33m)\u001b[0m\u001b[1;33m\u001b[0m\u001b[0m\n\u001b[0m\u001b[0;32m    889\u001b[0m     \u001b[0mcoords\u001b[0m\u001b[1;33m.\u001b[0m\u001b[0msort\u001b[0m\u001b[1;33m(\u001b[0m\u001b[1;33m)\u001b[0m\u001b[1;33m\u001b[0m\u001b[0m\n\u001b[0;32m    890\u001b[0m     \u001b[0mjac\u001b[0m \u001b[1;33m=\u001b[0m \u001b[0mDiff\u001b[0m\u001b[1;33m(\u001b[0m\u001b[0msortedDictValues\u001b[0m\u001b[1;33m(\u001b[0m\u001b[0mneed_specs\u001b[0m\u001b[1;33m)\u001b[0m\u001b[1;33m,\u001b[0m \u001b[0mcoords\u001b[0m\u001b[1;33m)\u001b[0m\u001b[1;33m\u001b[0m\u001b[0m\n",
      "\u001b[1;32m/home/brian/anaconda/lib/python2.7/site-packages/PyDSTool/common.py\u001b[0m in \u001b[0;36mfilteredDict\u001b[1;34m(d, keys, neg)\u001b[0m\n\u001b[0;32m    662\u001b[0m     \u001b[1;32mfor\u001b[0m \u001b[0mk\u001b[0m \u001b[1;32min\u001b[0m \u001b[0mout_keys\u001b[0m\u001b[1;33m:\u001b[0m\u001b[1;33m\u001b[0m\u001b[0m\n\u001b[0;32m    663\u001b[0m         \u001b[1;32mtry\u001b[0m\u001b[1;33m:\u001b[0m\u001b[1;33m\u001b[0m\u001b[0m\n\u001b[1;32m--> 664\u001b[1;33m             \u001b[0mout_d\u001b[0m\u001b[1;33m[\u001b[0m\u001b[0mk\u001b[0m\u001b[1;33m]\u001b[0m \u001b[1;33m=\u001b[0m \u001b[0md\u001b[0m\u001b[1;33m[\u001b[0m\u001b[0mk\u001b[0m\u001b[1;33m]\u001b[0m\u001b[1;33m\u001b[0m\u001b[0m\n\u001b[0m\u001b[0;32m    665\u001b[0m         \u001b[1;32mexcept\u001b[0m \u001b[0mKeyError\u001b[0m\u001b[1;33m:\u001b[0m\u001b[1;33m\u001b[0m\u001b[0m\n\u001b[0;32m    666\u001b[0m             \u001b[1;32mpass\u001b[0m\u001b[1;33m\u001b[0m\u001b[0m\n",
      "\u001b[1;32m/home/brian/anaconda/lib/python2.7/site-packages/PyDSTool/Symbolic.py\u001b[0m in \u001b[0;36m__getitem__\u001b[1;34m(self, x)\u001b[0m\n\u001b[0;32m   2447\u001b[0m                                  \"of the valid range [%i,%i]\"%(i1,i2))\n\u001b[0;32m   2448\u001b[0m         \u001b[1;32melif\u001b[0m \u001b[0mself\u001b[0m\u001b[1;33m.\u001b[0m\u001b[0misvector\u001b[0m\u001b[1;33m(\u001b[0m\u001b[1;33m)\u001b[0m\u001b[1;33m:\u001b[0m\u001b[1;33m\u001b[0m\u001b[0m\n\u001b[1;32m-> 2449\u001b[1;33m             \u001b[1;32mreturn\u001b[0m \u001b[0mself\u001b[0m\u001b[1;33m.\u001b[0m\u001b[0mfromvector\u001b[0m\u001b[1;33m(\u001b[0m\u001b[0mx\u001b[0m\u001b[1;33m)\u001b[0m\u001b[1;33m\u001b[0m\u001b[0m\n\u001b[0m\u001b[0;32m   2450\u001b[0m         \u001b[1;32melse\u001b[0m\u001b[1;33m:\u001b[0m\u001b[1;33m\u001b[0m\u001b[0m\n\u001b[0;32m   2451\u001b[0m             raise IndexError(\"Quantity %s does not contain multiple \"\n",
      "\u001b[1;32m/home/brian/anaconda/lib/python2.7/site-packages/PyDSTool/Symbolic.py\u001b[0m in \u001b[0;36mfromvector\u001b[1;34m(self, ix)\u001b[0m\n\u001b[0;32m   2403\u001b[0m             \u001b[1;32melse\u001b[0m\u001b[1;33m:\u001b[0m\u001b[1;33m\u001b[0m\u001b[0m\n\u001b[0;32m   2404\u001b[0m                 \u001b[1;32mtry\u001b[0m\u001b[1;33m:\u001b[0m\u001b[1;33m\u001b[0m\u001b[0m\n\u001b[1;32m-> 2405\u001b[1;33m                     \u001b[1;32mreturn\u001b[0m \u001b[0mres\u001b[0m\u001b[1;33m[\u001b[0m\u001b[0mix\u001b[0m\u001b[1;33m]\u001b[0m\u001b[1;33m\u001b[0m\u001b[0m\n\u001b[0m\u001b[0;32m   2406\u001b[0m                 \u001b[1;32mexcept\u001b[0m \u001b[0mIndexError\u001b[0m\u001b[1;33m:\u001b[0m\u001b[1;33m\u001b[0m\u001b[0m\n\u001b[0;32m   2407\u001b[0m                     \u001b[1;32mraise\u001b[0m \u001b[0mIndexError\u001b[0m\u001b[1;33m(\u001b[0m\u001b[1;34m\"Index out of range in vector Quantity\"\u001b[0m\u001b[1;33m)\u001b[0m\u001b[1;33m\u001b[0m\u001b[0m\n",
      "\u001b[1;31mTypeError\u001b[0m: list indices must be integers, not str"
     ]
    }
   ],
   "source": [
    "x = dst.Var('x')\n",
    "y = dst.Var('y')\n",
    "\n",
    "f = dst.Var(['-3*x', '-y/2'], 'f')\n",
    "            \n",
    "dst.prepJacobian(f, ['x', 'y'])"
   ]
  },
  {
   "cell_type": "code",
   "execution_count": 114,
   "metadata": {
    "collapsed": false
   },
   "outputs": [
    {
     "ename": "TypeError",
     "evalue": "list indices must be integers, not Var",
     "output_type": "error",
     "traceback": [
      "\u001b[1;31m---------------------------------------------------------------------------\u001b[0m",
      "\u001b[1;31mTypeError\u001b[0m                                 Traceback (most recent call last)",
      "\u001b[1;32m<ipython-input-10-ccfdd95a6429>\u001b[0m in \u001b[0;36m<module>\u001b[1;34m()\u001b[0m\n\u001b[0;32m      4\u001b[0m \u001b[0mf\u001b[0m \u001b[1;33m=\u001b[0m \u001b[0mdst\u001b[0m\u001b[1;33m.\u001b[0m\u001b[0mVar\u001b[0m\u001b[1;33m(\u001b[0m\u001b[1;33m[\u001b[0m\u001b[1;34m'-3*x'\u001b[0m\u001b[1;33m,\u001b[0m \u001b[1;34m'-y/2'\u001b[0m\u001b[1;33m]\u001b[0m\u001b[1;33m,\u001b[0m \u001b[1;34m'f'\u001b[0m\u001b[1;33m)\u001b[0m\u001b[1;33m\u001b[0m\u001b[0m\n\u001b[0;32m      5\u001b[0m \u001b[1;33m\u001b[0m\u001b[0m\n\u001b[1;32m----> 6\u001b[1;33m \u001b[0mdst\u001b[0m\u001b[1;33m.\u001b[0m\u001b[0mprepJacobian\u001b[0m\u001b[1;33m(\u001b[0m\u001b[0mf\u001b[0m\u001b[1;33m,\u001b[0m \u001b[1;33m[\u001b[0m\u001b[0mx\u001b[0m\u001b[1;33m,\u001b[0m \u001b[0my\u001b[0m\u001b[1;33m]\u001b[0m\u001b[1;33m)\u001b[0m\u001b[1;33m\u001b[0m\u001b[0m\n\u001b[0m",
      "\u001b[1;32m/home/brian/anaconda/lib/python2.7/site-packages/PyDSTool/Symbolic.py\u001b[0m in \u001b[0;36mprepJacobian\u001b[1;34m(varspecs, coords, fnspecs, max_iter_depth)\u001b[0m\n\u001b[0;32m    886\u001b[0m \u001b[1;33m\u001b[0m\u001b[0m\n\u001b[0;32m    887\u001b[0m     \"\"\"\n\u001b[1;32m--> 888\u001b[1;33m     \u001b[0mneed_specs\u001b[0m \u001b[1;33m=\u001b[0m \u001b[0mfilteredDict\u001b[0m\u001b[1;33m(\u001b[0m\u001b[0mvarspecs\u001b[0m\u001b[1;33m,\u001b[0m \u001b[0mcoords\u001b[0m\u001b[1;33m)\u001b[0m\u001b[1;33m\u001b[0m\u001b[0m\n\u001b[0m\u001b[0;32m    889\u001b[0m     \u001b[0mcoords\u001b[0m\u001b[1;33m.\u001b[0m\u001b[0msort\u001b[0m\u001b[1;33m(\u001b[0m\u001b[1;33m)\u001b[0m\u001b[1;33m\u001b[0m\u001b[0m\n\u001b[0;32m    890\u001b[0m     \u001b[0mjac\u001b[0m \u001b[1;33m=\u001b[0m \u001b[0mDiff\u001b[0m\u001b[1;33m(\u001b[0m\u001b[0msortedDictValues\u001b[0m\u001b[1;33m(\u001b[0m\u001b[0mneed_specs\u001b[0m\u001b[1;33m)\u001b[0m\u001b[1;33m,\u001b[0m \u001b[0mcoords\u001b[0m\u001b[1;33m)\u001b[0m\u001b[1;33m\u001b[0m\u001b[0m\n",
      "\u001b[1;32m/home/brian/anaconda/lib/python2.7/site-packages/PyDSTool/common.py\u001b[0m in \u001b[0;36mfilteredDict\u001b[1;34m(d, keys, neg)\u001b[0m\n\u001b[0;32m    662\u001b[0m     \u001b[1;32mfor\u001b[0m \u001b[0mk\u001b[0m \u001b[1;32min\u001b[0m \u001b[0mout_keys\u001b[0m\u001b[1;33m:\u001b[0m\u001b[1;33m\u001b[0m\u001b[0m\n\u001b[0;32m    663\u001b[0m         \u001b[1;32mtry\u001b[0m\u001b[1;33m:\u001b[0m\u001b[1;33m\u001b[0m\u001b[0m\n\u001b[1;32m--> 664\u001b[1;33m             \u001b[0mout_d\u001b[0m\u001b[1;33m[\u001b[0m\u001b[0mk\u001b[0m\u001b[1;33m]\u001b[0m \u001b[1;33m=\u001b[0m \u001b[0md\u001b[0m\u001b[1;33m[\u001b[0m\u001b[0mk\u001b[0m\u001b[1;33m]\u001b[0m\u001b[1;33m\u001b[0m\u001b[0m\n\u001b[0m\u001b[0;32m    665\u001b[0m         \u001b[1;32mexcept\u001b[0m \u001b[0mKeyError\u001b[0m\u001b[1;33m:\u001b[0m\u001b[1;33m\u001b[0m\u001b[0m\n\u001b[0;32m    666\u001b[0m             \u001b[1;32mpass\u001b[0m\u001b[1;33m\u001b[0m\u001b[0m\n",
      "\u001b[1;32m/home/brian/anaconda/lib/python2.7/site-packages/PyDSTool/Symbolic.py\u001b[0m in \u001b[0;36m__getitem__\u001b[1;34m(self, x)\u001b[0m\n\u001b[0;32m   2447\u001b[0m                                  \"of the valid range [%i,%i]\"%(i1,i2))\n\u001b[0;32m   2448\u001b[0m         \u001b[1;32melif\u001b[0m \u001b[0mself\u001b[0m\u001b[1;33m.\u001b[0m\u001b[0misvector\u001b[0m\u001b[1;33m(\u001b[0m\u001b[1;33m)\u001b[0m\u001b[1;33m:\u001b[0m\u001b[1;33m\u001b[0m\u001b[0m\n\u001b[1;32m-> 2449\u001b[1;33m             \u001b[1;32mreturn\u001b[0m \u001b[0mself\u001b[0m\u001b[1;33m.\u001b[0m\u001b[0mfromvector\u001b[0m\u001b[1;33m(\u001b[0m\u001b[0mx\u001b[0m\u001b[1;33m)\u001b[0m\u001b[1;33m\u001b[0m\u001b[0m\n\u001b[0m\u001b[0;32m   2450\u001b[0m         \u001b[1;32melse\u001b[0m\u001b[1;33m:\u001b[0m\u001b[1;33m\u001b[0m\u001b[0m\n\u001b[0;32m   2451\u001b[0m             raise IndexError(\"Quantity %s does not contain multiple \"\n",
      "\u001b[1;32m/home/brian/anaconda/lib/python2.7/site-packages/PyDSTool/Symbolic.py\u001b[0m in \u001b[0;36mfromvector\u001b[1;34m(self, ix)\u001b[0m\n\u001b[0;32m   2403\u001b[0m             \u001b[1;32melse\u001b[0m\u001b[1;33m:\u001b[0m\u001b[1;33m\u001b[0m\u001b[0m\n\u001b[0;32m   2404\u001b[0m                 \u001b[1;32mtry\u001b[0m\u001b[1;33m:\u001b[0m\u001b[1;33m\u001b[0m\u001b[0m\n\u001b[1;32m-> 2405\u001b[1;33m                     \u001b[1;32mreturn\u001b[0m \u001b[0mres\u001b[0m\u001b[1;33m[\u001b[0m\u001b[0mix\u001b[0m\u001b[1;33m]\u001b[0m\u001b[1;33m\u001b[0m\u001b[0m\n\u001b[0m\u001b[0;32m   2406\u001b[0m                 \u001b[1;32mexcept\u001b[0m \u001b[0mIndexError\u001b[0m\u001b[1;33m:\u001b[0m\u001b[1;33m\u001b[0m\u001b[0m\n\u001b[0;32m   2407\u001b[0m                     \u001b[1;32mraise\u001b[0m \u001b[0mIndexError\u001b[0m\u001b[1;33m(\u001b[0m\u001b[1;34m\"Index out of range in vector Quantity\"\u001b[0m\u001b[1;33m)\u001b[0m\u001b[1;33m\u001b[0m\u001b[0m\n",
      "\u001b[1;31mTypeError\u001b[0m: list indices must be integers, not Var"
     ]
    }
   ],
   "source": [
    "x = dst.Var('x')\n",
    "y = dst.Var('y')\n",
    "\n",
    "f = dst.Var(['-3*x', '-y/2'], 'f')\n",
    "            \n",
    "dst.prepJacobian(f, [x, y])"
   ]
  },
  {
   "cell_type": "code",
   "execution_count": 115,
   "metadata": {
    "collapsed": false
   },
   "outputs": [
    {
     "data": {
      "text/plain": [
       "{0: QuantSpec f_0 (ExpFuncSpec), 1: QuantSpec f_1 (ExpFuncSpec)}"
      ]
     },
     "execution_count": 271,
     "metadata": {},
     "output_type": "execute_result"
    }
   ],
   "source": [
    "dst.filteredDict(f, [0, 1])"
   ]
  },
  {
   "cell_type": "code",
   "execution_count": 116,
   "metadata": {
    "collapsed": false
   },
   "outputs": [
    {
     "data": {
      "text/plain": [
       "[QuantSpec f_0 (ExpFuncSpec), QuantSpec f_1 (ExpFuncSpec)]"
      ]
     },
     "execution_count": 277,
     "metadata": {},
     "output_type": "execute_result"
    }
   ],
   "source": [
    "dst.sortedDictValues(dst.filteredDict(f, [0, 1]))"
   ]
  },
  {
   "cell_type": "code",
   "execution_count": 117,
   "metadata": {
    "collapsed": false
   },
   "outputs": [
    {
     "ename": "TypeError",
     "evalue": "not all arguments converted during string formatting",
     "output_type": "error",
     "traceback": [
      "\u001b[1;31m---------------------------------------------------------------------------\u001b[0m",
      "\u001b[1;31mTypeError\u001b[0m                                 Traceback (most recent call last)",
      "\u001b[1;32m<ipython-input-278-166a6cde6b1d>\u001b[0m in \u001b[0;36m<module>\u001b[1;34m()\u001b[0m\n\u001b[1;32m----> 1\u001b[1;33m \u001b[0mdst\u001b[0m\u001b[1;33m.\u001b[0m\u001b[0mDiff\u001b[0m\u001b[1;33m(\u001b[0m\u001b[0mdst\u001b[0m\u001b[1;33m.\u001b[0m\u001b[0msortedDictValues\u001b[0m\u001b[1;33m(\u001b[0m\u001b[0mdst\u001b[0m\u001b[1;33m.\u001b[0m\u001b[0mfilteredDict\u001b[0m\u001b[1;33m(\u001b[0m\u001b[0mf\u001b[0m\u001b[1;33m,\u001b[0m \u001b[1;33m[\u001b[0m\u001b[1;36m0\u001b[0m\u001b[1;33m,\u001b[0m \u001b[1;36m1\u001b[0m\u001b[1;33m]\u001b[0m\u001b[1;33m)\u001b[0m\u001b[1;33m)\u001b[0m\u001b[1;33m,\u001b[0m \u001b[1;33m[\u001b[0m\u001b[1;36m0\u001b[0m\u001b[1;33m,\u001b[0m \u001b[1;36m1\u001b[0m\u001b[1;33m]\u001b[0m\u001b[1;33m)\u001b[0m\u001b[1;33m\u001b[0m\u001b[0m\n\u001b[0m",
      "\u001b[1;32m/home/brian/anaconda/lib/python2.7/site-packages/PyDSTool/Symbolic.pyc\u001b[0m in \u001b[0;36mDiff\u001b[1;34m(t, a)\u001b[0m\n\u001b[0;32m   2915\u001b[0m             \u001b[0mt_arg\u001b[0m \u001b[1;33m=\u001b[0m \u001b[0mstr\u001b[0m\u001b[1;33m(\u001b[0m\u001b[0mqt\u001b[0m\u001b[1;33m)\u001b[0m\u001b[1;33m\u001b[0m\u001b[0m\n\u001b[0;32m   2916\u001b[0m     \u001b[1;32melif\u001b[0m \u001b[0mcompareClassAndBases\u001b[0m\u001b[1;33m(\u001b[0m\u001b[0mt\u001b[0m\u001b[1;33m,\u001b[0m \u001b[1;33m(\u001b[0m\u001b[0mlist\u001b[0m\u001b[1;33m,\u001b[0m \u001b[0mtuple\u001b[0m\u001b[1;33m)\u001b[0m\u001b[1;33m)\u001b[0m\u001b[1;33m:\u001b[0m\u001b[1;33m\u001b[0m\u001b[0m\n\u001b[1;32m-> 2917\u001b[1;33m         \u001b[0mostr\u001b[0m \u001b[1;33m=\u001b[0m \u001b[1;34m\"[\"\u001b[0m \u001b[1;33m+\u001b[0m \u001b[1;34m\",\"\u001b[0m\u001b[1;33m.\u001b[0m\u001b[0mjoin\u001b[0m\u001b[1;33m(\u001b[0m\u001b[1;33m[\u001b[0m\u001b[0mstr\u001b[0m\u001b[1;33m(\u001b[0m\u001b[0mDiff\u001b[0m\u001b[1;33m(\u001b[0m\u001b[0mo\u001b[0m\u001b[1;33m,\u001b[0m\u001b[0ma\u001b[0m\u001b[1;33m)\u001b[0m\u001b[1;33m)\u001b[0m \u001b[1;32mfor\u001b[0m \u001b[0mo\u001b[0m \u001b[1;32min\u001b[0m \u001b[0mt\u001b[0m\u001b[1;33m]\u001b[0m\u001b[1;33m)\u001b[0m \u001b[1;33m+\u001b[0m \u001b[1;34m\"]\"\u001b[0m\u001b[1;33m\u001b[0m\u001b[0m\n\u001b[0m\u001b[0;32m   2918\u001b[0m         \u001b[1;32mreturn\u001b[0m \u001b[0mQuantSpec\u001b[0m\u001b[1;33m(\u001b[0m\u001b[1;34m\"__result__\"\u001b[0m\u001b[1;33m,\u001b[0m \u001b[0mostr\u001b[0m\u001b[1;33m)\u001b[0m\u001b[1;33m\u001b[0m\u001b[0m\n\u001b[0;32m   2919\u001b[0m     \u001b[1;32melse\u001b[0m\u001b[1;33m:\u001b[0m\u001b[1;33m\u001b[0m\u001b[0m\n",
      "\u001b[1;32m/home/brian/anaconda/lib/python2.7/site-packages/PyDSTool/Symbolic.pyc\u001b[0m in \u001b[0;36mDiff\u001b[1;34m(t, a)\u001b[0m\n\u001b[0;32m   2924\u001b[0m         \u001b[0ma_arg\u001b[0m \u001b[1;33m=\u001b[0m \u001b[0mstr\u001b[0m\u001b[1;33m(\u001b[0m\u001b[0ma\u001b[0m\u001b[1;33m)\u001b[0m\u001b[1;33m\u001b[0m\u001b[0m\n\u001b[0;32m   2925\u001b[0m     \u001b[1;32melif\u001b[0m \u001b[0misinstance\u001b[0m\u001b[1;33m(\u001b[0m\u001b[0ma\u001b[0m\u001b[1;33m,\u001b[0m \u001b[0mlist\u001b[0m\u001b[1;33m)\u001b[0m\u001b[1;33m:\u001b[0m\u001b[1;33m\u001b[0m\u001b[0m\n\u001b[1;32m-> 2926\u001b[1;33m         \u001b[0mostr\u001b[0m \u001b[1;33m=\u001b[0m \u001b[1;34m\"[\"\u001b[0m \u001b[1;33m+\u001b[0m \u001b[1;34m\",\"\u001b[0m\u001b[1;33m.\u001b[0m\u001b[0mjoin\u001b[0m\u001b[1;33m(\u001b[0m\u001b[1;33m[\u001b[0m\u001b[0mstr\u001b[0m\u001b[1;33m(\u001b[0m\u001b[0mDiff\u001b[0m\u001b[1;33m(\u001b[0m\u001b[0mt\u001b[0m\u001b[1;33m,\u001b[0m\u001b[0mo\u001b[0m\u001b[1;33m)\u001b[0m\u001b[1;33m)\u001b[0m \u001b[1;32mfor\u001b[0m \u001b[0mo\u001b[0m \u001b[1;32min\u001b[0m \u001b[0ma\u001b[0m\u001b[1;33m]\u001b[0m\u001b[1;33m)\u001b[0m \u001b[1;33m+\u001b[0m \u001b[1;34m\"]\"\u001b[0m\u001b[1;33m\u001b[0m\u001b[0m\n\u001b[0m\u001b[0;32m   2927\u001b[0m         \u001b[1;32mreturn\u001b[0m \u001b[0mQuantSpec\u001b[0m\u001b[1;33m(\u001b[0m\u001b[1;34m\"__result__\"\u001b[0m\u001b[1;33m,\u001b[0m \u001b[0mostr\u001b[0m\u001b[1;33m)\u001b[0m\u001b[1;33m\u001b[0m\u001b[0m\n\u001b[0;32m   2928\u001b[0m     \u001b[1;32melif\u001b[0m \u001b[0misinstance\u001b[0m\u001b[1;33m(\u001b[0m\u001b[0ma\u001b[0m\u001b[1;33m,\u001b[0m \u001b[0mstr\u001b[0m\u001b[1;33m)\u001b[0m\u001b[1;33m:\u001b[0m\u001b[1;33m\u001b[0m\u001b[0m\n",
      "\u001b[1;32m/home/brian/anaconda/lib/python2.7/site-packages/PyDSTool/Symbolic.pyc\u001b[0m in \u001b[0;36mDiff\u001b[1;34m(t, a)\u001b[0m\n\u001b[0;32m   2929\u001b[0m         \u001b[0ma_arg\u001b[0m \u001b[1;33m=\u001b[0m \u001b[0ma\u001b[0m\u001b[1;33m\u001b[0m\u001b[0m\n\u001b[0;32m   2930\u001b[0m     \u001b[1;32melse\u001b[0m\u001b[1;33m:\u001b[0m\u001b[1;33m\u001b[0m\u001b[0m\n\u001b[1;32m-> 2931\u001b[1;33m         \u001b[1;32mprint\u001b[0m\u001b[1;33m(\u001b[0m\u001b[1;34m\"Found: type (%s)\"\u001b[0m \u001b[1;33m%\u001b[0m \u001b[1;33m(\u001b[0m\u001b[0ma\u001b[0m\u001b[1;33m,\u001b[0m \u001b[0mtype\u001b[0m\u001b[1;33m(\u001b[0m\u001b[0ma\u001b[0m\u001b[1;33m)\u001b[0m\u001b[1;33m)\u001b[0m\u001b[1;33m)\u001b[0m\u001b[1;33m\u001b[0m\u001b[0m\n\u001b[0m\u001b[0;32m   2932\u001b[0m         \u001b[1;32mraise\u001b[0m \u001b[0mTypeError\u001b[0m\u001b[1;33m(\u001b[0m\u001b[1;34m\"Invalid type for a\"\u001b[0m\u001b[1;33m)\u001b[0m\u001b[1;33m\u001b[0m\u001b[0m\n\u001b[0;32m   2933\u001b[0m     \u001b[1;31m# if didn't already recurse then fully reduced to strings\u001b[0m\u001b[1;33m\u001b[0m\u001b[1;33m\u001b[0m\u001b[0m\n",
      "\u001b[1;31mTypeError\u001b[0m: not all arguments converted during string formatting"
     ]
    }
   ],
   "source": [
    "dst.Diff(dst.sortedDictValues(dst.filteredDict(f, [0, 1])), [0, 1])"
   ]
  },
  {
   "cell_type": "markdown",
   "metadata": {},
   "source": [
    "###`QuantSpec.difference(other)`"
   ]
  },
  {
   "cell_type": "code",
   "execution_count": 118,
   "metadata": {
    "collapsed": false
   },
   "outputs": [
    {
     "name": "stdout",
     "output_type": "stream",
     "text": [
      "Type:Var [True, False, True, True, True, False]\n"
     ]
    }
   ],
   "source": [
    "x = dst.Var('x')\n",
    "y = dst.Var('y')\n",
    "\n",
    "f = dst.Var(['-3*x', '-y/2'], 'f')\n",
    "g = dst.Var(['-2*x', '-y/2'], 'g')\n",
    "\n",
    "f.difference(g)"
   ]
  },
  {
   "cell_type": "markdown",
   "metadata": {},
   "source": [
    "The output as it stands isn't human readable. How can we make it human readable? Maybe print out what the \"key\" associated with each True/False?\n",
    "\n",
    "`results.append(type(self) == type(other))`\n",
    "\n",
    "`results.append(self.subjectToken == other.subjectToken)`\n",
    "\n",
    "`results.append(self.specStr.replace(\" \",\"\") == other.specStr.replace(\" \",\"\"))`\n",
    "\n",
    "`results.append(self.specType == other.specType)`\n",
    "\n",
    "`results.append(self.parser() == other.parser())`\n"
   ]
  },
  {
   "cell_type": "code",
   "execution_count": 119,
   "metadata": {
    "collapsed": false
   },
   "outputs": [
    {
     "data": {
      "text/plain": [
       "'f'"
      ]
     },
     "execution_count": 294,
     "metadata": {},
     "output_type": "execute_result"
    }
   ],
   "source": [
    "f().subjectToken"
   ]
  },
  {
   "cell_type": "code",
   "execution_count": 120,
   "metadata": {
    "collapsed": false
   },
   "outputs": [
    {
     "data": {
      "text/plain": [
       "'g'"
      ]
     },
     "execution_count": 295,
     "metadata": {},
     "output_type": "execute_result"
    }
   ],
   "source": [
    "g().subjectToken"
   ]
  },
  {
   "cell_type": "code",
   "execution_count": 121,
   "metadata": {
    "collapsed": false
   },
   "outputs": [
    {
     "data": {
      "text/plain": [
       "'[-3*x,-y/2]'"
      ]
     },
     "execution_count": 297,
     "metadata": {},
     "output_type": "execute_result"
    }
   ],
   "source": [
    "f().parser()"
   ]
  },
  {
   "cell_type": "markdown",
   "metadata": {},
   "source": [
    "###`Quantity.setDomain(domain)`"
   ]
  },
  {
   "cell_type": "code",
   "execution_count": 122,
   "metadata": {
    "collapsed": false,
    "scrolled": true
   },
   "outputs": [
    {
     "data": {
      "text/plain": [
       "(float, Continuous Domain, [-inf, inf])"
      ]
     },
     "execution_count": 286,
     "metadata": {},
     "output_type": "execute_result"
    }
   ],
   "source": [
    "f.domain"
   ]
  },
  {
   "cell_type": "code",
   "execution_count": 123,
   "metadata": {
    "collapsed": false
   },
   "outputs": [
    {
     "data": {
      "text/plain": [
       "(float, Continuous Domain, [0, 100])"
      ]
     },
     "execution_count": 289,
     "metadata": {},
     "output_type": "execute_result"
    }
   ],
   "source": [
    "f.setDomain([0, 100])\n",
    "f.domain"
   ]
  },
  {
   "cell_type": "markdown",
   "metadata": {},
   "source": [
    "`f` is a vector though, so what if I want to specify domains for each variable in `f`?"
   ]
  },
  {
   "cell_type": "markdown",
   "metadata": {},
   "source": [
    "###`QuantSpec.isvector()`"
   ]
  },
  {
   "cell_type": "code",
   "execution_count": 124,
   "metadata": {
    "collapsed": false
   },
   "outputs": [
    {
     "data": {
      "text/plain": [
       "True"
      ]
     },
     "execution_count": 290,
     "metadata": {},
     "output_type": "execute_result"
    }
   ],
   "source": [
    "f.isvector()"
   ]
  },
  {
   "cell_type": "markdown",
   "metadata": {},
   "source": [
    "###`Quantity.redefine(specStr)`"
   ]
  },
  {
   "cell_type": "code",
   "execution_count": 125,
   "metadata": {
    "collapsed": true
   },
   "outputs": [],
   "source": [
    "f.redefine('ImpFuncSpec')"
   ]
  },
  {
   "cell_type": "markdown",
   "metadata": {},
   "source": [
    "###`Quantity.isspecdefined()`"
   ]
  },
  {
   "cell_type": "code",
   "execution_count": 126,
   "metadata": {
    "collapsed": false
   },
   "outputs": [
    {
     "data": {
      "text/plain": [
       "True"
      ]
     },
     "execution_count": 298,
     "metadata": {},
     "output_type": "execute_result"
    }
   ],
   "source": [
    "f.isspecdefined()"
   ]
  },
  {
   "cell_type": "markdown",
   "metadata": {},
   "source": [
    "###`Quantity.renderForCode()`"
   ]
  },
  {
   "cell_type": "markdown",
   "metadata": {},
   "source": [
    "Return code-ready version of spec (e.g. uncapitalize built-in function names)."
   ]
  },
  {
   "cell_type": "code",
   "execution_count": 127,
   "metadata": {
    "collapsed": false
   },
   "outputs": [
    {
     "name": "stdout",
     "output_type": "stream",
     "text": [
      "Pow(k,2)\n"
     ]
    }
   ],
   "source": [
    "f = dst.Var('Pow(k, 2)', 'f')\n",
    "print f()"
   ]
  },
  {
   "cell_type": "code",
   "execution_count": 128,
   "metadata": {
    "collapsed": false
   },
   "outputs": [
    {
     "name": "stdout",
     "output_type": "stream",
     "text": [
      "pow(k,2)\n"
     ]
    }
   ],
   "source": [
    "g = f.renderForCode()\n",
    "print g()"
   ]
  },
  {
   "cell_type": "markdown",
   "metadata": {},
   "source": [
    "###`Quantity.rename('newName')`"
   ]
  },
  {
   "cell_type": "code",
   "execution_count": 129,
   "metadata": {
    "collapsed": false
   },
   "outputs": [
    {
     "name": "stdout",
     "output_type": "stream",
     "text": [
      "f\n"
     ]
    }
   ],
   "source": [
    "print f"
   ]
  },
  {
   "cell_type": "code",
   "execution_count": 130,
   "metadata": {
    "collapsed": true
   },
   "outputs": [],
   "source": [
    "f.rename('fsharp')"
   ]
  },
  {
   "cell_type": "code",
   "execution_count": 131,
   "metadata": {
    "collapsed": false
   },
   "outputs": [
    {
     "name": "stdout",
     "output_type": "stream",
     "text": [
      "fsharp\n"
     ]
    }
   ],
   "source": [
    "print f"
   ]
  },
  {
   "cell_type": "markdown",
   "metadata": {},
   "source": [
    "###`Quantity.info()`"
   ]
  },
  {
   "cell_type": "code",
   "execution_count": 132,
   "metadata": {
    "collapsed": false
   },
   "outputs": [
    {
     "name": "stdout",
     "output_type": "stream",
     "text": [
      "Information for ModelSpec fsharp\n",
      "\n",
      "dim: 0\n",
      "domain: (Class float, Continuous Domain, [-inf, inf])\n",
      "freeSymbols: [Pow, k]\n",
      "funcSpecDict: < empty >\n",
      "multiDefInfo: (False, , , 0, 0)\n",
      "name: fsharp\n",
      "spec: QuantSpec fsharp (ExpFuncSpec)\n",
      "specType: ExpFuncSpec\n",
      "usedSymbols: [Pow, k, 2]\n"
     ]
    }
   ],
   "source": [
    "f.info()"
   ]
  },
  {
   "cell_type": "markdown",
   "metadata": {},
   "source": [
    "#Functional specification using `FuncSpec`\n",
    "\n",
    "The `FuncSpec.py` module deals with the specification of functionality of a Generator object. \n",
    "\n",
    "A `FuncSpec` object is passed to a `Generator` object when it is initialized and is used to build internal representations of its trajectory generation functions -- for instance, a function that computes the value of the right-hand side of an ODE, which can be passed to an ODE solver.\n",
    "\n",
    "##Elements of a system specification\n",
    "\n",
    "A system specification is made up of some or all of the following definitions:\n",
    "\n",
    "* [required] name of model system \n",
    "\n",
    "* [required] state (\"phase\") variables and parameters\n",
    "\n",
    "* auxiliary variables\n",
    "    * Auxiliary variables are meant for the output of useful quantities derived from state variables and parameters. Thus, a specification of a state variable may not refer to an auxiliary variable. \n",
    "    \n",
    "* auxliary (\"helper\") functions\n",
    "    * If you want to avoid costly re-calculation of terms, either define auxiliary (\"helper\") functions or utilize the reuseterms option in your system definition. Auxiliary functions are also a way to create derived parameters.\n",
    "\n",
    "* system parameters\n",
    "\n",
    "* domains for state variables and parameters\n",
    "    * Specification of valid domains for state variables, parameters, and the independent variable may be optional, depending on the target Generator. These are supplied as two-element lists containing the interval range endpoints that can include `Inf`. Also see [BoundsSafety](http://www.ni.gsu.edu/~rclewley/PyDSTool/BoundsSafety.html) for uses of domain information. \n",
    "    \n",
    "* initial conditions for state variables\n",
    "\n",
    "* autonomous external inputs\n",
    "\n",
    "* user-defined zero-crossing events\n",
    "\n",
    "* algorithmic parameters (e.g. integration tolerances)\n",
    "\n",
    "* list of special names to ignore when parsing\n",
    "\n",
    "* other generator-specific functions\n",
    "\n",
    "These definitions are encapsulated in an `args` object so that they may be passed to a `Generator`:"
   ]
  },
  {
   "cell_type": "code",
   "execution_count": 137,
   "metadata": {
    "collapsed": false
   },
   "outputs": [],
   "source": [
    "example_args = dst.args(name='example_args', \n",
    "                        pars={'a': 3, 'b': 200},\n",
    "                        varspecs={'x': 'y', 'y': 'myfunc(a, b)*x'},\n",
    "                        fnspecs={'myfunc': (['u', 'v'], 'pi*u*v')})  # user-defined auxiliary function)"
   ]
  },
  {
   "cell_type": "markdown",
   "metadata": {},
   "source": [
    "##Mathematical Expression syntax\n",
    "\n",
    "Symbolic manipulation of the abstract syntax prior to \"compilation\" is done with the help of `Quantity` objects. The specification of structured models, that exhibit hierarchical modularity and other such symmetries, is accomplished using `ModelSpec` objects.\n",
    "\n",
    "**Note:** There is a small amount of syntax checking provided at 'compile' time, mainly to check that all string tokens reference known variables, parameters, inputs, auxiliary functions or math objects. No semantic checking is done, and errors not caught at the time of initializing a Generator may lead to cryptic Python errors during trajectory generation.\n",
    "\n",
    "Standard math names such as `sin`, `pow`, and `pi` do not need prefixing with a library reference such as in `math.sin` (for a Python target). The `sign` and `mod` functions are also available.\n",
    "\n",
    "Time must be referenced as `t`, and references to variables, parameters, and external inputs is by the corresponding declared name. This is known as \"index-free\" notation. Internally, The `FuncSpec.py` module will translate these names to array index references once and for all. The user does not have to know or use these indices.\n",
    "\n",
    "###Special functions\n",
    "\n",
    "Presently, \"special\" functions (as defined by `scipy`) are only available in the Python-based integrators `Vode` and `Euler`. When using it, prefix the function name with `special_` in your definition string. The list of available functions is:\n",
    "\n",
    "    airy, airye, ai_zeros, bi_zeros, ellipj, ellipk, ellipkinc, ellipe, ellipeinc, jn, jv, jve, yn, yv, yve, kn, kv, kve, iv, ive, hankel1, hankel1e, hankel2, hankel2e, lmbda, jnjnp_zeros, jnyn_zeros, jn_zeros, jnp_zeros, yn_zeros, ynp_zeros, y0_zeros, y1_zeros, y1p_zeros, j0, j1, y0, y1, i0, i0e, i1, i1e, k0, k0e, k1, k1e, itj0y0, it2j0y0, iti0k0, it2i0k0, besselpoly, jvp, yvp, kvp, ivp, h1vp, h2vp, sph_jn, sph_yn, sph_jnyn, sph_in, sph_kn, sph_inkn, riccati_jn, riccati_yn, struve, modstruve, itstruve0, it2struve0, itmodstruve0, bdtr, bdtrc, bdtri, btdtr, btdtri, fdtr, fdtrc, fdtri, gdtr, gdtrc, gdtria, nbdtr, nbdtrc, nbdtri, pdtr, pdtrc, pdtri, stdtr, stdtridf, stdtrit, chdtr, chdtrc, chdtri, ndtr, ndtri, smirnov, smirnovi, kolmogorov, kolmogi, tklmbda, gamma, gammaln, gammainc, gammaincinv, gammaincc, gammainccinv, beta, betaln, betainc, betaincinv, psi, digamma, rgamma, polygamma, erf, erfc, erfinv, erfcinv, erf_zeros, fresnel, fresnel_zeros, fresnelc_zeros, fresnels_zeros, modfresnelp, modfresnelm, lpn, lqn, lpmn, lqmn, lpmv, sph_harm, legendre, chebyt, chebyu, chebyc, chebys, jacobi, laguerre, genlaguerre, hermite, hermitenorm, gegenbauer, sh_legendre, sh_chebyt, sh_chebyu, sh_jacobi, hyp2f1, hyp1f1, hyperu, hyp0f1, hyp2f0, hyp1f2, hyp3f0, pbdv, pbvv, pbwa, pbdv_seq, pbvv_seq, pbdn_seq, mathieu_a, mathieu_b, mathieu_even_coef, mathieu_odd_coef, mathieu_cem, mathieu_sem, mathieu_modcem1, mathieu_modcem2, mathieu_modsem1, mathieu_modsem2, pro_ang1, pro_rad1, pro_rad2, obl_ang1, obl_rad1, obl_rad2, pro_cv, obl_cv, pro_cv_seq, obl_cv_seq, pro_ang1_cv, pro_rad1_cv, pro_rad2_cv, obl_ang1_cv, obl_rad1_cv, obl_rad2_cv, kelvin, kelvin_zeros, ber, bei, berp, beip, ker, kei, kerp, keip, ber_zeros, bei_zeros, berp_zeros, beip_zeros, ker_zeros, kei_zeros, kerp_zeros, keip_zeros, expn, exp1, expi, wofz, dawsn, shichi, sici, spence, zeta, zetac, cbrt, exp10, exp2, radian, cosdg, sindg, tandg, cotdg, log1p, expm1, cosm1, round\n",
    "\n",
    "To use similar functions in C definitions you will have to include a C library defining them and call them with the imported names (see [here](http://www.ni.gsu.edu/~rclewley/PyDSTool/Generators.html#Making_changes_to_the_C_code_through_the_API)). You will have to let PyDSTool know which functions you are using so that it doesn't throw an error for finding an \"undefined\" name, using the `ignorespecial` keyword in the defining arguments."
   ]
  },
  {
   "cell_type": "markdown",
   "metadata": {},
   "source": [
    "##Macros\n",
    "\n",
    "###Multiple state variable definitions using the `for` macro\n",
    "\n",
    "A `for` loop macro is provided to ease repetitive definitions in all specification strings. This is pre-processed to 'unroll' the loop into a flat list of definitions before the parser processes the specification string. The syntax is:\n",
    "\n",
    "    for(i, <ilo>, <ihi>, <expr_in_i>)\n",
    "    \n",
    "where `<ilo>` and `<ihi>` are integers, and the expression in `i` (or any other alphabet character) has all occurrences of `i` in square brackets replaced with the appropriate integer. Parameter declarations for such expressions are strings of the form `x[i]` for a variable `x`. Here is an example of usage:"
   ]
  },
  {
   "cell_type": "code",
   "execution_count": 138,
   "metadata": {
    "collapsed": true
   },
   "outputs": [],
   "source": [
    "for_demo = dst.args(name='for_demo',\n",
    "                    pars={'p0': 0, 'p1': 1, 'p2': 2},\n",
    "                    varspecs={'z[j]': 'for(j, 0, 1, 2*z[j+1] + p[j])', 'z2': '-z0 + p2'})   \n",
    "                    # z2 is defined as the end case"
   ]
  },
  {
   "cell_type": "markdown",
   "metadata": {},
   "source": [
    "###Summating using the `sum` macro\n",
    "\n",
    "Similar to `for`, we have the `sum` macro:\n",
    "    sum(i, <ilo>, <ihi>, <code_using_i>)\n",
    "\n",
    "Here is an example:\n"
   ]
  },
  {
   "cell_type": "code",
   "execution_count": 139,
   "metadata": {
    "collapsed": false
   },
   "outputs": [],
   "source": [
    "sum_demo = dst.args(name='sum_demo',\n",
    "                    pars={'p0': 0, 'p1': 1, 'p2': 2},\n",
    "                    varspecs={'x': 'sum(i, 0, 4, sum(j, 0, 1, if([i]==2, 0, indexfunc([j] + p[j]))))'},\n",
    "                    fnspecs={'indexfunc': (['x'], 'pi*x')}) # user-defined auxiliary function returning Pi * x\n",
    "                    "
   ]
  },
  {
   "cell_type": "markdown",
   "metadata": {},
   "source": [
    "##Auxiliary functions\n",
    "\n",
    "Auxiliary functions are accessible to variable specifications and event definitions by name. As well as the option for user-defined functions, several in-built auxiliary functions are provided. Currently, these are:\n",
    "\n",
    "* `if(<cond_expr>, <expr_1>, <expr_2>)` evaluates to `<expr_1>` if `<cond_expr>` evaluates to `True`, otherwise `<expr_2>` is evaluated.\n",
    "\n",
    "* `heav(<expr>) = 1` if the `<expr>` evaluates to a positive value, otherwise = 0.\n",
    "\n",
    "* `globalindepvar(<local_indepvar>)` returns the system's \"global\" independent variable (usually time) corresponding to the \"local\" value of the independent variable. See [HybridSystems](http://www.ni.gsu.edu/~rclewley/PyDSTool/HybridSystems.html).\n",
    "\n",
    "* `initcond(<var_name>)` returns the initial condition of the named state variable.\n",
    "\n",
    "The first two are present for dealing with discrete-time systems (i.e., MapSystem), or legacy ODE code (e.g., from XPP) when the discrete events they involve are not computed beyond the accuracy of the integrator's step size. For accurate discrete event handling in continuous-time systems, the hybrid system Model class should be used.\n",
    "\n",
    "The user may define other auxiliary functions. These can help to simplify and organize the evaluation of right-hand sides, and to improve computational efficiency. User-defined functions are exposed in the generator as Python functions. For instance, a function `'h'` of one argument for a generator `g` is exposed as `g.auxfns.h` and has the same calling sequence as the internal function. Any parameter values used in the definition of the function are also mapped dynamically to the current values of `g.pars`.\n",
    "\n",
    "Examples:\n",
    "\n",
    "    def fsargs():\n",
    "        fvarspecs = {\n",
    "            'z[i]': 'for(i, 0, 1, 2*a+myauxfn1(2+t) - ' +\n",
    "            'w*exp(-t)+ 3*z[i]**2 + z[i+1])',\n",
    "            'z2': '2*a+myauxfn1(2+t) - w*exp(-t) + 3*z2**2 + z0',\n",
    "            'w': 'k* w + a*sin(t)*itable + myauxfn1(t)*myauxfn2(w)/(a*sin(t))',\n",
    "            'aux_wdouble': 'w*2 + globalindepvar(t)-0.5*sin(t)',\n",
    "            'aux_other': 'myauxfn1(2*t) + initcond(w)',\n",
    "            'aux_iftest': '1+if(z1>0,(1e-2+w), k+0.4)'\n",
    "        }\n",
    "        fnspecs = {\n",
    "            'simpfn': ([''], '1+a'),\n",
    "            'myauxfn1': (['t'], '2.5*cos(3*t)*simpfn()+sin(t)*2.e-3'),\n",
    "            'myauxfn2': (['z0', 'w'], 'if(-z0<0,w/2+exp(-w),0)'),\n",
    "            'myauxfn3': (['w'], 'k*w/2+ pow(w,-3.0+k)'),\n",
    "            # not supposed to be the actual Jacobian!\n",
    "            'Jacobian': (['t', 'z0', 'z1', 'z2', 'w'],\n",
    "                         \"\"\"[[2e5*z0+.1, -w/2, 0, 1.],\n",
    "                         [-3.e-2 - a*w+z1, 1., z0+1, z0+sin(t)],\n",
    "                         [k, w*z1+exp(-t), 0., z2/3+w],\n",
    "                         [0, z1+a, 1., z0-w/3]]\"\"\"),\n",
    "            # not supposed to be the actual Jacobian_pars!\n",
    "            'Jacobian_pars': (['t', 'k', 'a'],\n",
    "                              \"\"\"[[0., 2.],\n",
    "                              [z0, 1],\n",
    "                              [3*w, 0.],\n",
    "                              [2-z1, sin(t)*z2]]\"\"\")\n",
    "        }\n",
    "        return {\n",
    "            'name': 'xfn',\n",
    "            # vars is always unrolled by Gen base class if there are FOR loop macros\n",
    "            'vars': ['w', 'z0', 'z1', 'z2'],\n",
    "            'auxvars': ['aux_wdouble', 'aux_other', 'aux_iftest'],\n",
    "            'pars': ['k', 'a'],\n",
    "            'inputs': 'itable',\n",
    "            'varspecs': fvarspecs,\n",
    "            'fnspecs': fnspecs,\n",
    "            'reuseterms': {'a*sin_t': 'ast',\n",
    "                           'exp(-t)': 'expmt',\n",
    "                           'sin(t)': 'sin_t',\n",
    "                           'myauxfn1(2+t)': 'afn1call'},\n",
    "            'codeinsert_end': \"\"\"    print('code inserted at end')\"\"\",\n",
    "            'codeinsert_start': \"\"\"    print('code inserted at start')\"\"\",\n",
    "            'targetlang': 'python'\n",
    "        }\n"
   ]
  },
  {
   "cell_type": "markdown",
   "metadata": {},
   "source": [
    "###`'reuseterms'`\n",
    "\n",
    "    2*sin(afunc(p))+cos(afunc(p))*sin(afunc(p))-afunc(p)/5.\n",
    "\n",
    "A reuseterms dictionary  `{'afunc(p)': 'afp', 'sin(afp)': 'sa', 'other(x)': 'ox'}`  will result in the final specification:\n",
    "\n",
    "    2*sa+cos(afp)*sa-afp/5.\n",
    "\n",
    "preceded by the declarations:\n",
    "\n",
    "    double afp = afunc(p);\n",
    "    double sa = sin(afp);\n",
    "    (in C)\n",
    "\n",
    "    afp = afunc(p)\n",
    "    sa = sin(afp)\n",
    "    (in Python)"
   ]
  },
  {
   "cell_type": "markdown",
   "metadata": {},
   "source": [
    "#`ModelSpec` structured model specification"
   ]
  },
  {
   "cell_type": "markdown",
   "metadata": {},
   "source": [
    "The goal of the `ModelSpec` classes is to provide a class hierarchy that allows complex dynamical models to be composed from simple units of mathematical expression. There is a low-level `QuantSpec` wrapper around a parser class, which in turn is built into the `Quantity` classes. These classes are really the elementary model building blocks, and have been the focus of the discussion up to this point.\n",
    "\n",
    "Recall that we are able to define multiple quantities using indexed based notation (as discussed under **Multi-Reference Quantities**). \n",
    "\n",
    "At the next level of the model specification hierarchy are \"components\" (class `Component`). These may be either regular components or \"leaf\" components (class `LeafComponent`, a sub-class of `Component`) that cannot themselves contain other components, i.e. are at the \"tips\" of the tree structure.\n",
    "\n",
    "What should `ModelSpec` classes abstract usually? Are there some heuristics to follow?"
   ]
  },
  {
   "cell_type": "markdown",
   "metadata": {},
   "source": [
    "###`compatibleGens` and `targetLangs`"
   ]
  },
  {
   "cell_type": "markdown",
   "metadata": {},
   "source": [
    "`PyDSTool` has a variety of generators that may be used in order to execute a given dynamical system:"
   ]
  },
  {
   "cell_type": "code",
   "execution_count": 3,
   "metadata": {
    "collapsed": false
   },
   "outputs": [
    {
     "data": {
      "text/plain": [
       "['Radau_ODEsystem',\n",
       " 'ExplicitFnGen',\n",
       " 'MapSystem',\n",
       " 'ADMC_ODEsystem',\n",
       " 'Vode_ODEsystem',\n",
       " 'ImplicitFnGen',\n",
       " 'LookupTable',\n",
       " 'EmbeddedSysGen',\n",
       " 'Euler_ODEsystem',\n",
       " 'InterpolateTable',\n",
       " 'Dopri_ODEsystem',\n",
       " 'ExtrapolateTable']"
      ]
     },
     "execution_count": 3,
     "metadata": {},
     "output_type": "execute_result"
    }
   ],
   "source": [
    "dst.findGenSubClasses('Generator')"
   ]
  },
  {
   "cell_type": "markdown",
   "metadata": {},
   "source": [
    "Usually, the first step in defining a `ModelSpec` is deciding which type of `Generator`s our components will be compatible with. What is `targetLangs` for? This can be done as follows:"
   ]
  },
  {
   "cell_type": "code",
   "execution_count": 5,
   "metadata": {
    "collapsed": false
   },
   "outputs": [],
   "source": [
    "compatibleGenerators = dst.findGenSubClasses('ODEsystem') # compatible with ODESystem type generators\n",
    "\n",
    "class ODEComponent(dst.Component):\n",
    "    compatibleGens = compatibleGenerators\n",
    "    targetLangs = dst.targetLangs  # (from common.py) -- all are compatible with ODEs\n",
    "    \n",
    "class ODELeafComponent(dst.LeafComponent):\n",
    "    compatibleGens = compatibleGenerators\n",
    "    targetLangs = dst.targetLangs  # (from common.py) -- all are compatible with ODEs"
   ]
  },
  {
   "cell_type": "markdown",
   "metadata": {},
   "source": [
    "###`compatibleContainers` and `compatibleSubcomponents`"
   ]
  },
  {
   "cell_type": "markdown",
   "metadata": {},
   "source": [
    "Once we have defined some components with compatibility constraints, we can begin to make use of them in order to define a model."
   ]
  },
  {
   "cell_type": "code",
   "execution_count": 6,
   "metadata": {
    "collapsed": false
   },
   "outputs": [],
   "source": [
    "class Node(ODELeafComponent):\n",
    "    pass\n",
    "\n",
    "class Edge(ODELeafComponent):\n",
    "    pass\n",
    "\n",
    "class Lattice(ODEComponent):\n",
    "    pass"
   ]
  },
  {
   "cell_type": "markdown",
   "metadata": {},
   "source": [
    "For example, if we want to set up a system where `Nodes` and `Edges` are only contained by a `Lattice`, we would specify:"
   ]
  },
  {
   "cell_type": "code",
   "execution_count": 7,
   "metadata": {
    "collapsed": false
   },
   "outputs": [],
   "source": [
    "Lattice.compatibleSubcomponents=(Node,)\n",
    "Node.compatibleContainers=(Lattice,)\n",
    "Edge.compatibleContainers=(Lattice,)"
   ]
  },
  {
   "cell_type": "markdown",
   "metadata": {},
   "source": [
    "###Functions that make use of components"
   ]
  },
  {
   "cell_type": "code",
   "execution_count": 136,
   "metadata": {
    "collapsed": true
   },
   "outputs": [],
   "source": [
    "def connectNodesWithEdge(edge_name, node1, node2):\n",
    "    pass"
   ]
  },
  {
   "cell_type": "markdown",
   "metadata": {},
   "source": [
    "An \"edge\" connects two nodes. For instance, if a node represents a mass, an edge could represent a spring. So, woudl `connectNodesWithEdge` in that case return the terms of the form $(k/m)x$? How would this eventually get parsed into a matrix? That is, how will the terms be given the right signs, and the right $m$ values, depending on which masses are being connected? \n",
    "\n",
    "Access down the levels of hierachical composition of model components is represented in the familiar \"dot\" notation of Python object-oriented classes. For instance, `mysuper.leaf1` and `mysuper.leaf2` would describe a Component `mysuper` that can contain LeafComponents `leaf1` and `leaf2`.\n",
    "\n",
    "The `searchModelSpec` function is powerful way to access or probe the contents of a `ModelSpec` object according to a variety of search criteria. The criteria may include wild-cards, for instance, and makes use of the \"dot\" notation for representing hierarchical depth.\n",
    "\n",
    "A range of information is held in a `_registry` attribute of a `ModelSpec` component. Sub-components can be added, renamed, and deleted."
   ]
  },
  {
   "cell_type": "markdown",
   "metadata": {},
   "source": [
    "#Transforming specifications into models\n",
    "\n",
    "In order to turn a hierarchical specification of a model into a target `Generator` or `Model` object, the specification must be \"flattened\", and information about the sub-components that is embedded in this specification in a structured way must also be extracted and listed out. \n",
    "\n",
    "A `ModelSpec` component has a method `flattenSpec` which can be called once the model has been fully defined. A fully defined model is one that has no free names in need of resolving. The component has the attribute `freeSymbols`, but names external to the specification, such as `t` for time in non-autonomous systems, or names of built-in auxiliary functions, will be treated as free symbols. The `flattenSpec` function takes an optional list argument `globalRefs` to specify such names in order to complete the definition of the system.\n",
    "\n",
    "##The `ModelConstructor` utility\n",
    "\n",
    "The `ModelConstructor` classes simplify some of the tasks in converting a `ModelSpec` specification into a `FuncSpec` call that ultimately produces a target `Generator` or `Model` class instance (see page `FunctionalSpec`).\n",
    "\n",
    "Models created in this way contain a copy of their source `ModelSpec` in the `mspecdict` attribute.\n",
    "\n",
    "Examples of usage are provided in `/tests/CIN.py` and `/tests/ModelSpec_test.py`."
   ]
  }
 ],
 "metadata": {
  "kernelspec": {
   "display_name": "Python 2",
   "language": "python",
   "name": "python2"
  },
  "language_info": {
   "codemirror_mode": {
    "name": "ipython",
    "version": 2
   },
   "file_extension": ".py",
   "mimetype": "text/x-python",
   "name": "python",
   "nbconvert_exporter": "python",
   "pygments_lexer": "ipython2",
   "version": "2.7.9"
  }
 },
 "nbformat": 4,
 "nbformat_minor": 0
}
