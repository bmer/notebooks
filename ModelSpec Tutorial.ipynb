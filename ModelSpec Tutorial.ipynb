{
 "cells": [
  {
   "cell_type": "code",
   "execution_count": 1,
   "metadata": {
    "collapsed": false
   },
   "outputs": [],
   "source": [
    "from __future__ import division\n",
    "import PyDSTool as dst\n",
    "import numpy as np"
   ]
  },
  {
   "cell_type": "markdown",
   "metadata": {},
   "source": [
    "#PyDSTool ModelSpec Tutorial\n",
    "\n",
    "This tutorial is based on the following PyDSTool documentation pages:\n",
    "* http://www.ni.gsu.edu/~rclewley/PyDSTool/ModelSpec.html\n",
    "* http://www.ni.gsu.edu/~rclewley/PyDSTool/Symbolic.html\n"
   ]
  },
  {
   "cell_type": "markdown",
   "metadata": {
    "collapsed": true
   },
   "source": [
    "The goal of the ModelSpec classes is to provide a class hierarchy that allows complex dynamical models to be composed from simple units of mathematical expression."
   ]
  },
  {
   "cell_type": "markdown",
   "metadata": {},
   "source": [
    "The `Quantity` classes are the elementary model building blocks of PyDSTool --- the ultimate \"leaves\" in the hierarchy of model specification that is supported by the ModelSpec classes. The essence of symbolic manipulation is the definition of Quantity objects. There are three types of Quantity objects: `Var`, `Par`, and `Fun`."
   ]
  },
  {
   "cell_type": "markdown",
   "metadata": {},
   "source": [
    "##`Var` (Variable)"
   ]
  },
  {
   "cell_type": "markdown",
   "metadata": {},
   "source": [
    "Here is a variable declaration only using a name:"
   ]
  },
  {
   "cell_type": "code",
   "execution_count": 2,
   "metadata": {
    "collapsed": true
   },
   "outputs": [],
   "source": [
    "k = dst.Var('k')"
   ]
  },
  {
   "cell_type": "markdown",
   "metadata": {},
   "source": [
    "Here is a variable declaration that includes a definition:"
   ]
  },
  {
   "cell_type": "code",
   "execution_count": 3,
   "metadata": {
    "collapsed": true
   },
   "outputs": [],
   "source": [
    "v = dst.Var('-k*(1 + k)*(1/2)', 'v')"
   ]
  },
  {
   "cell_type": "markdown",
   "metadata": {},
   "source": [
    "The string representation of a variable is simply its name:"
   ]
  },
  {
   "cell_type": "code",
   "execution_count": 4,
   "metadata": {
    "collapsed": false
   },
   "outputs": [
    {
     "name": "stdout",
     "output_type": "stream",
     "text": [
      "v\n"
     ]
    }
   ],
   "source": [
    "print v"
   ]
  },
  {
   "cell_type": "code",
   "execution_count": 5,
   "metadata": {
    "collapsed": false
   },
   "outputs": [
    {
     "name": "stdout",
     "output_type": "stream",
     "text": [
      "k\n"
     ]
    }
   ],
   "source": [
    "print k"
   ]
  },
  {
   "cell_type": "markdown",
   "metadata": {},
   "source": [
    "\"Calling\" a variable returns its definition:"
   ]
  },
  {
   "cell_type": "code",
   "execution_count": 6,
   "metadata": {
    "collapsed": false
   },
   "outputs": [
    {
     "name": "stdout",
     "output_type": "stream",
     "text": [
      "-k*(1+k)*(1/2)\n"
     ]
    }
   ],
   "source": [
    "print v()"
   ]
  },
  {
   "cell_type": "markdown",
   "metadata": {},
   "source": [
    "If a `Var` (or other `Quantity`, such as `Par` or `Fun`) does not have a definition, calling it returns its name once again:"
   ]
  },
  {
   "cell_type": "code",
   "execution_count": 7,
   "metadata": {
    "collapsed": false
   },
   "outputs": [
    {
     "name": "stdout",
     "output_type": "stream",
     "text": [
      "k\n"
     ]
    }
   ],
   "source": [
    "print k()"
   ]
  },
  {
   "cell_type": "markdown",
   "metadata": {},
   "source": [
    "At this time there is no class method to add the specification directly to a Quantity that has only been declared. (Such a method is not really necessary when the overhead in checking the specification is almost identical to that necessary to re-create the object entirely.)"
   ]
  },
  {
   "cell_type": "markdown",
   "metadata": {},
   "source": [
    "##`QuantSpec` vs. `Quantity`"
   ]
  },
  {
   "cell_type": "markdown",
   "metadata": {},
   "source": [
    "`v` is a `Var` object, which is a `Quantity` object:"
   ]
  },
  {
   "cell_type": "code",
   "execution_count": 77,
   "metadata": {
    "collapsed": false
   },
   "outputs": [
    {
     "data": {
      "text/plain": [
       "Var v (ExpFuncSpec)"
      ]
     },
     "execution_count": 77,
     "metadata": {},
     "output_type": "execute_result"
    }
   ],
   "source": [
    "v"
   ]
  },
  {
   "cell_type": "markdown",
   "metadata": {},
   "source": [
    "`v()` is a `QuantSpec` object:"
   ]
  },
  {
   "cell_type": "code",
   "execution_count": 80,
   "metadata": {
    "collapsed": false
   },
   "outputs": [
    {
     "data": {
      "text/plain": [
       "QuantSpec __result__ (ExpFuncSpec)"
      ]
     },
     "execution_count": 80,
     "metadata": {},
     "output_type": "execute_result"
    }
   ],
   "source": [
    "v()"
   ]
  },
  {
   "cell_type": "markdown",
   "metadata": {},
   "source": [
    "In the documentation, one might see references to `QuantSpec` or `Quantity` separately. In this tutorial, I will mostly use \"definition\" and \"(`Quantity` object's) name\" respectively."
   ]
  },
  {
   "cell_type": "markdown",
   "metadata": {},
   "source": [
    "##`Par` (parameter)"
   ]
  },
  {
   "cell_type": "code",
   "execution_count": 11,
   "metadata": {
    "collapsed": false
   },
   "outputs": [
    {
     "name": "stdout",
     "output_type": "stream",
     "text": [
      "p\n"
     ]
    }
   ],
   "source": [
    "p = dst.Par('p')\n",
    "print p"
   ]
  },
  {
   "cell_type": "code",
   "execution_count": 12,
   "metadata": {
    "collapsed": false
   },
   "outputs": [
    {
     "name": "stdout",
     "output_type": "stream",
     "text": [
      "p\n"
     ]
    }
   ],
   "source": [
    "print p()"
   ]
  },
  {
   "cell_type": "code",
   "execution_count": 14,
   "metadata": {
    "collapsed": false
   },
   "outputs": [
    {
     "name": "stdout",
     "output_type": "stream",
     "text": [
      "p\n"
     ]
    }
   ],
   "source": [
    "q = dst.Par('3.5e-3', 'p')\n",
    "print q"
   ]
  },
  {
   "cell_type": "code",
   "execution_count": 15,
   "metadata": {
    "collapsed": false
   },
   "outputs": [
    {
     "name": "stdout",
     "output_type": "stream",
     "text": [
      "3.5e-3\n"
     ]
    }
   ],
   "source": [
    "print q()"
   ]
  },
  {
   "cell_type": "markdown",
   "metadata": {},
   "source": [
    "##`Fun` (function)"
   ]
  },
  {
   "cell_type": "markdown",
   "metadata": {},
   "source": [
    "So far, the symbols we have seen appearing in the definition are 'free', and generally refer to other Quantities. They are not treated as 'local parameters', and therefore do not behave like arguments or inputs to a function."
   ]
  },
  {
   "cell_type": "code",
   "execution_count": 16,
   "metadata": {
    "collapsed": false
   },
   "outputs": [
    {
     "data": {
      "text/plain": [
       "['k']"
      ]
     },
     "execution_count": 16,
     "metadata": {},
     "output_type": "execute_result"
    }
   ],
   "source": [
    "v.freeSymbols"
   ]
  },
  {
   "cell_type": "code",
   "execution_count": 17,
   "metadata": {
    "collapsed": true
   },
   "outputs": [],
   "source": [
    "f = dst.Fun('(((k-(-10)))/(3+4))', [k], 'v')"
   ]
  },
  {
   "cell_type": "code",
   "execution_count": 18,
   "metadata": {
    "collapsed": false
   },
   "outputs": [
    {
     "data": {
      "text/plain": [
       "[]"
      ]
     },
     "execution_count": 18,
     "metadata": {},
     "output_type": "execute_result"
    }
   ],
   "source": [
    "f.freeSymbols"
   ]
  },
  {
   "cell_type": "markdown",
   "metadata": {},
   "source": [
    "Note that $k$ is a free symbol for `v`, but not for `f`. $k$ is an argument of `f`, and the code `[k]` defines `f`'s \"signature\". We can supply a value for $k$ during evaluation. Look carefully at the following examples."
   ]
  },
  {
   "cell_type": "markdown",
   "metadata": {},
   "source": [
    "Supplying a number as an argument:"
   ]
  },
  {
   "cell_type": "code",
   "execution_count": 21,
   "metadata": {
    "collapsed": false
   },
   "outputs": [
    {
     "name": "stdout",
     "output_type": "stream",
     "text": [
      "2.0\n"
     ]
    }
   ],
   "source": [
    "print f(4)"
   ]
  },
  {
   "cell_type": "markdown",
   "metadata": {},
   "source": [
    "Supplying a previously defined variable:"
   ]
  },
  {
   "cell_type": "code",
   "execution_count": 22,
   "metadata": {
    "collapsed": false
   },
   "outputs": [
    {
     "name": "stdout",
     "output_type": "stream",
     "text": [
      "(k+10)/7\n"
     ]
    }
   ],
   "source": [
    "print f(k)"
   ]
  },
  {
   "cell_type": "markdown",
   "metadata": {},
   "source": [
    "Supplying a previously defined parameter:"
   ]
  },
  {
   "cell_type": "code",
   "execution_count": 23,
   "metadata": {
    "collapsed": false
   },
   "outputs": [
    {
     "name": "stdout",
     "output_type": "stream",
     "text": [
      "(p+10)/7\n"
     ]
    }
   ],
   "source": [
    "print f(p)"
   ]
  },
  {
   "cell_type": "markdown",
   "metadata": {},
   "source": [
    "Supplying another previously defined parameter -- but note that so far we have been specifically supplying names, not definitions:"
   ]
  },
  {
   "cell_type": "code",
   "execution_count": 24,
   "metadata": {
    "collapsed": false
   },
   "outputs": [
    {
     "name": "stdout",
     "output_type": "stream",
     "text": [
      "(p+10)/7\n"
     ]
    }
   ],
   "source": [
    "print f(q)"
   ]
  },
  {
   "cell_type": "markdown",
   "metadata": {},
   "source": [
    "We can supply the definition by calling the `Quantity`:"
   ]
  },
  {
   "cell_type": "code",
   "execution_count": 25,
   "metadata": {
    "collapsed": false
   },
   "outputs": [
    {
     "name": "stdout",
     "output_type": "stream",
     "text": [
      "1.4290714285714288\n"
     ]
    }
   ],
   "source": [
    "print f(q())"
   ]
  },
  {
   "cell_type": "code",
   "execution_count": 28,
   "metadata": {
    "collapsed": false
   },
   "outputs": [
    {
     "name": "stdout",
     "output_type": "stream",
     "text": [
      "(p+10)/7\n"
     ]
    }
   ],
   "source": [
    "print f(p())"
   ]
  },
  {
   "cell_type": "markdown",
   "metadata": {},
   "source": [
    "Once more comparing definitions vs. names:"
   ]
  },
  {
   "cell_type": "code",
   "execution_count": 29,
   "metadata": {
    "collapsed": false
   },
   "outputs": [
    {
     "name": "stdout",
     "output_type": "stream",
     "text": [
      "(-k*(1+k)*0.5+10)/7\n"
     ]
    }
   ],
   "source": [
    "print f(v())"
   ]
  },
  {
   "cell_type": "code",
   "execution_count": 30,
   "metadata": {
    "collapsed": false
   },
   "outputs": [
    {
     "name": "stdout",
     "output_type": "stream",
     "text": [
      "(v+10)/7\n"
     ]
    }
   ],
   "source": [
    "print f(v)"
   ]
  },
  {
   "cell_type": "markdown",
   "metadata": {},
   "source": [
    "Too many arguments:"
   ]
  },
  {
   "cell_type": "code",
   "execution_count": 31,
   "metadata": {
    "collapsed": false
   },
   "outputs": [
    {
     "ename": "ValueError",
     "evalue": "Invalid number of arguments for auxiliary function",
     "output_type": "error",
     "traceback": [
      "\u001b[1;31m---------------------------------------------------------------------------\u001b[0m",
      "\u001b[1;31mValueError\u001b[0m                                Traceback (most recent call last)",
      "\u001b[1;32m<ipython-input-31-505f263ccdf6>\u001b[0m in \u001b[0;36m<module>\u001b[1;34m()\u001b[0m\n\u001b[1;32m----> 1\u001b[1;33m \u001b[0mf\u001b[0m\u001b[1;33m(\u001b[0m\u001b[1;36m1\u001b[0m\u001b[1;33m,\u001b[0m \u001b[1;36m2\u001b[0m\u001b[1;33m)\u001b[0m\u001b[1;33m\u001b[0m\u001b[0m\n\u001b[0m",
      "\u001b[1;32m/home/brian/anaconda/lib/python2.7/site-packages/PyDSTool/Symbolic.pyc\u001b[0m in \u001b[0;36m__call__\u001b[1;34m(self, *args)\u001b[0m\n\u001b[0;32m   2739\u001b[0m         \u001b[0mlensig\u001b[0m \u001b[1;33m=\u001b[0m \u001b[0mlen\u001b[0m\u001b[1;33m(\u001b[0m\u001b[0mself\u001b[0m\u001b[1;33m.\u001b[0m\u001b[0msignature\u001b[0m\u001b[1;33m)\u001b[0m\u001b[1;33m\u001b[0m\u001b[0m\n\u001b[0;32m   2740\u001b[0m         \u001b[1;32mif\u001b[0m \u001b[0mlensig\u001b[0m \u001b[1;33m!=\u001b[0m \u001b[0mlen\u001b[0m\u001b[1;33m(\u001b[0m\u001b[0margs\u001b[0m\u001b[1;33m)\u001b[0m\u001b[1;33m:\u001b[0m\u001b[1;33m\u001b[0m\u001b[0m\n\u001b[1;32m-> 2741\u001b[1;33m             \u001b[1;32mraise\u001b[0m \u001b[0mValueError\u001b[0m\u001b[1;33m(\u001b[0m\u001b[1;34m\"Invalid number of arguments for auxiliary function\"\u001b[0m\u001b[1;33m)\u001b[0m\u001b[1;33m\u001b[0m\u001b[0m\n\u001b[0m\u001b[0;32m   2742\u001b[0m         \u001b[0margstr\u001b[0m \u001b[1;33m=\u001b[0m \u001b[1;34m\", \"\u001b[0m\u001b[1;33m.\u001b[0m\u001b[0mjoin\u001b[0m\u001b[1;33m(\u001b[0m\u001b[0mmap\u001b[0m\u001b[1;33m(\u001b[0m\u001b[0mstr\u001b[0m\u001b[1;33m,\u001b[0m\u001b[0margs\u001b[0m\u001b[1;33m)\u001b[0m\u001b[1;33m)\u001b[0m\u001b[1;33m\u001b[0m\u001b[0m\n\u001b[0;32m   2743\u001b[0m         \u001b[1;32mif\u001b[0m \u001b[0mself\u001b[0m\u001b[1;33m.\u001b[0m\u001b[0mspec\u001b[0m\u001b[1;33m.\u001b[0m\u001b[0mspecStr\u001b[0m \u001b[1;33m==\u001b[0m \u001b[1;34m''\u001b[0m\u001b[1;33m:\u001b[0m\u001b[1;33m\u001b[0m\u001b[0m\n",
      "\u001b[1;31mValueError\u001b[0m: Invalid number of arguments for auxiliary function"
     ]
    }
   ],
   "source": [
    "f(1, 2)"
   ]
  },
  {
   "cell_type": "markdown",
   "metadata": {},
   "source": [
    "#Expression simplification and evaluation"
   ]
  },
  {
   "cell_type": "markdown",
   "metadata": {},
   "source": [
    "##Simplification"
   ]
  },
  {
   "cell_type": "markdown",
   "metadata": {},
   "source": [
    "Algebraic (mostly of brackets and signs) and arithmetical simplification of the definition of a `Quantity` is done using the object's `simplify` method. `simplify` works in-place on the object, and does not return anything."
   ]
  },
  {
   "cell_type": "code",
   "execution_count": 39,
   "metadata": {
    "collapsed": false
   },
   "outputs": [],
   "source": [
    "u = dst.Var('((-k*(-k + 2*k)*(-(-1)/(1 + 1))))', 'u')"
   ]
  },
  {
   "cell_type": "code",
   "execution_count": 41,
   "metadata": {
    "collapsed": false
   },
   "outputs": [
    {
     "name": "stdout",
     "output_type": "stream",
     "text": [
      "((-k*(-k+2*k)*(-(-1)/(1+1))))\n"
     ]
    }
   ],
   "source": [
    "print u()"
   ]
  },
  {
   "cell_type": "code",
   "execution_count": 42,
   "metadata": {
    "collapsed": true
   },
   "outputs": [],
   "source": [
    "u.simplify()"
   ]
  },
  {
   "cell_type": "code",
   "execution_count": 43,
   "metadata": {
    "collapsed": false
   },
   "outputs": [
    {
     "name": "stdout",
     "output_type": "stream",
     "text": [
      "-k*(-k+2*k)*0.5\n"
     ]
    }
   ],
   "source": [
    "print u()"
   ]
  },
  {
   "cell_type": "markdown",
   "metadata": {},
   "source": [
    "On the other hand, the object's `eval` method returns a simplified expression for the definition, without changing the original definition."
   ]
  },
  {
   "cell_type": "code",
   "execution_count": 46,
   "metadata": {
    "collapsed": false
   },
   "outputs": [
    {
     "name": "stdout",
     "output_type": "stream",
     "text": [
      "-k*(-k+2*k)*0.5\n"
     ]
    }
   ],
   "source": [
    "w = dst.Var('((-k*(-k + 2*k)*(-(-1)/(1 + 1))))', 'w')\n",
    "print w.eval()"
   ]
  },
  {
   "cell_type": "code",
   "execution_count": 47,
   "metadata": {
    "collapsed": false
   },
   "outputs": [
    {
     "name": "stdout",
     "output_type": "stream",
     "text": [
      "((-k*(-k+2*k)*(-(-1)/(1+1))))\n"
     ]
    }
   ],
   "source": [
    "print w()"
   ]
  },
  {
   "cell_type": "markdown",
   "metadata": {},
   "source": [
    "##Evaluation"
   ]
  },
  {
   "cell_type": "markdown",
   "metadata": {},
   "source": [
    "Quantities can also be evaluated at specific values for the free symbols, but care must be taken with functions in terms of the order in which the operations will be performed."
   ]
  },
  {
   "cell_type": "code",
   "execution_count": 50,
   "metadata": {
    "collapsed": false
   },
   "outputs": [
    {
     "name": "stdout",
     "output_type": "stream",
     "text": [
      "-0.5\n"
     ]
    }
   ],
   "source": [
    "print w.eval(k = 1)"
   ]
  },
  {
   "cell_type": "markdown",
   "metadata": {},
   "source": [
    "Evaluations at non-numeric values for a symbol performs symbolic substitution:"
   ]
  },
  {
   "cell_type": "code",
   "execution_count": 52,
   "metadata": {
    "collapsed": false
   },
   "outputs": [
    {
     "name": "stdout",
     "output_type": "stream",
     "text": [
      "-v*(-v+2*v)*0.5\n"
     ]
    }
   ],
   "source": [
    "print w.eval(k=v)"
   ]
  },
  {
   "cell_type": "code",
   "execution_count": 53,
   "metadata": {
    "collapsed": false
   },
   "outputs": [
    {
     "name": "stdout",
     "output_type": "stream",
     "text": [
      "-(-(-k*(1+k)*0.5)*(1-k*(1+k)*0.5)*0.5)*(-(-(-k*(1+k)*0.5)*(1-k*(1+k)*0.5)*0.5)+2*-(-k*(1+k)*0.5)*(1-k*(1+k)*0.5)*0.5)*0.5\n"
     ]
    }
   ],
   "source": [
    "print w.eval(k=v())"
   ]
  },
  {
   "cell_type": "code",
   "execution_count": 54,
   "metadata": {
    "collapsed": false
   },
   "outputs": [
    {
     "name": "stdout",
     "output_type": "stream",
     "text": [
      "-j*(-j+2*j)*0.5\n"
     ]
    }
   ],
   "source": [
    "print w.eval(k='j')"
   ]
  },
  {
   "cell_type": "code",
   "execution_count": 55,
   "metadata": {
    "collapsed": false
   },
   "outputs": [
    {
     "name": "stdout",
     "output_type": "stream",
     "text": [
      "-p*(-p+2*p)*0.5\n"
     ]
    }
   ],
   "source": [
    "print w.eval(k=q)"
   ]
  },
  {
   "cell_type": "code",
   "execution_count": 56,
   "metadata": {
    "collapsed": false
   },
   "outputs": [
    {
     "name": "stdout",
     "output_type": "stream",
     "text": [
      "k\n"
     ]
    }
   ],
   "source": [
    "print k()"
   ]
  },
  {
   "cell_type": "code",
   "execution_count": 57,
   "metadata": {
    "collapsed": false
   },
   "outputs": [
    {
     "name": "stdout",
     "output_type": "stream",
     "text": [
      "k\n"
     ]
    }
   ],
   "source": [
    "print k"
   ]
  },
  {
   "cell_type": "markdown",
   "metadata": {},
   "source": [
    "There is another function for expression substitution, called `subs`, that can act more \"intelligently\" (what is meant by this?) when dealing with defined `Par` quantities. It can also take a dictionary of assignments, and the result is always as simplified as possible."
   ]
  },
  {
   "cell_type": "code",
   "execution_count": 63,
   "metadata": {
    "collapsed": false
   },
   "outputs": [
    {
     "name": "stdout",
     "output_type": "stream",
     "text": [
      "0.0\n"
     ]
    }
   ],
   "source": [
    "print dst.subs(v(), {'k': 0})"
   ]
  },
  {
   "cell_type": "markdown",
   "metadata": {},
   "source": [
    "Always remember to use `subs` on the right object. For instance, if we had used it on `v`'s name:"
   ]
  },
  {
   "cell_type": "code",
   "execution_count": 64,
   "metadata": {
    "collapsed": false
   },
   "outputs": [
    {
     "name": "stdout",
     "output_type": "stream",
     "text": [
      "v\n"
     ]
    }
   ],
   "source": [
    "print dst.subs(v, {'k': 0})"
   ]
  },
  {
   "cell_type": "markdown",
   "metadata": {},
   "source": [
    "This call did nothing because the `Quantity` assigned to Python name `'v'` evaluates to its name, which is also `'v'`. This name does not match any of the assignments in the call to `subs`, so no substitutions are made."
   ]
  },
  {
   "cell_type": "markdown",
   "metadata": {},
   "source": [
    "Evaluation of one symbolic expression can perform automatic substitution of values defined by expressions in the local scope:"
   ]
  },
  {
   "cell_type": "code",
   "execution_count": 69,
   "metadata": {
    "collapsed": false
   },
   "outputs": [
    {
     "name": "stdout",
     "output_type": "stream",
     "text": [
      "4\n"
     ]
    }
   ],
   "source": [
    "q = dst.Quantity('xv+1','qv')\n",
    "x = dst.Quantity('3','xv')\n",
    "print q.eval()"
   ]
  },
  {
   "cell_type": "code",
   "execution_count": 70,
   "metadata": {
    "collapsed": false
   },
   "outputs": [
    {
     "name": "stdout",
     "output_type": "stream",
     "text": [
      "xv/qv\n"
     ]
    }
   ],
   "source": [
    "a=x/q\n",
    "print a"
   ]
  },
  {
   "cell_type": "code",
   "execution_count": 71,
   "metadata": {
    "collapsed": false
   },
   "outputs": [
    {
     "name": "stdout",
     "output_type": "stream",
     "text": [
      "0.75\n"
     ]
    }
   ],
   "source": [
    "print a.eval()"
   ]
  },
  {
   "cell_type": "markdown",
   "metadata": {},
   "source": [
    "Recall how we noted the difference between `Quantity` and `QuantSpec` objects previously:"
   ]
  },
  {
   "cell_type": "code",
   "execution_count": 82,
   "metadata": {
    "collapsed": false
   },
   "outputs": [
    {
     "name": "stdout",
     "output_type": "stream",
     "text": [
      "3/(xv+1)\n"
     ]
    }
   ],
   "source": [
    "a_ = x()/q()\n",
    "print a_"
   ]
  },
  {
   "cell_type": "markdown",
   "metadata": {},
   "source": [
    "In other words, `a_` yields the division in terms of the definitions (or, `QuantSpec`), since we specifically called for them. We can use this difference between `Quantity` and `QuantSpec` to perform partial evaluations:"
   ]
  },
  {
   "cell_type": "code",
   "execution_count": 87,
   "metadata": {
    "collapsed": false
   },
   "outputs": [
    {
     "name": "stdout",
     "output_type": "stream",
     "text": [
      "0.75\n"
     ]
    }
   ],
   "source": [
    "print a.eval() # using local scope information, xv = 3"
   ]
  },
  {
   "cell_type": "code",
   "execution_count": 85,
   "metadata": {
    "collapsed": false
   },
   "outputs": [
    {
     "name": "stdout",
     "output_type": "stream",
     "text": [
      "xv/(xv+1)\n"
     ]
    }
   ],
   "source": [
    "print a.eval(qv=q())"
   ]
  },
  {
   "cell_type": "code",
   "execution_count": 83,
   "metadata": {
    "collapsed": false
   },
   "outputs": [
    {
     "name": "stdout",
     "output_type": "stream",
     "text": [
      "0.8333333333333334\n"
     ]
    }
   ],
   "source": [
    "print a.eval(xv=5,qv=q())  # override xv=3 from local scope"
   ]
  },
  {
   "cell_type": "markdown",
   "metadata": {},
   "source": [
    "Evaluation with an explicitly-supplied scope dictionary is much faster, if the relevant definitions are known. Equivalently, these definitions can be supplied in the call as a comma-separated sequence:"
   ]
  },
  {
   "cell_type": "code",
   "execution_count": 73,
   "metadata": {
    "collapsed": false
   },
   "outputs": [
    {
     "name": "stdout",
     "output_type": "stream",
     "text": [
      "3/qv\n"
     ]
    }
   ],
   "source": [
    "print a.eval(xv=x())"
   ]
  },
  {
   "cell_type": "code",
   "execution_count": 74,
   "metadata": {
    "collapsed": false
   },
   "outputs": [
    {
     "name": "stdout",
     "output_type": "stream",
     "text": [
      "0.75\n"
     ]
    }
   ],
   "source": [
    "print a.eval(xv=x(),qv=q())  # much faster"
   ]
  },
  {
   "cell_type": "code",
   "execution_count": 75,
   "metadata": {
    "collapsed": false
   },
   "outputs": [
    {
     "name": "stdout",
     "output_type": "stream",
     "text": [
      "0.75\n"
     ]
    }
   ],
   "source": [
    "print a.eval({'xv': x, 'qv': q()})  # equivalently fast"
   ]
  },
  {
   "cell_type": "markdown",
   "metadata": {},
   "source": [
    "##Advanced information about functions"
   ]
  },
  {
   "cell_type": "code",
   "execution_count": 88,
   "metadata": {
    "collapsed": true
   },
   "outputs": [],
   "source": [
    "# some variables\n",
    "a = dst.Var('a')\n",
    "b = dst.Var('b')\n",
    "c = dst.Par('c')\n",
    "\n",
    "# a function\n",
    "gfun = dst.Fun(a+b/c, [a, b], 'g')"
   ]
  },
  {
   "cell_type": "code",
   "execution_count": 91,
   "metadata": {
    "collapsed": false
   },
   "outputs": [
    {
     "ename": "ValueError",
     "evalue": "All function signature arguments are necessary for evaluation",
     "output_type": "error",
     "traceback": [
      "\u001b[1;31m---------------------------------------------------------------------------\u001b[0m",
      "\u001b[1;31mValueError\u001b[0m                                Traceback (most recent call last)",
      "\u001b[1;32m<ipython-input-91-c944c96c073a>\u001b[0m in \u001b[0;36m<module>\u001b[1;34m()\u001b[0m\n\u001b[1;32m----> 1\u001b[1;33m \u001b[1;32mprint\u001b[0m \u001b[0mgfun\u001b[0m\u001b[1;33m.\u001b[0m\u001b[0meval\u001b[0m\u001b[1;33m(\u001b[0m\u001b[0ma\u001b[0m\u001b[1;33m=\u001b[0m\u001b[1;36m4\u001b[0m\u001b[1;33m)\u001b[0m\u001b[1;33m\u001b[0m\u001b[0m\n\u001b[0m",
      "\u001b[1;32m/home/brian/anaconda/lib/python2.7/site-packages/PyDSTool/Symbolic.pyc\u001b[0m in \u001b[0;36meval\u001b[1;34m(self, *scopearg, **defs)\u001b[0m\n\u001b[0;32m   2585\u001b[0m         \u001b[1;32mif\u001b[0m \u001b[0mhasattr\u001b[0m\u001b[1;33m(\u001b[0m\u001b[0mself\u001b[0m\u001b[1;33m,\u001b[0m \u001b[1;34m'signature'\u001b[0m\u001b[1;33m)\u001b[0m\u001b[1;33m:\u001b[0m\u001b[1;33m\u001b[0m\u001b[0m\n\u001b[0;32m   2586\u001b[0m             \u001b[1;32mif\u001b[0m \u001b[1;32mnot\u001b[0m \u001b[0malltrue\u001b[0m\u001b[1;33m(\u001b[0m\u001b[1;33m[\u001b[0m\u001b[0ms\u001b[0m \u001b[1;32min\u001b[0m \u001b[0marglist\u001b[0m \u001b[1;32mfor\u001b[0m \u001b[0ms\u001b[0m \u001b[1;32min\u001b[0m \u001b[0mself\u001b[0m\u001b[1;33m.\u001b[0m\u001b[0msignature\u001b[0m\u001b[1;33m]\u001b[0m\u001b[1;33m)\u001b[0m\u001b[1;33m:\u001b[0m\u001b[1;33m\u001b[0m\u001b[0m\n\u001b[1;32m-> 2587\u001b[1;33m                 raise ValueError(\"All function signature arguments are \"\n\u001b[0m\u001b[0;32m   2588\u001b[0m                                  \"necessary for evaluation\")\n\u001b[0;32m   2589\u001b[0m         \u001b[1;32mreturn\u001b[0m \u001b[0mself\u001b[0m\u001b[1;33m.\u001b[0m\u001b[0mspec\u001b[0m\u001b[1;33m.\u001b[0m\u001b[0m_eval\u001b[0m\u001b[1;33m(\u001b[0m\u001b[1;36m1\u001b[0m\u001b[1;33m,\u001b[0m \u001b[1;33m*\u001b[0m\u001b[0mscopearg\u001b[0m\u001b[1;33m,\u001b[0m \u001b[1;33m**\u001b[0m\u001b[0mdefs\u001b[0m\u001b[1;33m)\u001b[0m\u001b[1;33m\u001b[0m\u001b[0m\n",
      "\u001b[1;31mValueError\u001b[0m: All function signature arguments are necessary for evaluation"
     ]
    }
   ],
   "source": [
    "print gfun.eval(a=4)"
   ]
  },
  {
   "cell_type": "code",
   "execution_count": 92,
   "metadata": {
    "collapsed": false
   },
   "outputs": [
    {
     "name": "stdout",
     "output_type": "stream",
     "text": [
      "4+3/c\n"
     ]
    }
   ],
   "source": [
    "print gfun.eval(a=4, b=3)"
   ]
  },
  {
   "cell_type": "markdown",
   "metadata": {},
   "source": [
    "One might wonder why `c` was not required in the `eval` call. However, if we look at `gfun`'s signature, is a function of two arguments, `'a'` and `'b'`, while `'c'` is a free variable that *must refer to a parameter name* if the `Fun` object is to be used in the specification of a right-hand side (RHS), where RHS refers to the right hand side of a system of ODEs:\n",
    "\n",
    "\\begin{align}\n",
    "    \\vec{x} &= \\left[\\begin{array}{cccc}\\dot{x}_1 & \\dot{x}_2 & \\dots & \\dot{x}_n\\end{array}\\right] \\\\\n",
    "    \\quad \\\\\n",
    "    \\dot{x}_1 &= f_1(\\vec{x}) \\\\\n",
    "    \\dot{x}_2 &= f_2(\\vec{x}) \\\\\n",
    "    \\vdots \\\\\n",
    "    \\dot{x}_n &= f_n(\\vec{x})\n",
    "\\end{align}"
   ]
  },
  {
   "cell_type": "code",
   "execution_count": 93,
   "metadata": {
    "collapsed": false
   },
   "outputs": [
    {
     "name": "stdout",
     "output_type": "stream",
     "text": [
      "5.0\n"
     ]
    }
   ],
   "source": [
    "print gfun.eval(a=4,b=3,c=3)"
   ]
  },
  {
   "cell_type": "code",
   "execution_count": 94,
   "metadata": {
    "collapsed": false
   },
   "outputs": [
    {
     "name": "stdout",
     "output_type": "stream",
     "text": [
      "4+b/c\n"
     ]
    }
   ],
   "source": [
    "print gfun(4,b)"
   ]
  },
  {
   "cell_type": "markdown",
   "metadata": {},
   "source": [
    "`gfun(a, b)` evaluates to the `QuantSpec` object containing the definition of the function. As this is not a function object (`Fun`) any of the free names 'a', 'b', or 'c' can be evaluated using `eval`."
   ]
  },
  {
   "cell_type": "code",
   "execution_count": 97,
   "metadata": {
    "collapsed": false
   },
   "outputs": [
    {
     "name": "stdout",
     "output_type": "stream",
     "text": [
      "4+b/c\n"
     ]
    }
   ],
   "source": [
    "print gfun(a, b).eval(a=4)  # the result of gfun(a, b) is not a Fun, but a QuantSpec"
   ]
  },
  {
   "cell_type": "markdown",
   "metadata": {},
   "source": [
    "Any evaluations given for names not present in the definition of the object will be ignored."
   ]
  },
  {
   "cell_type": "code",
   "execution_count": 104,
   "metadata": {
    "collapsed": false
   },
   "outputs": [
    {
     "name": "stdout",
     "output_type": "stream",
     "text": [
      "a+b/c\n"
     ]
    }
   ],
   "source": [
    "print gfun.eval(a=a, b=b, d=5, c=c)"
   ]
  },
  {
   "cell_type": "markdown",
   "metadata": {},
   "source": [
    "##More symbolic substitutions: name maps"
   ]
  },
  {
   "cell_type": "markdown",
   "metadata": {},
   "source": [
    "A more efficient way to make multiple symbolic substitutions which are solely textual, i.e. do not involve algebraic simplification, is to use the `mapNames(<name_mapping_dict>)` method of a `Quantity`. The method works in-place and does not return anything, and the `Quantity` whose method was called will change."
   ]
  },
  {
   "cell_type": "code",
   "execution_count": 108,
   "metadata": {
    "collapsed": false
   },
   "outputs": [
    {
     "name": "stdout",
     "output_type": "stream",
     "text": [
      "-a/b*(1+a/b)*0.5\n"
     ]
    }
   ],
   "source": [
    "v.mapNames({'k': 'a/b'})\n",
    "print v()"
   ]
  },
  {
   "cell_type": "markdown",
   "metadata": {},
   "source": [
    "This method takes a dictionary of `source: target` names. Matching only occurs on whole symbols (i.e. 'tokens'): a dictionary containing the mapping (`'a': 'b'`) will not map the symbol `'ka_2'` to `'kb_2'`."
   ]
  },
  {
   "cell_type": "markdown",
   "metadata": {},
   "source": [
    "The method will also map the `Quantity`'s name only if it matches a source name:"
   ]
  },
  {
   "cell_type": "code",
   "execution_count": 110,
   "metadata": {
    "collapsed": false
   },
   "outputs": [
    {
     "name": "stdout",
     "output_type": "stream",
     "text": [
      "-44/b*(1+44/b)*0.5\n"
     ]
    }
   ],
   "source": [
    "v.mapNames({'a': '44', '10': '-10'})\n",
    "print v()"
   ]
  },
  {
   "cell_type": "markdown",
   "metadata": {},
   "source": [
    "# Symbolic versions of built-in math names"
   ]
  },
  {
   "cell_type": "markdown",
   "metadata": {},
   "source": [
    "Symbolic versions of basic math functions (`pow`, `sqrt`, `abs`, etc.) and constants are exported by `Symbolic.py`. Importantly, they are title-cased, as in Maple. "
   ]
  },
  {
   "cell_type": "code",
   "execution_count": 111,
   "metadata": {
    "collapsed": false
   },
   "outputs": [
    {
     "name": "stdout",
     "output_type": "stream",
     "text": [
      "-44/b*(1+44/b)*0.5\n"
     ]
    }
   ],
   "source": [
    "print v()"
   ]
  },
  {
   "cell_type": "code",
   "execution_count": 126,
   "metadata": {
    "collapsed": false
   },
   "outputs": [
    {
     "name": "stdout",
     "output_type": "stream",
     "text": [
      "-990.0\n"
     ]
    }
   ],
   "source": [
    "print v.eval(b = 'Pow(1, 1)')"
   ]
  },
  {
   "cell_type": "code",
   "execution_count": 127,
   "metadata": {
    "collapsed": false
   },
   "outputs": [
    {
     "name": "stdout",
     "output_type": "stream",
     "text": [
      "-44/Pow(x,y)*(1+44/Pow(x,y))*0.5\n"
     ]
    }
   ],
   "source": [
    "print dst.subs(v(), {'b': 'Pow(x, y)'})"
   ]
  },
  {
   "cell_type": "code",
   "execution_count": 128,
   "metadata": {
    "collapsed": false
   },
   "outputs": [
    {
     "name": "stdout",
     "output_type": "stream",
     "text": [
      "-990.0\n"
     ]
    }
   ],
   "source": [
    "print dst.subs(v(), {'b': 'Pow(x, y)'}).eval(x = 1, y = 1)"
   ]
  },
  {
   "cell_type": "markdown",
   "metadata": {},
   "source": [
    "The functions supported included the trigonometric (`Sin`, `Cos`, `Tan`, but not inverse trigonometric functions), exponential (`Exp`) and logarithmic functions (`Log` -- why does this not work?), the absolute value (`Abs`), power (`Pow`), and square root (Sqrt) functions. The constants include `E` and `Pi`.\n",
    "\n"
   ]
  },
  {
   "cell_type": "code",
   "execution_count": 141,
   "metadata": {
    "collapsed": false
   },
   "outputs": [
    {
     "name": "stdout",
     "output_type": "stream",
     "text": [
      "-1357.3899529842106\n"
     ]
    }
   ],
   "source": [
    "print v.eval(b = 'Sin(Tan(Sqrt(Abs(Pow((Cos(Pi*E)), 1)))))')"
   ]
  },
  {
   "cell_type": "code",
   "execution_count": 142,
   "metadata": {
    "collapsed": false
   },
   "outputs": [
    {
     "name": "stdout",
     "output_type": "stream",
     "text": [
      "-44/Sin(Tan(Sqrt(Abs(Pow(Log(Cos(3.141592653589793*2.718281828459045)),1)))))*(1+44/Sin(Tan(Sqrt(Abs(Pow(Log(Cos(3.141592653589793*2.718281828459045)),1))))))*0.5\n"
     ]
    }
   ],
   "source": [
    "print v.eval(b = 'Sin(Tan(Sqrt(Abs(Pow(Log(Cos(Pi*E)), 1)))))')"
   ]
  },
  {
   "cell_type": "code",
   "execution_count": 146,
   "metadata": {
    "collapsed": false
   },
   "outputs": [
    {
     "data": {
      "text/plain": [
       "1.0"
      ]
     },
     "execution_count": 146,
     "metadata": {},
     "output_type": "execute_result"
    }
   ],
   "source": [
    "import math\n",
    "math.log(math.e)"
   ]
  },
  {
   "cell_type": "markdown",
   "metadata": {},
   "source": [
    "#Multi-reference quantities"
   ]
  },
  {
   "cell_type": "markdown",
   "metadata": {},
   "source": [
    "There is a way to specify a range of related Quantities at once, in a kind of macro. This is useful for repeated definitions, that perhaps are interconnected in a formulaic way. (You may be familiar with this kind of notation in the package XPP.)"
   ]
  },
  {
   "cell_type": "code",
   "execution_count": 148,
   "metadata": {
    "collapsed": false
   },
   "outputs": [],
   "source": [
    "v = dst.Var('v')\n",
    "ipar = dst.Par('ipar')\n",
    "\n",
    "z = dst.Var('3+v/((1+i)*ipar)', 'z[i,0,5]') # note z[i,0,5]"
   ]
  },
  {
   "cell_type": "markdown",
   "metadata": {},
   "source": [
    "These define six `uantities`, `z0` to `z5`, that are referenced from the Python object `z` as `z[0]` to `z[5]`. "
   ]
  },
  {
   "cell_type": "code",
   "execution_count": 152,
   "metadata": {
    "collapsed": false
   },
   "outputs": [
    {
     "name": "stdout",
     "output_type": "stream",
     "text": [
      "3+1.71428571429/ipar\n"
     ]
    }
   ],
   "source": [
    "print z[0]().eval()"
   ]
  },
  {
   "cell_type": "code",
   "execution_count": 153,
   "metadata": {
    "collapsed": false
   },
   "outputs": [
    {
     "name": "stdout",
     "output_type": "stream",
     "text": [
      "3+1.71428571429/(2*ipar)\n"
     ]
    }
   ],
   "source": [
    "print z[1]().eval()"
   ]
  },
  {
   "cell_type": "markdown",
   "metadata": {},
   "source": [
    "The following example shows how to define a set of ODE right-hand sides that involve a circular connectivity pattern. Notice that the boundary variables `w0` and `w3` have to be defined separately, so that the multi-quantity definition refers to valid `Quantity` objects for all index values."
   ]
  },
  {
   "cell_type": "code",
   "execution_count": 170,
   "metadata": {
    "collapsed": false
   },
   "outputs": [],
   "source": [
    "w0 = dst.Var('w0-2*(w3-w1)', 'w0', specType='RHSfuncSpec') # boundary value\n",
    "w3 = dst.Var('w3-2*(w2-w0)', 'w3', specType='RHSfuncSpec') # boundary value\n",
    "wi = dst.Var('w[i]-2*(w[i-1]-w[i+1])', 'w[i,1,2]', specType='RHSfuncSpec')"
   ]
  },
  {
   "cell_type": "markdown",
   "metadata": {},
   "source": [
    "Alternatively, we could have used the modulo function (`%`) to give a cleaner definition:"
   ]
  },
  {
   "cell_type": "code",
   "execution_count": 169,
   "metadata": {
    "collapsed": false
   },
   "outputs": [
    {
     "name": "stdout",
     "output_type": "stream",
     "text": [
      "-1%3: 2\n",
      "0%3: 0\n",
      "1%3: 1\n",
      "2%3: 2\n",
      "3%3: 0\n",
      "4%3: 1\n"
     ]
    }
   ],
   "source": [
    "for i in (np.arange(6) - 1):\n",
    "    print \"{}%3: {}\".format(i, i%3)"
   ]
  },
  {
   "cell_type": "code",
   "execution_count": 171,
   "metadata": {
    "collapsed": true
   },
   "outputs": [],
   "source": [
    "wi = dst.Var('w[i]-2*(w[(i-1)%3]-w[(i+1)%3])', 'w[i,0,3]', specType='RHSfuncSpec')"
   ]
  },
  {
   "cell_type": "markdown",
   "metadata": {},
   "source": [
    "Note that the Python dereferencing of a multi-def `z` by (for example) `z[2]` actually creates an *instance* of `z2`. (What does this mean?)"
   ]
  },
  {
   "cell_type": "code",
   "execution_count": 174,
   "metadata": {
    "collapsed": false
   },
   "outputs": [
    {
     "name": "stdout",
     "output_type": "stream",
     "text": [
      "z2\n"
     ]
    }
   ],
   "source": [
    "print z[2]"
   ]
  },
  {
   "cell_type": "code",
   "execution_count": 175,
   "metadata": {
    "collapsed": false
   },
   "outputs": [
    {
     "name": "stdout",
     "output_type": "stream",
     "text": [
      "3+v/((1+2)*ipar)\n"
     ]
    }
   ],
   "source": [
    "print z[2]()"
   ]
  },
  {
   "cell_type": "code",
   "execution_count": 176,
   "metadata": {
    "collapsed": false
   },
   "outputs": [
    {
     "name": "stdout",
     "output_type": "stream",
     "text": [
      "z2\n"
     ]
    }
   ],
   "source": [
    "print z[0]"
   ]
  },
  {
   "cell_type": "code",
   "execution_count": 177,
   "metadata": {
    "collapsed": false
   },
   "outputs": [
    {
     "name": "stdout",
     "output_type": "stream",
     "text": [
      "3+v/((1+0)*ipar)\n"
     ]
    }
   ],
   "source": [
    "print z[0]()"
   ]
  },
  {
   "cell_type": "code",
   "execution_count": 178,
   "metadata": {
    "collapsed": false
   },
   "outputs": [
    {
     "ename": "IndexError",
     "evalue": "Index to multiple Quantity definition out of the valid range [0,5]",
     "output_type": "error",
     "traceback": [
      "\u001b[1;31m---------------------------------------------------------------------------\u001b[0m",
      "\u001b[1;31mIndexError\u001b[0m                                Traceback (most recent call last)",
      "\u001b[1;32m<ipython-input-178-8b49888f9446>\u001b[0m in \u001b[0;36m<module>\u001b[1;34m()\u001b[0m\n\u001b[1;32m----> 1\u001b[1;33m \u001b[1;32mprint\u001b[0m \u001b[0mz\u001b[0m\u001b[1;33m[\u001b[0m\u001b[1;36m10\u001b[0m\u001b[1;33m]\u001b[0m\u001b[1;33m\u001b[0m\u001b[0m\n\u001b[0m",
      "\u001b[1;32m/home/brian/anaconda/lib/python2.7/site-packages/PyDSTool/Symbolic.pyc\u001b[0m in \u001b[0;36m__getitem__\u001b[1;34m(self, x)\u001b[0m\n\u001b[0;32m   2445\u001b[0m             \u001b[1;32melse\u001b[0m\u001b[1;33m:\u001b[0m\u001b[1;33m\u001b[0m\u001b[0m\n\u001b[0;32m   2446\u001b[0m                 raise IndexError(\"Index to multiple Quantity definition out \"\n\u001b[1;32m-> 2447\u001b[1;33m                                  \"of the valid range [%i,%i]\"%(i1,i2))\n\u001b[0m\u001b[0;32m   2448\u001b[0m         \u001b[1;32melif\u001b[0m \u001b[0mself\u001b[0m\u001b[1;33m.\u001b[0m\u001b[0misvector\u001b[0m\u001b[1;33m(\u001b[0m\u001b[1;33m)\u001b[0m\u001b[1;33m:\u001b[0m\u001b[1;33m\u001b[0m\u001b[0m\n\u001b[0;32m   2449\u001b[0m             \u001b[1;32mreturn\u001b[0m \u001b[0mself\u001b[0m\u001b[1;33m.\u001b[0m\u001b[0mfromvector\u001b[0m\u001b[1;33m(\u001b[0m\u001b[0mx\u001b[0m\u001b[1;33m)\u001b[0m\u001b[1;33m\u001b[0m\u001b[0m\n",
      "\u001b[1;31mIndexError\u001b[0m: Index to multiple Quantity definition out of the valid range [0,5]"
     ]
    }
   ],
   "source": [
    "print z[10]"
   ]
  },
  {
   "cell_type": "markdown",
   "metadata": {},
   "source": [
    "#More about the `QuantSpec` class"
   ]
  },
  {
   "cell_type": "markdown",
   "metadata": {},
   "source": [
    "A `QuantSpec` object be considered a pre-`Quantity` form of raw symbolic expression, in that it has not yet been committed to a life as any particular Quantity sub-type (`Var`, `Par`, or `Fun`). It can be used in different ways in different `Quantity` definitions, and can be manipulated symbolically in its own right."
   ]
  },
  {
   "cell_type": "code",
   "execution_count": 179,
   "metadata": {
    "collapsed": true
   },
   "outputs": [],
   "source": [
    "q = dst.QuantSpec('q', '1+k/2')"
   ]
  },
  {
   "cell_type": "code",
   "execution_count": 180,
   "metadata": {
    "collapsed": false
   },
   "outputs": [
    {
     "data": {
      "text/plain": [
       "QuantSpec q (ExpFuncSpec)"
      ]
     },
     "execution_count": 180,
     "metadata": {},
     "output_type": "execute_result"
    }
   ],
   "source": [
    "q"
   ]
  },
  {
   "cell_type": "code",
   "execution_count": 181,
   "metadata": {
    "collapsed": false
   },
   "outputs": [
    {
     "data": {
      "text/plain": [
       "'1+k/2'"
      ]
     },
     "execution_count": 181,
     "metadata": {},
     "output_type": "execute_result"
    }
   ],
   "source": [
    "q()"
   ]
  },
  {
   "cell_type": "markdown",
   "metadata": {},
   "source": [
    "A major difference between a `Quantity` object and a `QuantSpec` object is that the `QuantSpec`'s name is not an important external part of its nature: only it's definition is important. Therefore, calling print on the object always returns its definition."
   ]
  },
  {
   "cell_type": "code",
   "execution_count": 196,
   "metadata": {
    "collapsed": false
   },
   "outputs": [
    {
     "name": "stdout",
     "output_type": "stream",
     "text": [
      "1+k/2\n"
     ]
    }
   ],
   "source": [
    "print q"
   ]
  },
  {
   "cell_type": "code",
   "execution_count": 197,
   "metadata": {
    "collapsed": false
   },
   "outputs": [
    {
     "name": "stdout",
     "output_type": "stream",
     "text": [
      "1+k/2\n"
     ]
    }
   ],
   "source": [
    "print q()"
   ]
  },
  {
   "cell_type": "code",
   "execution_count": 195,
   "metadata": {
    "collapsed": false
   },
   "outputs": [
    {
     "name": "stdout",
     "output_type": "stream",
     "text": [
      "1+k/2\n"
     ]
    }
   ],
   "source": [
    "print q.eval()"
   ]
  },
  {
   "cell_type": "markdown",
   "metadata": {},
   "source": [
    "We can use a `QuantSpec` object to provide a definition for a `Quantity` object:"
   ]
  },
  {
   "cell_type": "code",
   "execution_count": 188,
   "metadata": {
    "collapsed": false
   },
   "outputs": [
    {
     "data": {
      "text/plain": [
       "Var v (ExpFuncSpec)"
      ]
     },
     "execution_count": 188,
     "metadata": {},
     "output_type": "execute_result"
    }
   ],
   "source": [
    "v = dst.Var(q, 'v')\n",
    "v # this will print out the type of v"
   ]
  },
  {
   "cell_type": "code",
   "execution_count": 189,
   "metadata": {
    "collapsed": false
   },
   "outputs": [
    {
     "data": {
      "text/plain": [
       "QuantSpec v (ExpFuncSpec)"
      ]
     },
     "execution_count": 189,
     "metadata": {},
     "output_type": "execute_result"
    }
   ],
   "source": [
    "v() # this will print out the type of v()"
   ]
  },
  {
   "cell_type": "code",
   "execution_count": 190,
   "metadata": {
    "collapsed": false
   },
   "outputs": [
    {
     "data": {
      "text/plain": [
       "'1+k/2'"
      ]
     },
     "execution_count": 190,
     "metadata": {},
     "output_type": "execute_result"
    }
   ],
   "source": [
    "(v())() # this will call the QuantSpec object returned by v()"
   ]
  },
  {
   "cell_type": "code",
   "execution_count": 191,
   "metadata": {
    "collapsed": true
   },
   "outputs": [],
   "source": [
    "w = dst.Var((q/q) + q, 'w') # as mentioned, can be manipulated symbolically"
   ]
  },
  {
   "cell_type": "code",
   "execution_count": 192,
   "metadata": {
    "collapsed": false
   },
   "outputs": [
    {
     "name": "stdout",
     "output_type": "stream",
     "text": [
      "(1+k/2)/(1+k/2)+1+k/2\n"
     ]
    }
   ],
   "source": [
    "print w()"
   ]
  },
  {
   "cell_type": "code",
   "execution_count": 193,
   "metadata": {
    "collapsed": false
   },
   "outputs": [
    {
     "name": "stdout",
     "output_type": "stream",
     "text": [
      "2*(1+k/2)\n"
     ]
    }
   ],
   "source": [
    "print 2 * q"
   ]
  },
  {
   "cell_type": "markdown",
   "metadata": {},
   "source": [
    "For the most consistent results, any `QuantSpec` results that you want to use again should be defined into a proper `Var` or `Fun` object. Also, `QuantSpec`s are not a good place to manipulate vectors of symbols -- these should be converted to full Quantity types."
   ]
  },
  {
   "cell_type": "markdown",
   "metadata": {},
   "source": [
    "#Vectors as symbols"
   ]
  },
  {
   "cell_type": "markdown",
   "metadata": {},
   "source": [
    "`Quantity` objects can define vectors of symbols (of up to rank 2). This can simplify notation, and permits `Fun` objects of several variables that can be symbolically differentiated. Examples of this are in `tests/Symbolic_Diff_test.py` and `tests/vode_withJac_Symbolic_test.py`."
   ]
  },
  {
   "cell_type": "code",
   "execution_count": 201,
   "metadata": {
    "collapsed": false
   },
   "outputs": [
    {
     "name": "stdout",
     "output_type": "stream",
     "text": [
      "-3*Pow((2*x+1),3)+2*(x+y)\n"
     ]
    }
   ],
   "source": [
    "x = dst.Var('x')\n",
    "y = dst.Var('y')\n",
    "\n",
    "f = dst.Var(['-3*Pow((2*x+1),3)+2*(x+y)', '-y/2'], 'f') # note that the definition is using a list!\n",
    "\n",
    "print f[0] # only works if f is a Quantity type"
   ]
  },
  {
   "cell_type": "code",
   "execution_count": 208,
   "metadata": {
    "collapsed": false
   },
   "outputs": [
    {
     "data": {
      "text/plain": [
       "QuantSpec f_0 (ExpFuncSpec)"
      ]
     },
     "execution_count": 208,
     "metadata": {},
     "output_type": "execute_result"
    }
   ],
   "source": [
    "f[0]"
   ]
  },
  {
   "cell_type": "code",
   "execution_count": 212,
   "metadata": {
    "collapsed": false
   },
   "outputs": [
    {
     "name": "stdout",
     "output_type": "stream",
     "text": [
      "-y/2\n"
     ]
    }
   ],
   "source": [
    "print f[1]"
   ]
  },
  {
   "cell_type": "markdown",
   "metadata": {},
   "source": [
    "Symbolic vectors can be defined for `QuantSpec`s and `Quantity`s, but are intended to be used in `Quantity` objects. This is because \"array indexing\" notation (using square brackets) is only properly supported for `Quantity`s. However, the `fromvector` method turns a vector `Quantity` or `QuantSpec` into a list of non-vector `QuantSpec` objects, each defining a component of the vector. It takes an optional integer index argument which selects that component of the vector only."
   ]
  },
  {
   "cell_type": "code",
   "execution_count": 207,
   "metadata": {
    "collapsed": false
   },
   "outputs": [
    {
     "name": "stdout",
     "output_type": "stream",
     "text": [
      "-3*Pow((2*x+1),3)+2*(x+y)\n"
     ]
    }
   ],
   "source": [
    "f.fromvector(0) # equivalent to f[1], but safe for both Quantities and QuantSpec\n",
    "\n"
   ]
  },
  {
   "cell_type": "code",
   "execution_count": 209,
   "metadata": {
    "collapsed": false
   },
   "outputs": [
    {
     "name": "stdout",
     "output_type": "stream",
     "text": [
      "-3*Pow((2*x+1),3)+2*(x+y)\n"
     ]
    }
   ],
   "source": [
    "print f.fromvector(0)   "
   ]
  },
  {
   "cell_type": "code",
   "execution_count": 210,
   "metadata": {
    "collapsed": false
   },
   "outputs": [
    {
     "data": {
      "text/plain": [
       "'-3*Pow((2*x+1),3)+2*(x+y)'"
      ]
     },
     "execution_count": 210,
     "metadata": {},
     "output_type": "execute_result"
    }
   ],
   "source": [
    "(f.fromvector(0))()"
   ]
  },
  {
   "cell_type": "code",
   "execution_count": 213,
   "metadata": {
    "collapsed": false
   },
   "outputs": [
    {
     "name": "stdout",
     "output_type": "stream",
     "text": [
      "[QuantSpec f_0 (ExpFuncSpec), QuantSpec f_1 (ExpFuncSpec)]\n"
     ]
    }
   ],
   "source": [
    "print f.fromvector()"
   ]
  },
  {
   "cell_type": "markdown",
   "metadata": {},
   "source": [
    "The method `tonumeric` reduces `Quantity`s whose definitions are entirely numeric to floating point numbers or arrays of such. "
   ]
  },
  {
   "cell_type": "code",
   "execution_count": 222,
   "metadata": {
    "collapsed": false
   },
   "outputs": [
    {
     "name": "stdout",
     "output_type": "stream",
     "text": [
      "[[-3*6*Pow((2*x+1),2)+2,2],[0,-0.5]]\n"
     ]
    }
   ],
   "source": [
    "df = dst.Diff(f, [x,y]) # differentiate each component of f with respect to x and y -- Jacobian, see next section\n",
    "print df"
   ]
  },
  {
   "cell_type": "code",
   "execution_count": 217,
   "metadata": {
    "collapsed": false
   },
   "outputs": [
    {
     "name": "stdout",
     "output_type": "stream",
     "text": [
      "[[-880.0,2],[0,-0.5]]\n"
     ]
    }
   ],
   "source": [
    "dfe = df.eval(x=3,y=10)\n",
    "print dfe"
   ]
  },
  {
   "cell_type": "code",
   "execution_count": 218,
   "metadata": {
    "collapsed": false
   },
   "outputs": [
    {
     "data": {
      "text/plain": [
       "QuantSpec __result__ (ExpFuncSpec)"
      ]
     },
     "execution_count": 218,
     "metadata": {},
     "output_type": "execute_result"
    }
   ],
   "source": [
    "dfe"
   ]
  },
  {
   "cell_type": "code",
   "execution_count": 219,
   "metadata": {
    "collapsed": false
   },
   "outputs": [
    {
     "data": {
      "text/plain": [
       "array([[ -8.80000000e+02,   2.00000000e+00],\n",
       "       [  0.00000000e+00,  -5.00000000e-01]])"
      ]
     },
     "execution_count": 219,
     "metadata": {},
     "output_type": "execute_result"
    }
   ],
   "source": [
    "dfe.tonumeric()"
   ]
  },
  {
   "cell_type": "code",
   "execution_count": 221,
   "metadata": {
    "collapsed": false
   },
   "outputs": [
    {
     "data": {
      "text/plain": [
       "numpy.ndarray"
      ]
     },
     "execution_count": 221,
     "metadata": {},
     "output_type": "execute_result"
    }
   ],
   "source": [
    "type(dfe.tonumeric())"
   ]
  },
  {
   "cell_type": "markdown",
   "metadata": {},
   "source": [
    "#Symbolic differentiation"
   ]
  },
  {
   "cell_type": "markdown",
   "metadata": {},
   "source": [
    "Symbolic differentiation of mathematical expressions involving common mathematical functions is supported through the function `Diff`. \n",
    "\n",
    "The `Diff` function is meant to be a symbolic counterpart to the numerical derivative function `diff`, implemented in `common.py`, in the spirit of the Maple symbolic engine.\n",
    "\n",
    "For many examples see the script `PyDSTool/tests/Symbolic_Diff_test.py`."
   ]
  },
  {
   "cell_type": "markdown",
   "metadata": {},
   "source": [
    "#Specification types"
   ]
  },
  {
   "cell_type": "markdown",
   "metadata": {},
   "source": [
    "There are three specification sub-types of both Quantity and QuantSpec objects, determined by the 'specType' argument at initialization. These types are: \n",
    "\n",
    "* `'RHSfuncSpec'` (the named `Quantity` is defined as a right-hand side for differential or difference equation)\n",
    "* `'ExpFuncSpec'` (the named `Quantity` is defined explicitly by the expression, such as for an auxiliary variable)\n",
    "* `'ImpFuncSpec'` (the named `Quantity` is defined implicitly by the expression) \n",
    "\n",
    "The default is `'ExpFuncSpec'`. This type does not allow the `Quantity`'s name to appear in the defining expression, whereas the other two types do allow this."
   ]
  },
  {
   "cell_type": "code",
   "execution_count": 234,
   "metadata": {
    "collapsed": false
   },
   "outputs": [],
   "source": [
    "f = dst.Var('2*k', 'f')"
   ]
  },
  {
   "cell_type": "code",
   "execution_count": 238,
   "metadata": {
    "collapsed": false
   },
   "outputs": [
    {
     "ename": "ValueError",
     "evalue": "Cannot define the symbol g in terms of itself with spec type ExpFuncSpec",
     "output_type": "error",
     "traceback": [
      "\u001b[1;31m---------------------------------------------------------------------------\u001b[0m",
      "\u001b[1;31mValueError\u001b[0m                                Traceback (most recent call last)",
      "\u001b[1;32m<ipython-input-238-c4662803ba86>\u001b[0m in \u001b[0;36m<module>\u001b[1;34m()\u001b[0m\n\u001b[1;32m----> 1\u001b[1;33m \u001b[0mg\u001b[0m \u001b[1;33m=\u001b[0m \u001b[0mdst\u001b[0m\u001b[1;33m.\u001b[0m\u001b[0mVar\u001b[0m\u001b[1;33m(\u001b[0m\u001b[1;34m'g(2*k)'\u001b[0m\u001b[1;33m,\u001b[0m \u001b[1;34m'g'\u001b[0m\u001b[1;33m)\u001b[0m\u001b[1;33m\u001b[0m\u001b[0m\n\u001b[0m",
      "\u001b[1;32m/home/brian/anaconda/lib/python2.7/site-packages/PyDSTool/Symbolic.pyc\u001b[0m in \u001b[0;36m__init__\u001b[1;34m(self, spec, name, domain, specType)\u001b[0m\n\u001b[0;32m   2237\u001b[0m                 \u001b[1;31m# declaring a symbol and its non-trivial definition in spec\u001b[0m\u001b[1;33m\u001b[0m\u001b[1;33m\u001b[0m\u001b[0m\n\u001b[0;32m   2238\u001b[0m                 \u001b[0mtoken\u001b[0m \u001b[1;33m=\u001b[0m \u001b[0mname\u001b[0m\u001b[1;33m.\u001b[0m\u001b[0mstrip\u001b[0m\u001b[1;33m(\u001b[0m\u001b[1;33m)\u001b[0m\u001b[1;33m\u001b[0m\u001b[0m\n\u001b[1;32m-> 2239\u001b[1;33m                 \u001b[0mactual_spec\u001b[0m \u001b[1;33m=\u001b[0m \u001b[0mQuantSpec\u001b[0m\u001b[1;33m(\u001b[0m\u001b[0mtoken\u001b[0m\u001b[1;33m,\u001b[0m \u001b[0mspec\u001b[0m\u001b[1;33m,\u001b[0m \u001b[0mspecType\u001b[0m\u001b[1;33m)\u001b[0m\u001b[1;33m\u001b[0m\u001b[0m\n\u001b[0m\u001b[0;32m   2240\u001b[0m             \u001b[1;32melif\u001b[0m \u001b[0misMultiDef\u001b[0m\u001b[1;33m(\u001b[0m\u001b[0mname\u001b[0m\u001b[1;33m)\u001b[0m\u001b[1;33m:\u001b[0m\u001b[1;33m\u001b[0m\u001b[0m\n\u001b[0;32m   2241\u001b[0m                 \u001b[1;31m# declaring multiple symbols at once, with their definition\u001b[0m\u001b[1;33m\u001b[0m\u001b[1;33m\u001b[0m\u001b[0m\n",
      "\u001b[1;32m/home/brian/anaconda/lib/python2.7/site-packages/PyDSTool/Symbolic.pyc\u001b[0m in \u001b[0;36m__init__\u001b[1;34m(self, subjectToken, specStr, specType, includeProtected, treatMultiRefs, preserveSpace, ignoreSpecial)\u001b[0m\n\u001b[0;32m    995\u001b[0m             \u001b[1;31m# spec not long enough therefore self cannot be a vector\u001b[0m\u001b[1;33m\u001b[0m\u001b[1;33m\u001b[0m\u001b[0m\n\u001b[0;32m    996\u001b[0m             \u001b[0mself\u001b[0m\u001b[1;33m.\u001b[0m\u001b[0mdim\u001b[0m \u001b[1;33m=\u001b[0m \u001b[1;36m0\u001b[0m\u001b[1;33m\u001b[0m\u001b[0m\n\u001b[1;32m--> 997\u001b[1;33m         \u001b[0mself\u001b[0m\u001b[1;33m.\u001b[0m\u001b[0m_check_self_ref\u001b[0m\u001b[1;33m(\u001b[0m\u001b[1;33m)\u001b[0m\u001b[1;33m\u001b[0m\u001b[0m\n\u001b[0m\u001b[0;32m    998\u001b[0m \u001b[1;33m\u001b[0m\u001b[0m\n\u001b[0;32m    999\u001b[0m     \u001b[1;32mdef\u001b[0m \u001b[0m_check_self_ref\u001b[0m\u001b[1;33m(\u001b[0m\u001b[0mself\u001b[0m\u001b[1;33m)\u001b[0m\u001b[1;33m:\u001b[0m\u001b[1;33m\u001b[0m\u001b[0m\n",
      "\u001b[1;32m/home/brian/anaconda/lib/python2.7/site-packages/PyDSTool/Symbolic.pyc\u001b[0m in \u001b[0;36m_check_self_ref\u001b[1;34m(self)\u001b[0m\n\u001b[0;32m   1003\u001b[0m                 \u001b[1;32mfor\u001b[0m \u001b[0mloc\u001b[0m \u001b[1;32min\u001b[0m \u001b[0mlocs\u001b[0m\u001b[1;33m:\u001b[0m\u001b[1;33m\u001b[0m\u001b[0m\n\u001b[0;32m   1004\u001b[0m                     \u001b[1;32mif\u001b[0m \u001b[0mloc\u001b[0m \u001b[1;33m<=\u001b[0m \u001b[1;36m1\u001b[0m \u001b[1;32mor\u001b[0m \u001b[0mself\u001b[0m\u001b[1;33m.\u001b[0m\u001b[0mparser\u001b[0m\u001b[1;33m.\u001b[0m\u001b[0mtokenized\u001b[0m\u001b[1;33m[\u001b[0m\u001b[0mloc\u001b[0m\u001b[1;33m-\u001b[0m\u001b[1;36m2\u001b[0m\u001b[1;33m:\u001b[0m\u001b[0mloc\u001b[0m\u001b[1;33m]\u001b[0m \u001b[1;33m!=\u001b[0m \u001b[1;33m[\u001b[0m\u001b[1;34m'initcond'\u001b[0m\u001b[1;33m,\u001b[0m \u001b[1;34m'('\u001b[0m\u001b[1;33m]\u001b[0m\u001b[1;33m:\u001b[0m\u001b[1;33m\u001b[0m\u001b[0m\n\u001b[1;32m-> 1005\u001b[1;33m                         raise ValueError(\"Cannot define the symbol \"+self.subjectToken+\" in\"\n\u001b[0m\u001b[0;32m   1006\u001b[0m                                  \" terms of itself with spec type ExpFuncSpec\")\n\u001b[0;32m   1007\u001b[0m \u001b[1;33m\u001b[0m\u001b[0m\n",
      "\u001b[1;31mValueError\u001b[0m: Cannot define the symbol g in terms of itself with spec type ExpFuncSpec"
     ]
    }
   ],
   "source": [
    "g = dst.Var('g(2*k)', 'g')"
   ]
  },
  {
   "cell_type": "code",
   "execution_count": 241,
   "metadata": {
    "collapsed": false
   },
   "outputs": [],
   "source": [
    "g = dst.Var('g*2*k', 'g', specType=\"ImpFuncSpec\")"
   ]
  },
  {
   "cell_type": "code",
   "execution_count": 244,
   "metadata": {
    "collapsed": false
   },
   "outputs": [],
   "source": [
    "h = dst.Var('h*2*k', 'h', specType=\"RHSfuncSpec\")"
   ]
  },
  {
   "cell_type": "markdown",
   "metadata": {},
   "source": [
    "These type strings are used by the `ModelConstructor` class to automatically determine how to treat each definition in a 'flattened' `ModelSpec` specification dictionary, and allows it to verify whether the types are compatible with the target `Generator` in which the specification will be instantiated. For instance, `'ImpFuncSpec'` definition types cannot be supplied to an `ExplicitFnGen` generator class"
   ]
  },
  {
   "cell_type": "markdown",
   "metadata": {},
   "source": [
    "#Creation of Python functions from symbolic expressions"
   ]
  },
  {
   "cell_type": "markdown",
   "metadata": {},
   "source": [
    "Symbolic expressions can be turned into Python functions using the `expr2fun` utility. The \"free names\" of an expression can either be numerically substituted from a supplied name -> value dictionary or left to become formal arguments to the function.\n",
    "\n",
    "This utility can be handy to graph auxiliary functions from their abstract specifications (e.g., see `/examples/CIN.py`). Here is a simple example:"
   ]
  },
  {
   "cell_type": "code",
   "execution_count": 248,
   "metadata": {
    "collapsed": false
   },
   "outputs": [
    {
     "data": {
      "text/plain": [
       "<PyDSTool.Symbolic.fn_1429904406_91_fn_wrapper at 0x7fd23817bdd0>"
      ]
     },
     "execution_count": 248,
     "metadata": {},
     "output_type": "execute_result"
    }
   ],
   "source": [
    "pyf = dst.expr2fun(f)\n",
    "pyf"
   ]
  },
  {
   "cell_type": "code",
   "execution_count": 249,
   "metadata": {
    "collapsed": false
   },
   "outputs": [
    {
     "data": {
      "text/plain": [
       "4"
      ]
     },
     "execution_count": 249,
     "metadata": {},
     "output_type": "execute_result"
    }
   ],
   "source": [
    "pyf(2)"
   ]
  },
  {
   "cell_type": "code",
   "execution_count": 250,
   "metadata": {
    "collapsed": true
   },
   "outputs": [],
   "source": [
    "vecpyf = np.vectorize(pyf)"
   ]
  },
  {
   "cell_type": "code",
   "execution_count": 251,
   "metadata": {
    "collapsed": false
   },
   "outputs": [
    {
     "data": {
      "text/plain": [
       "array([0, 2, 4, 6, 8])"
      ]
     },
     "execution_count": 251,
     "metadata": {},
     "output_type": "execute_result"
    }
   ],
   "source": [
    "vecpyf(np.arange(5))"
   ]
  }
 ],
 "metadata": {
  "kernelspec": {
   "display_name": "Python 2",
   "language": "python",
   "name": "python2"
  },
  "language_info": {
   "codemirror_mode": {
    "name": "ipython",
    "version": 2
   },
   "file_extension": ".py",
   "mimetype": "text/x-python",
   "name": "python",
   "nbconvert_exporter": "python",
   "pygments_lexer": "ipython2",
   "version": "2.7.9"
  }
 },
 "nbformat": 4,
 "nbformat_minor": 0
}
