{
 "cells": [
  {
   "cell_type": "code",
   "execution_count": 1,
   "metadata": {
    "collapsed": true
   },
   "outputs": [],
   "source": [
    "from __future__ import division\n",
    "\n",
    "import PyDSTool as dst\n",
    "import numpy as np\n",
    "\n",
    "from functools import wraps\n",
    "import inspect"
   ]
  },
  {
   "cell_type": "markdown",
   "metadata": {},
   "source": [
    "#Coupled oscillators example\n",
    "\n",
    "![coupled oscillators](http://tutorial.math.lamar.edu/Classes/DE/SystemsModeling_files/image002.gif)\n",
    "\n",
    "The dynamical system corresponding to the pictured scenario can be derived by considering the free body diagrams of the masses. We will not undertake that procedure here, but instead refer the reader to standard resources on classical physics. Suffice it to say that the dynamical system in question boils down to:\n",
    "\n",
    "\\begin{align}\n",
    "    m_1\\ddot{x}_1 &= -k_1x_1 + k_2(x_2 - x_1)  \\\\\n",
    "    m_2\\ddot{x}_2 &= -k_3x_2 - k_2(x_2 - x_1) \n",
    "\\end{align}\n",
    "\n",
    "We can rewrite this system as a system of first order ODEs:\n",
    "\n",
    "\\begin{align}\n",
    "    \\dot{x}_1 &= v_1 \\\\\n",
    "    m_1\\dot{v}_1 &= -(k_1 + k_2)x_1 + k_2x_2 \\\\\n",
    "    \\dot{x}_2 &= v_2 \\\\\n",
    "    m_2\\ddot{v}_2 &= -(k_2 + k_3)x_2 + k_2x_1\n",
    "\\end{align}\n",
    "\n",
    "Usually, it is a good idea to non-dimensionalize the system and work with a reduced set of parameters, but for the sake of an example where we want to illustrate the use of objects from the `ModelSpec` hierarchy, we will leave the system as is. Let us define which generators our `ModelSpec` will be compatible with, and create basic `Component` and `LeafComponent` classes."
   ]
  },
  {
   "cell_type": "code",
   "execution_count": 2,
   "metadata": {
    "collapsed": true
   },
   "outputs": [],
   "source": [
    "compatibleGenerators = dst.findGenSubClasses('ODEsystem') # compatible with ODESystem type generators\n",
    "\n",
    "class ODEComponent(dst.Component):\n",
    "    compatibleGens = compatibleGenerators\n",
    "    targetLangs = dst.targetLangs  # (from common.py) -- all are compatible with ODEs"
   ]
  },
  {
   "cell_type": "markdown",
   "metadata": {},
   "source": [
    "At most, we can break the system down into five components of interest. Two are masses, and three are spring elements. We also have one global system, that contains springs and masses in general. <b><font color='red'>There are two important points to note when writing definitions for custom components:</font></b>\n",
    "\n",
    "1. Do not implement `__init__` functions! `Component`s and `LeafComponent`s both inherit from the `ModelSpec` class, which implements an `__init__` function that should not be overridden!\n",
    "\n",
    "2. When creating a class, only supply a single `name` (a string) argument to the class. This is because the `__init__` funciton defined in `ModelSpec` has the signature `def __init__(self, name):`."
   ]
  },
  {
   "cell_type": "code",
   "execution_count": 83,
   "metadata": {
    "collapsed": false
   },
   "outputs": [],
   "source": [
    "class Spring(ODEComponent):\n",
    "    pass\n",
    "\n",
    "class Mass(ODEComponent):\n",
    "    pass\n",
    "    \n",
    "    \n",
    "class System(ODEComponent):\n",
    "    pass"
   ]
  },
  {
   "cell_type": "markdown",
   "metadata": {},
   "source": [
    "`Spring` and `Mass` components are at the same hierarchy level, so we let them contain each other. However, a `System` cannot be contained by `Spring`s or `Mass`es. Note that all `System`, `Spring` and `Mass` objects created from here onwards, using their respective class constructors will contain the updated `compatibleSubcomponents` and `compatibleContainers` attributes."
   ]
  },
  {
   "cell_type": "code",
   "execution_count": 77,
   "metadata": {
    "collapsed": false
   },
   "outputs": [],
   "source": [
    "Spring.compatibleSubcomponents = (Mass,)\n",
    "Spring.compatibleContainers = (Mass,)\n",
    "\n",
    "Mass.compatibleSubcomponents = (Spring,)\n",
    "Mass.compatibleContainers = (Spring,)\n",
    "\n",
    "System.compatibleSubcomponents = (Mass, Spring)\n",
    "System.compatibleContainers = ()"
   ]
  },
  {
   "cell_type": "markdown",
   "metadata": {},
   "source": [
    "Let us write some simple functions to set the mass and stiffness of `Mass` and `String` objects respectively."
   ]
  },
  {
   "cell_type": "code",
   "execution_count": 86,
   "metadata": {
    "collapsed": true
   },
   "outputs": [],
   "source": [
    "def set_mass(mass_component, mass):\n",
    "    if dst.className(mass_component) == \"Mass\":\n",
    "        mass_component.add(dst.Par(str(mass), 'm'))\n",
    "    else:\n",
    "        raise StandardError(\"Cannot set mass of a component that is not a Mass.\")\n",
    "        \n",
    "def set_stiffness(spring_component, stiffness):\n",
    "    if dst.className(spring_component) == \"Spring\":\n",
    "        spring_component.add(dst.Par(str(stiffness), 'k'))\n",
    "    else:\n",
    "        raise StandardError(\"Cannot set stiffness of a component that is not a Spring.\")"
   ]
  },
  {
   "cell_type": "markdown",
   "metadata": {},
   "source": [
    "Let us create two masses, three springs, and a system."
   ]
  },
  {
   "cell_type": "code",
   "execution_count": 116,
   "metadata": {
    "collapsed": false
   },
   "outputs": [],
   "source": [
    "num_springs = 3\n",
    "num_masses = 2\n",
    "\n",
    "ks = np.ones(num_springs)\n",
    "ms = np.ones(num_masses)\n",
    "\n",
    "springs = [Spring('spring{}'.format(i)) for i in xrange(num_springs)]\n",
    "for index, spring in enumerate(springs):\n",
    "    set_stiffness(spring, ks[index])\n",
    "    \n",
    "masses = [Mass('mass{}'.format(i)) for i in xrange(num_masses)]\n",
    "for index, mass in enumerate(masses):\n",
    "    set_mass(mass, ms[index])\n",
    "\n",
    "full_system = System('global_system')\n",
    "for component in springs + masses:\n",
    "    full_system.add(component)"
   ]
  },
  {
   "cell_type": "markdown",
   "metadata": {},
   "source": [
    "Now would be a good time to explore some of the self-introspection methods that `ModelSpec` objects have."
   ]
  },
  {
   "cell_type": "code",
   "execution_count": 107,
   "metadata": {
    "collapsed": false
   },
   "outputs": [
    {
     "data": {
      "text/plain": [
       "Component spring0\n",
       " Parameters: ( k )"
      ]
     },
     "execution_count": 107,
     "metadata": {},
     "output_type": "execute_result"
    }
   ],
   "source": [
    "springs[0]"
   ]
  },
  {
   "cell_type": "code",
   "execution_count": 109,
   "metadata": {
    "collapsed": false
   },
   "outputs": [
    {
     "data": {
      "text/plain": [
       "['k']"
      ]
     },
     "execution_count": 109,
     "metadata": {},
     "output_type": "execute_result"
    }
   ],
   "source": [
    "springs[0].search('k')"
   ]
  },
  {
   "cell_type": "code",
   "execution_count": 112,
   "metadata": {
    "collapsed": false
   },
   "outputs": [
    {
     "data": {
      "text/plain": [
       "[]"
      ]
     },
     "execution_count": 112,
     "metadata": {},
     "output_type": "execute_result"
    }
   ],
   "source": [
    "springs[0].search('m')"
   ]
  },
  {
   "cell_type": "code",
   "execution_count": 113,
   "metadata": {
    "collapsed": false
   },
   "outputs": [
    {
     "data": {
      "text/plain": [
       "{'k': regObject k (Par)}"
      ]
     },
     "execution_count": 113,
     "metadata": {},
     "output_type": "execute_result"
    }
   ],
   "source": [
    "springs[0]._registry"
   ]
  },
  {
   "cell_type": "code",
   "execution_count": 117,
   "metadata": {
    "collapsed": false
   },
   "outputs": [
    {
     "data": {
      "text/plain": [
       "Component global_system\n",
       " Components: ( Component spring2, Component spring0, Component spring1, Component mass1, Component mass0 )"
      ]
     },
     "execution_count": 117,
     "metadata": {},
     "output_type": "execute_result"
    }
   ],
   "source": [
    "full_system"
   ]
  },
  {
   "cell_type": "code",
   "execution_count": 114,
   "metadata": {
    "collapsed": false
   },
   "outputs": [
    {
     "data": {
      "text/plain": [
       "{'mass0.m': regObject m (Par),\n",
       " 'mass1.m': regObject m (Par),\n",
       " 'spring0.k': regObject k (Par),\n",
       " 'spring1.k': regObject k (Par),\n",
       " 'spring2.k': regObject k (Par)}"
      ]
     },
     "execution_count": 114,
     "metadata": {},
     "output_type": "execute_result"
    }
   ],
   "source": [
    "full_system._registry"
   ]
  },
  {
   "cell_type": "markdown",
   "metadata": {},
   "source": [
    "Let us inspect these regObjects. Here are all the methods and attributes of a regObject:"
   ]
  },
  {
   "cell_type": "code",
   "execution_count": 146,
   "metadata": {
    "collapsed": false
   },
   "outputs": [
    {
     "name": "stdout",
     "output_type": "stream",
     "text": [
      "getGlobalName: <bound method regObject.getGlobalName of regObject m (Par)>\n",
      "namemap: {'m': 'mass0.m'}\n",
      "obj: mass0.m\n",
      "objClass: <class 'PyDSTool.Symbolic.Par'>\n",
      "objLocalName: 'm'\n",
      "objParentClass: <class '__main__.Mass'>\n",
      "objParentName: 'mass0'\n"
     ]
    }
   ],
   "source": [
    "regObject = full_system._registry['mass0.m']\n",
    "\n",
    "inspection_results = inspect.getmembers(regObject)\n",
    "\n",
    "for inspect_result in inspection_results:\n",
    "    member_name, member_value = inspect_result\n",
    "    if \"__\" not in member_name:\n",
    "        if type(member_value) == str:\n",
    "            print \"{}: '{}'\".format(*inspect_result)\n",
    "        else:\n",
    "            print \"{}: {}\".format(*inspect_result)"
   ]
  },
  {
   "cell_type": "markdown",
   "metadata": {},
   "source": [
    "We could similarly examine a `ModelSpec` object:"
   ]
  },
  {
   "cell_type": "code",
   "execution_count": 156,
   "metadata": {
    "collapsed": false
   },
   "outputs": [
    {
     "name": "stdout",
     "output_type": "stream",
     "text": [
      "_allSubcomponentTypes: [<class 'PyDSTool.Symbolic.Par'>, <class 'PyDSTool.Symbolic.Var'>, <class 'PyDSTool.Symbolic.Input'>, <class 'PyDSTool.Symbolic.Fun'>, <class 'PyDSTool.ModelSpec.Component'>, <class 'PyDSTool.ModelSpec.LeafComponent'>]\n",
      "\n",
      "\n",
      "_componentNameMap: {Par k (ExpFuncSpec): 'spring2.k', Par m (ExpFuncSpec): 'mass1.m', Component mass1\n",
      " Parameters: ( m ): 'mass1', Component mass0\n",
      " Parameters: ( m ): 'mass0', Component spring2\n",
      " Parameters: ( k ): 'spring2', Component spring0\n",
      " Parameters: ( k ): 'spring0', Component spring1\n",
      " Parameters: ( k ): 'spring1'}\n",
      "\n",
      "\n",
      "_componentTypeMap: {'Par': [Par k (ExpFuncSpec), Par m (ExpFuncSpec)], 'Spring': [Component spring0\n",
      " Parameters: ( k ), Component spring1\n",
      " Parameters: ( k ), Component spring2\n",
      " Parameters: ( k )], 'Component': [Component spring0\n",
      " Parameters: ( k ), Component spring1\n",
      " Parameters: ( k ), Component spring2\n",
      " Parameters: ( k ), Component mass0\n",
      " Parameters: ( m ), Component mass1\n",
      " Parameters: ( m )], 'Mass': [Component mass0\n",
      " Parameters: ( m ), Component mass1\n",
      " Parameters: ( m )], 'Quantity': [Par k (ExpFuncSpec), Par m (ExpFuncSpec)], 'ODEComponent': [Component spring0\n",
      " Parameters: ( k ), Component spring1\n",
      " Parameters: ( k ), Component spring2\n",
      " Parameters: ( k ), Component mass0\n",
      " Parameters: ( m ), Component mass1\n",
      " Parameters: ( m )]}\n",
      "\n",
      "\n",
      "_infostr: <bound method System._infostr of Component global_system\n",
      " Components: ( Component spring2, Component spring0, Component spring1, Component mass1, Component mass0 )>\n",
      "\n",
      "\n",
      "_register: <bound method System._register of Component global_system\n",
      " Components: ( Component spring2, Component spring0, Component spring1, Component mass1, Component mass0 )>\n",
      "\n",
      "\n",
      "_registry: {'mass0.m': regObject m (Par), 'spring0.k': regObject k (Par), 'spring2.k': regObject k (Par), 'spring1.k': regObject k (Par), 'mass1.m': regObject m (Par)}\n",
      "\n",
      "\n",
      "add: <bound method System.add of Component global_system\n",
      " Components: ( Component spring2, Component spring0, Component spring1, Component mass1, Component mass0 )>\n",
      "\n",
      "\n",
      "addConnxnTarget: <bound method System.addConnxnTarget of Component global_system\n",
      " Components: ( Component spring2, Component spring0, Component spring1, Component mass1, Component mass0 )>\n",
      "\n",
      "\n",
      "auxfns: {}\n",
      "\n",
      "\n",
      "compatibleContainers: (<class 'PyDSTool.ModelSpec.Component'>,)\n",
      "\n",
      "\n",
      "compatibleGens: ['Radau_ODEsystem', 'ADMC_ODEsystem', 'Vode_ODEsystem', 'Euler_ODEsystem', 'Dopri_ODEsystem']\n",
      "\n",
      "\n",
      "compatibleSubcomponents: (<class 'PyDSTool.Symbolic.Par'>, <class 'PyDSTool.Symbolic.Var'>, <class 'PyDSTool.Symbolic.Input'>, <class 'PyDSTool.Symbolic.Fun'>, <class 'PyDSTool.ModelSpec.Component'>, <class 'PyDSTool.ModelSpec.LeafComponent'>)\n",
      "\n",
      "\n",
      "compileFuncSpec: <bound method System.compileFuncSpec of Component global_system\n",
      " Components: ( Component spring2, Component spring0, Component spring1, Component mass1, Component mass0 )>\n",
      "\n",
      "\n",
      "components: {'spring2': Component spring2\n",
      " Parameters: ( k ), 'spring0': Component spring0\n",
      " Parameters: ( k ), 'spring1': Component spring1\n",
      " Parameters: ( k ), 'mass1': Component mass1\n",
      " Parameters: ( m ), 'mass0': Component mass0\n",
      " Parameters: ( m )}\n",
      "\n",
      "\n",
      "connxnTargets: []\n",
      "\n",
      "\n",
      "delConnxnTarget: <bound method System.delConnxnTarget of Component global_system\n",
      " Components: ( Component spring2, Component spring0, Component spring1, Component mass1, Component mass0 )>\n",
      "\n",
      "\n",
      "difference: <bound method System.difference of Component global_system\n",
      " Components: ( Component spring2, Component spring0, Component spring1, Component mass1, Component mass0 )>\n",
      "\n",
      "\n",
      "eventPars: []\n",
      "\n",
      "\n",
      "flatSpec: {'FScompatibleNames': Symbol mapping, 'FScompatibleNamesInv': Symbol mapping}\n",
      "\n",
      "\n",
      "flattenSpec: <bound method System.flattenSpec of Component global_system\n",
      " Components: ( Component spring2, Component spring0, Component spring1, Component mass1, Component mass0 )>\n",
      "\n",
      "\n",
      "freeSymbols: []\n",
      "\n",
      "\n",
      "funcSpecDict: {}\n",
      "\n",
      "\n",
      "info: <bound method System.info of Component global_system\n",
      " Components: ( Component spring2, Component spring0, Component spring1, Component mass1, Component mass0 )>\n",
      "\n",
      "\n",
      "inputs: {}\n",
      "\n",
      "\n",
      "isComplete: <bound method System.isComplete of Component global_system\n",
      " Components: ( Component spring2, Component spring0, Component spring1, Component mass1, Component mass0 )>\n",
      "\n",
      "\n",
      "isDefined: <bound method System.isDefined of Component global_system\n",
      " Components: ( Component spring2, Component spring0, Component spring1, Component mass1, Component mass0 )>\n",
      "\n",
      "\n",
      "isEmpty: <bound method System.isEmpty of Component global_system\n",
      " Components: ( Component spring2, Component spring0, Component spring1, Component mass1, Component mass0 )>\n",
      "\n",
      "\n",
      "library_tag: ''\n",
      "\n",
      "\n",
      "multiDefRefs: {}\n",
      "\n",
      "\n",
      "name: 'global_system'\n",
      "\n",
      "\n",
      "pars: {}\n",
      "\n",
      "\n",
      "remove: <bound method System.remove of Component global_system\n",
      " Components: ( Component spring2, Component spring0, Component spring1, Component mass1, Component mass0 )>\n",
      "\n",
      "\n",
      "rename: <bound method System.rename of Component global_system\n",
      " Components: ( Component spring2, Component spring0, Component spring1, Component mass1, Component mass0 )>\n",
      "\n",
      "\n",
      "search: <bound method System.search of Component global_system\n",
      " Components: ( Component spring2, Component spring0, Component spring1, Component mass1, Component mass0 )>\n",
      "\n",
      "\n",
      "targetLangs: ['c', 'python', 'matlab']\n",
      "\n",
      "\n",
      "validate: <bound method System.validate of Component global_system\n",
      " Components: ( Component spring2, Component spring0, Component spring1, Component mass1, Component mass0 )>\n",
      "\n",
      "\n",
      "variables: {}\n",
      "\n",
      "\n"
     ]
    }
   ],
   "source": [
    "inspection_results = inspect.getmembers(full_system)\n",
    "\n",
    "for inspect_result in inspection_results:\n",
    "    member_name, member_value = inspect_result\n",
    "    if \"__\" not in member_name:\n",
    "        if type(member_value) == str:\n",
    "            print \"{}: '{}'\".format(*inspect_result)\n",
    "        else:\n",
    "            print \"{}: {}\".format(*inspect_result)\n",
    "        print \"\\n\""
   ]
  },
  {
   "cell_type": "markdown",
   "metadata": {},
   "source": [
    "#Encoding displacement and velocity as functions for the eventual RHS\n",
    "\n",
    "incomplete"
   ]
  },
  {
   "cell_type": "code",
   "execution_count": 157,
   "metadata": {
    "collapsed": false
   },
   "outputs": [
    {
     "data": {
      "text/plain": [
       "{'mass0': Component mass0\n",
       "  Parameters: ( m ), 'mass1': Component mass1\n",
       "  Parameters: ( m ), 'spring0': Component spring0\n",
       "  Parameters: ( k ), 'spring1': Component spring1\n",
       "  Parameters: ( k ), 'spring2': Component spring2\n",
       "  Parameters: ( k )}"
      ]
     },
     "execution_count": 157,
     "metadata": {},
     "output_type": "execute_result"
    }
   ],
   "source": [
    "full_system.components"
   ]
  },
  {
   "cell_type": "code",
   "execution_count": 169,
   "metadata": {
    "collapsed": false
   },
   "outputs": [
    {
     "ename": "ValueError",
     "evalue": "Name 'x' already exists in registry of object 'mass1'",
     "output_type": "error",
     "traceback": [
      "\u001b[1;31m---------------------------------------------------------------------------\u001b[0m",
      "\u001b[1;31mValueError\u001b[0m                                Traceback (most recent call last)",
      "\u001b[1;32m<ipython-input-169-b200954695b1>\u001b[0m in \u001b[0;36m<module>\u001b[1;34m()\u001b[0m\n\u001b[0;32m      2\u001b[0m     \u001b[1;32mif\u001b[0m \u001b[1;34m'mass'\u001b[0m \u001b[1;32min\u001b[0m \u001b[0mcomponent\u001b[0m\u001b[1;33m:\u001b[0m\u001b[1;33m\u001b[0m\u001b[0m\n\u001b[0;32m      3\u001b[0m         \u001b[0mmass_component\u001b[0m \u001b[1;33m=\u001b[0m \u001b[0mfull_system\u001b[0m\u001b[1;33m.\u001b[0m\u001b[0mcomponents\u001b[0m\u001b[1;33m[\u001b[0m\u001b[0mcomponent\u001b[0m\u001b[1;33m]\u001b[0m\u001b[1;33m\u001b[0m\u001b[0m\n\u001b[1;32m----> 4\u001b[1;33m         \u001b[0mmass_component\u001b[0m\u001b[1;33m.\u001b[0m\u001b[0madd\u001b[0m\u001b[1;33m(\u001b[0m\u001b[0mdst\u001b[0m\u001b[1;33m.\u001b[0m\u001b[0mVar\u001b[0m\u001b[1;33m(\u001b[0m\u001b[1;34m'x'\u001b[0m\u001b[1;33m)\u001b[0m\u001b[1;33m)\u001b[0m\u001b[1;33m\u001b[0m\u001b[0m\n\u001b[0m\u001b[0;32m      5\u001b[0m         \u001b[0mmass_component\u001b[0m\u001b[1;33m.\u001b[0m\u001b[0madd\u001b[0m\u001b[1;33m(\u001b[0m\u001b[0mdst\u001b[0m\u001b[1;33m.\u001b[0m\u001b[0mVar\u001b[0m\u001b[1;33m(\u001b[0m\u001b[1;34m'v'\u001b[0m\u001b[1;33m)\u001b[0m\u001b[1;33m)\u001b[0m\u001b[1;33m\u001b[0m\u001b[0m\n\u001b[0;32m      6\u001b[0m         \u001b[0mmass_component\u001b[0m\u001b[1;33m.\u001b[0m\u001b[0madd\u001b[0m\u001b[1;33m(\u001b[0m\u001b[0mdst\u001b[0m\u001b[1;33m.\u001b[0m\u001b[0mFun\u001b[0m\u001b[1;33m(\u001b[0m\u001b[1;34m'x'\u001b[0m\u001b[1;33m,\u001b[0m \u001b[1;33m[\u001b[0m\u001b[0mx\u001b[0m\u001b[1;33m]\u001b[0m\u001b[1;33m,\u001b[0m \u001b[1;34m'dotv'\u001b[0m\u001b[1;33m,\u001b[0m \u001b[0mspecType\u001b[0m\u001b[1;33m=\u001b[0m\u001b[1;34m'RHSfuncSpec'\u001b[0m\u001b[1;33m)\u001b[0m\u001b[1;33m)\u001b[0m\u001b[1;33m\u001b[0m\u001b[0m\n",
      "\u001b[1;32m/home/brian/anaconda/lib/python2.7/site-packages/PyDSTool/ModelSpec.pyc\u001b[0m in \u001b[0;36madd\u001b[1;34m(self, arg, tosubcomponent)\u001b[0m\n\u001b[0;32m    455\u001b[0m         \u001b[1;32melse\u001b[0m\u001b[1;33m:\u001b[0m\u001b[1;33m\u001b[0m\u001b[0m\n\u001b[0;32m    456\u001b[0m             \u001b[0mobj\u001b[0m \u001b[1;33m=\u001b[0m \u001b[0mdeepcopy\u001b[0m\u001b[1;33m(\u001b[0m\u001b[0marg\u001b[0m\u001b[1;33m)\u001b[0m\u001b[1;33m\u001b[0m\u001b[0m\n\u001b[1;32m--> 457\u001b[1;33m             \u001b[0mobjname\u001b[0m \u001b[1;33m=\u001b[0m \u001b[0mself\u001b[0m\u001b[1;33m.\u001b[0m\u001b[0m_register\u001b[0m\u001b[1;33m(\u001b[0m\u001b[0mobj\u001b[0m\u001b[1;33m)\u001b[0m\u001b[1;33m\u001b[0m\u001b[0m\n\u001b[0m\u001b[0;32m    458\u001b[0m             \u001b[1;32mif\u001b[0m \u001b[0misinstance\u001b[0m\u001b[1;33m(\u001b[0m\u001b[0mobj\u001b[0m\u001b[1;33m,\u001b[0m \u001b[0mVar\u001b[0m\u001b[1;33m)\u001b[0m\u001b[1;33m:\u001b[0m\u001b[1;33m\u001b[0m\u001b[0m\n\u001b[0;32m    459\u001b[0m                 \u001b[0mself\u001b[0m\u001b[1;33m.\u001b[0m\u001b[0mvariables\u001b[0m\u001b[1;33m[\u001b[0m\u001b[0mobjname\u001b[0m\u001b[1;33m]\u001b[0m \u001b[1;33m=\u001b[0m \u001b[0mobj\u001b[0m\u001b[1;33m\u001b[0m\u001b[0m\n",
      "\u001b[1;32m/home/brian/anaconda/lib/python2.7/site-packages/PyDSTool/ModelSpec.pyc\u001b[0m in \u001b[0;36m_register\u001b[1;34m(self, obj, depth, parent_obj)\u001b[0m\n\u001b[0;32m    676\u001b[0m             \u001b[1;32mif\u001b[0m \u001b[0mobjname\u001b[0m \u001b[1;32min\u001b[0m \u001b[0mself\u001b[0m\u001b[1;33m.\u001b[0m\u001b[0m_registry\u001b[0m\u001b[1;33m:\u001b[0m\u001b[1;33m\u001b[0m\u001b[0m\n\u001b[0;32m    677\u001b[0m                 raise ValueError(\"Name '%s' already exists in \"%objname \\\n\u001b[1;32m--> 678\u001b[1;33m                                  + \"registry of object '%s'\"%self.name)\n\u001b[0m\u001b[0;32m    679\u001b[0m             \u001b[1;31m# remove free symbols from self's sub-components if\u001b[0m\u001b[1;33m\u001b[0m\u001b[1;33m\u001b[0m\u001b[0m\n\u001b[0;32m    680\u001b[0m             \u001b[1;31m# they are being defined here\u001b[0m\u001b[1;33m\u001b[0m\u001b[1;33m\u001b[0m\u001b[0m\n",
      "\u001b[1;31mValueError\u001b[0m: Name 'x' already exists in registry of object 'mass1'"
     ]
    }
   ],
   "source": [
    "for component in full_system.components:\n",
    "    if 'mass' in component:\n",
    "        mass_component = full_system.components[component]\n",
    "        mass_component.add(dst.Var('x'))\n",
    "        mass_component.add(dst.Var('v'))\n",
    "        mass_component.add(dst.Fun('x', [x], 'dotv', specType='RHSfuncSpec'))\n",
    "        mass_component.add(dst.Fun('v', [v], 'dotx', specType='RHSfuncSpec'))"
   ]
  },
  {
   "cell_type": "code",
   "execution_count": 165,
   "metadata": {
    "collapsed": false
   },
   "outputs": [
    {
     "data": {
      "text/plain": [
       "{'mass0': Component mass0\n",
       "  Variables: ( disp )\n",
       "  Parameters: ( m ), 'mass1': Component mass1\n",
       "  Variables: ( disp )\n",
       "  Parameters: ( m ), 'spring0': Component spring0\n",
       "  Parameters: ( k ), 'spring1': Component spring1\n",
       "  Parameters: ( k ), 'spring2': Component spring2\n",
       "  Parameters: ( k )}"
      ]
     },
     "execution_count": 165,
     "metadata": {},
     "output_type": "execute_result"
    }
   ],
   "source": [
    "full_system.components"
   ]
  },
  {
   "cell_type": "markdown",
   "metadata": {},
   "source": []
  }
 ],
 "metadata": {
  "kernelspec": {
   "display_name": "Python 2",
   "language": "python",
   "name": "python2"
  },
  "language_info": {
   "codemirror_mode": {
    "name": "ipython",
    "version": 2
   },
   "file_extension": ".py",
   "mimetype": "text/x-python",
   "name": "python",
   "nbconvert_exporter": "python",
   "pygments_lexer": "ipython2",
   "version": "2.7.9"
  }
 },
 "nbformat": 4,
 "nbformat_minor": 0
}
