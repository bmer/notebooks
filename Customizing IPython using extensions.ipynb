{
 "cells": [
  {
   "cell_type": "markdown",
   "metadata": {},
   "source": [
    "#Customizing IPython using extensions\n",
    "\n",
    "IPython notebook extensions usually come in the form of Javascript snippets. These snippets could be loaded into a notebook directly, but would only affect notebooks where they are loaded in manually. So, it can be useful to do so for testing purposes. For instance, the following Javascript snippet creates a button in the notebook menu that calls a function which renumbers linearly all the code cells in a notebook:"
   ]
  },
  {
   "cell_type": "code",
   "execution_count": 3,
   "metadata": {
    "collapsed": false
   },
   "outputs": [
    {
     "data": {
      "application/javascript": [
       "// This function allows us to add buttons \n",
       "// to the notebook toolbar.\n",
       "IPython.toolbar.add_buttons_group([\n",
       "{\n",
       "    // The button's label.\n",
       "    'label': 'renumber all code cells',\n",
       "    \n",
       "    // The button's icon.\n",
       "    // See a list of Font-Awesome icons here:\n",
       "    // http://fortawesome.github.io/Font-Awesome/icons/\n",
       "    'icon': 'fa fa-sort-numeric-asc',\n",
       "    \n",
       "    // The callback function.\n",
       "    'callback': function () {\n",
       "        \n",
       "        // We retrieve the lists of all cells.\n",
       "        var cells = IPython.notebook.get_cells();\n",
       "        \n",
       "        // We only keep the code cells.\n",
       "        cells = cells.filter(function(c)\n",
       "            {\n",
       "                return c instanceof IPython.CodeCell; \n",
       "            })\n",
       "        \n",
       "        // We set the input prompt of all code cells.\n",
       "        for (var i = 0; i < cells.length; i++) {\n",
       "            cells[i].set_input_prompt(i + 1);\n",
       "        }\n",
       "    }\n",
       "}]);"
      ],
      "text/plain": [
       "<IPython.core.display.Javascript object>"
      ]
     },
     "metadata": {},
     "output_type": "display_data"
    }
   ],
   "source": [
    "%%javascript\n",
    "// This function allows us to add buttons \n",
    "// to the notebook toolbar.\n",
    "IPython.toolbar.add_buttons_group([\n",
    "{\n",
    "    // The button's label.\n",
    "    'label': 'renumber all code cells',\n",
    "    \n",
    "    // The button's icon.\n",
    "    // See a list of Font-Awesome icons here:\n",
    "    // http://fortawesome.github.io/Font-Awesome/icons/\n",
    "    'icon': 'fa fa-sort-numeric-asc',\n",
    "    \n",
    "    // The callback function.\n",
    "    'callback': function () {\n",
    "        \n",
    "        // We retrieve the lists of all cells.\n",
    "        var cells = IPython.notebook.get_cells();\n",
    "        \n",
    "        // We only keep the code cells.\n",
    "        cells = cells.filter(function(c)\n",
    "            {\n",
    "                return c instanceof IPython.CodeCell; \n",
    "            })\n",
    "        \n",
    "        // We set the input prompt of all code cells.\n",
    "        for (var i = 0; i < cells.length; i++) {\n",
    "            cells[i].set_input_prompt(i + 1);\n",
    "        }\n",
    "    }\n",
    "}]);"
   ]
  },
  {
   "cell_type": "markdown",
   "metadata": {},
   "source": [
    "Run the following code blocks in some non-linear order, and then press the button we just added to check out what happens."
   ]
  },
  {
   "cell_type": "code",
   "execution_count": 2,
   "metadata": {
    "collapsed": false
   },
   "outputs": [
    {
     "name": "stdout",
     "output_type": "stream",
     "text": [
      "some code cell\n"
     ]
    }
   ],
   "source": [
    "print \"some code cell\""
   ]
  },
  {
   "cell_type": "code",
   "execution_count": 3,
   "metadata": {
    "collapsed": false
   },
   "outputs": [
    {
     "name": "stdout",
     "output_type": "stream",
     "text": [
      "some code cell\n"
     ]
    }
   ],
   "source": [
    "print \"some code cell\""
   ]
  },
  {
   "cell_type": "code",
   "execution_count": 4,
   "metadata": {
    "collapsed": false
   },
   "outputs": [
    {
     "name": "stdout",
     "output_type": "stream",
     "text": [
      "some code cell\n"
     ]
    }
   ],
   "source": [
    "print \"some code cell\""
   ]
  }
 ],
 "metadata": {
  "kernelspec": {
   "display_name": "Python 2",
   "language": "python",
   "name": "python2"
  },
  "language_info": {
   "codemirror_mode": {
    "name": "ipython",
    "version": 2
   },
   "file_extension": ".py",
   "mimetype": "text/x-python",
   "name": "python",
   "nbconvert_exporter": "python",
   "pygments_lexer": "ipython2",
   "version": "2.7.9"
  }
 },
 "nbformat": 4,
 "nbformat_minor": 0
}
